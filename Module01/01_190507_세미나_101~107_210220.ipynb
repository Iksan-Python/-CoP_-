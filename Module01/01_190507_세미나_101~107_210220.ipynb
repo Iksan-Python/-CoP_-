{
 "cells": [
  {
   "cell_type": "markdown",
   "metadata": {},
   "source": [
    "# 101 수업 진행 -  2일(14시간)"
   ]
  },
  {
   "cell_type": "markdown",
   "metadata": {},
   "source": [
    "> ### 빅데이터 분석 및 머신러닝을 위한 파이썬"
   ]
  },
  {
   "cell_type": "markdown",
   "metadata": {},
   "source": [
    "### Lecture01\n",
    "- 프로그램밍 일반\n",
    "- 파이썬 이론 및 실습\n",
    "\n",
    "### Lecture02\n",
    "- 파이썬 패키지 활용\n",
    "- numpy\n",
    "\n",
    "###  참고\n",
    "- 파이썬 패키지를 이용한 데이터 분석, 머신러닝 개념 설명 및 실습\n",
    "- pandas, matplotlib, scikit-learn, keras, konlpy, etc"
   ]
  },
  {
   "cell_type": "markdown",
   "metadata": {},
   "source": [
    "---"
   ]
  },
  {
   "cell_type": "markdown",
   "metadata": {},
   "source": [
    "# 1. 파이썬 프로그래밍 소개"
   ]
  },
  {
   "cell_type": "markdown",
   "metadata": {},
   "source": [
    "### 1.1 파이썬 언어 소개 및 역사\n",
    "- 파이썬은 널리 쓰이는 범용, 고급 언어이다. 파이썬의 설계 철학은 코드 가독성에 중점을 두고 있으며 파이썬의 문법은 프로그래머가(C와 같은 언어에서 표현 가능한 것보다도) 더 적은 코드로도 자신의 생각을 표현하도록 한다. 파이썬은 프로그램의 크기에 상관없이 명확하게 프로그램 할 수 있는 구성 요소들을 제공한다. - 위키피디아\n",
    "- 1991년 네덜랜드 국립 연구소의 Guido Van Rossum에 의해 발표 (현 2018년, 27년의 역사)\n",
    "- “Python“이라는 이름은 코메디 프로그램 “Monty Python’s Flying Circus”에서 유래\n",
    "- Python의 원래 의미는 그리스 신화에 나오는 거대한 뱀\n",
    "- 2000년 Python 2 발표\n",
    "- 2008년 Python 3 발표\n",
    "    - Python 2의 경우 2020년까지만 Maintenance가 이루어질 예정"
   ]
  },
  {
   "cell_type": "markdown",
   "metadata": {},
   "source": [
    "### 1.2 파이썬 비교\n",
    "- 파이썬 vs 펄  \n",
    "- 파이썬 vs 자바  \n",
    "- 파이썬 vs R  "
   ]
  },
  {
   "cell_type": "markdown",
   "metadata": {},
   "source": [
    "### 1.3 프로그램 언어 일반\n",
    "- 컴퓨터가 돌아가는 구조 와 프로그램의 역할  \n",
    "- 파이썬의 위치(하나의 프로그램)  \n",
    "- 입력 --> 처리 --> 출력"
   ]
  },
  {
   "cell_type": "markdown",
   "metadata": {},
   "source": [
    "### 1.4 파이썬 언어의 특징\n",
    "- 고급 프로그래밍 언어  \n",
    "- 인터프리터 방식의 언어( vs 컴파일러 )  \n",
    "- 인터랙티브 쉘(계산기, cmd, bash, ...)  \n",
    "- 객체지향 언어  \n",
    "- 독립적인 실행 환경 제공  "
   ]
  },
  {
   "cell_type": "markdown",
   "metadata": {},
   "source": [
    "#### <참고> 실행방식에 따른 분류"
   ]
  },
  {
   "cell_type": "markdown",
   "metadata": {},
   "source": [
    "<center>구분|<center>인터프리터 방식|<center>컴파일러 방식\n",
    ":----:|:----|:----\n",
    "장점|프로그램의 이식성이 높다|실행속도가 빠르다\n",
    "&nbsp;|배우기 쉽다|효율적인 실행 코드가 생성된다\n",
    "단점|실행속도가 느리다|배우기 어렵다\n",
    "&nbsp;|실행시 인터프리터가 항상 필요하다|OS에 종속적이다(실행코드의 이식성이 없다)\n",
    "예|파이썬, 자바스크립트, 쉘스크립트 등|C, C++, Fortran 등"
   ]
  },
  {
   "cell_type": "markdown",
   "metadata": {},
   "source": [
    "#### <참고> 프로그래밍 언어의 분류"
   ]
  },
  {
   "cell_type": "markdown",
   "metadata": {},
   "source": [
    "<center>구분|<center>저급 프로그래밍 언어|<center>고급 프로그래밍 언어\n",
    ":---:|:---|:---\n",
    "장점|컴퓨터가 직접 이해하므로 실행이 빠르고 강력하다|사람이 이해하기 쉬우므로 프로그램의 작성이 쉽고 작성된 프로그램이 읽기 쉽다\n",
    "&nbsp;|시스템을 세부적으로 조작 할 수 있다|오류의 수정이 쉽다\n",
    "단점|사람이 이해하기 어려우며 사용이 어렵다|저급 프로그래밍 언어에 비해 실행 속도가 느리다\n",
    "&nbsp;|사용범위가 제한적이다|번역이라는 추가 작업이 필요하다\n",
    "예|기계어, 어셈블리어|C, C++, JAVA, Python, PHP, C# 등"
   ]
  },
  {
   "cell_type": "markdown",
   "metadata": {},
   "source": [
    "### 1.5 파이썬 패키지(Library) 구조 및 사용\n",
    "- 패키지(Library), Framework의 차이\n",
    "- 파이썬의 한계와 C 라이브러리를 통한 극복\n",
    "- 대부분 C, C++ 로 작성  "
   ]
  },
  {
   "cell_type": "markdown",
   "metadata": {},
   "source": [
    "### 1.6 패키지 인스톨\n",
    "- 소스 컴파일  \n",
    "- 바이너리 인스톨  \n",
    "- pip(cmd 명령어)  \n",
    "    - Python Package Index (PyPI) 패키지 관리자"
   ]
  },
  {
   "cell_type": "markdown",
   "metadata": {},
   "source": [
    "### 1.7 개발환경\n",
    "- Terminal, Editor\n",
    "- IPython, jupyter notebook, Anaconda, ...\n",
    "- jupyter notebook  "
   ]
  },
  {
   "cell_type": "markdown",
   "metadata": {},
   "source": [
    "#### <참고> 소프트웨어 다운로드 및 설치\n",
    "\n",
    "[파이썬 다운로드](https://www.python.org/downloads/)\n",
    "\n",
    "[아나콘다 버전별 다운로드](https://repo.anaconda.com/archive/)\n",
    "\n",
    "python 3.6 ==> Anaconda3-5.2.0-Linux-x86_64.sh  \n",
    "<br>\n",
    "**주의: 설치시 환경변수( PATH ) 설정**"
   ]
  },
  {
   "cell_type": "markdown",
   "metadata": {},
   "source": [
    "---"
   ]
  },
  {
   "cell_type": "markdown",
   "metadata": {},
   "source": [
    "# 2. 파이썬 활용"
   ]
  },
  {
   "cell_type": "markdown",
   "metadata": {},
   "source": [
    "### 2.1 파이썬은 각 분야에서 활용\n",
    "- 스크립트, 시스템프로그램, 네트위크 프로그램, 웹, 데이터분석, 머신러닝 등\n",
    "- 처음부터 다 만들기보다는 패키지를 이용(단 학습필요)"
   ]
  },
  {
   "cell_type": "markdown",
   "metadata": {},
   "source": [
    "### 2.2 데이터분석에서 쓰는 파이썬\n",
    "- 전통적인 의미의 프로그램은 아님\n",
    "- 프로그램의 일부만 이용\n",
    "- 에러처리, 로그 등이 없어도 관계없음\n",
    "- 직접 눈으로 보면서 확인, 인터렉티브 쉘"
   ]
  },
  {
   "cell_type": "markdown",
   "metadata": {},
   "source": [
    "---"
   ]
  },
  {
   "cell_type": "markdown",
   "metadata": {},
   "source": [
    "# 3. Jupyter notebook 활용"
   ]
  },
  {
   "cell_type": "markdown",
   "metadata": {},
   "source": [
    "### 3.1 Cell\n",
    "- Code: 파이썬 코드를 실행할 수 있는 블럭\n",
    "- Markdown: 마크다운 문법이 적용되는 블럭"
   ]
  },
  {
   "cell_type": "markdown",
   "metadata": {},
   "source": [
    "### 3.2 Mode\n",
    "- Edit Mode\n",
    "  - 셀 안의 내용을 편집할 수 있는 상태\n",
    "  - 셀 위에서 Enter 키를 눌러 셀 내용을 편집할 수 있다.  \n",
    "<br>\n",
    "- Command Mode\n",
    "  - 셀 밖에서 해당 노트북을 명령어로 컨트롤할 수 있는 상태\n",
    "  - 셀 위에서 ESC 키를 눌러 명령을 내릴 수 있다.\n",
    "  - `h`를 눌러 도움말을 볼 수 있다."
   ]
  },
  {
   "cell_type": "markdown",
   "metadata": {},
   "source": [
    "---"
   ]
  },
  {
   "cell_type": "markdown",
   "metadata": {},
   "source": [
    "# 기타"
   ]
  },
  {
   "cell_type": "markdown",
   "metadata": {},
   "source": [
    "### 코딩규약\n",
    "- 주석\n",
    "- 들여쓰기\n",
    "- 상수명, 변수명, 함수명, 클래스명"
   ]
  },
  {
   "cell_type": "markdown",
   "metadata": {},
   "source": [
    "```python\n",
    "# 상수\n",
    "MAX_CNT = 3\n",
    "\n",
    "# 변수\n",
    "val_i = 1\n",
    "_val, __val\n",
    "\n",
    "# Function\n",
    "def f_a():\n",
    "    return"
   ]
  },
  {
   "cell_type": "markdown",
   "metadata": {},
   "source": [
    "```python\n",
    "# 상수\n",
    "MAX_CNT = 3\n",
    "\n",
    "# 변수\n",
    "val_i = 1\n",
    "_val, __val\n",
    "\n",
    "# Function\n",
    "def f_a():\n",
    "    return\n",
    "\n",
    "# Class\n",
    "Car, SportCar, Student\n",
    "```\n"
   ]
  },
  {
   "cell_type": "markdown",
   "metadata": {},
   "source": [
    "---"
   ]
  },
  {
   "cell_type": "code",
   "execution_count": 58,
   "metadata": {},
   "outputs": [],
   "source": [
    "# end of file"
   ]
  },
  {
   "cell_type": "markdown",
   "metadata": {},
   "source": [
    "# 102. 파이썬 데이터 타입 및 변수"
   ]
  },
  {
   "cell_type": "markdown",
   "metadata": {},
   "source": [
    "### 1.1 변수 및 대입\n",
    "- variable\n",
    "- structure\n",
    "- class"
   ]
  },
  {
   "cell_type": "markdown",
   "metadata": {},
   "source": [
    "### 1.2 데이터 타입 종류"
   ]
  },
  {
   "cell_type": "markdown",
   "metadata": {},
   "source": [
    "<center>타 입|<center>설 명|<center>예\n",
    ":---|:---|:---\n",
    "int|정수형 데이터|100\n",
    "float|소숫점을 포함한 실수|10.25\n",
    "bool|참/거짓|True\n",
    "str|문자열|'LG Electronics'\n",
    "list|리스트, 순서가 있는 배열, 수정/추가/삭제가 가능한 자료 구조|[1, 2, 3, 'a', 'b']\n",
    "tuple|튜플, 순서가 있는 배열, 수정/추가/삭제가 불가능한 자료 구조|(1, 2, 3, 'a', 'b')\n",
    "dict|사전, {key: value}로 구성되어있는 자료 구조|{'Math': 99, 'English': 88, 'Korean': 78}\n",
    "set|집합, {key}로 구성되어있는 자료 구조|{'a', 'b', 'c'}\n",
    "\n",
    "<참고> None Type"
   ]
  },
  {
   "cell_type": "markdown",
   "metadata": {},
   "source": [
    "### 1.3 정수(int) 타입\n",
    "- 10진수\n",
    "- 2진수\n",
    "- 8진수\n",
    "- 16진수"
   ]
  },
  {
   "cell_type": "code",
   "execution_count": 59,
   "metadata": {},
   "outputs": [],
   "source": [
    "# 10진수\n",
    "a = 365"
   ]
  },
  {
   "cell_type": "code",
   "execution_count": 60,
   "metadata": {},
   "outputs": [],
   "source": [
    "# 2진수\n",
    "b = 0b101101101"
   ]
  },
  {
   "cell_type": "code",
   "execution_count": 61,
   "metadata": {},
   "outputs": [],
   "source": [
    "# 8진수\n",
    "c = 0o555"
   ]
  },
  {
   "cell_type": "code",
   "execution_count": 62,
   "metadata": {},
   "outputs": [],
   "source": [
    "# 16진수\n",
    "d = 0x16d"
   ]
  },
  {
   "cell_type": "code",
   "execution_count": null,
   "metadata": {},
   "outputs": [],
   "source": []
  },
  {
   "cell_type": "markdown",
   "metadata": {},
   "source": [
    "### 1.4 실수(float) 타입"
   ]
  },
  {
   "cell_type": "code",
   "execution_count": 63,
   "metadata": {},
   "outputs": [],
   "source": [
    "fa = 3.14"
   ]
  },
  {
   "cell_type": "code",
   "execution_count": 64,
   "metadata": {},
   "outputs": [],
   "source": [
    "fb = 3.1415e2"
   ]
  },
  {
   "cell_type": "code",
   "execution_count": null,
   "metadata": {},
   "outputs": [],
   "source": []
  },
  {
   "cell_type": "markdown",
   "metadata": {},
   "source": [
    "### 1.5 불린(boolean) 타입"
   ]
  },
  {
   "cell_type": "code",
   "execution_count": 65,
   "metadata": {},
   "outputs": [],
   "source": [
    "ba = True"
   ]
  },
  {
   "cell_type": "code",
   "execution_count": 66,
   "metadata": {},
   "outputs": [],
   "source": [
    "bb = False"
   ]
  },
  {
   "cell_type": "code",
   "execution_count": 67,
   "metadata": {},
   "outputs": [
    {
     "data": {
      "text/plain": [
       "False"
      ]
     },
     "execution_count": 67,
     "metadata": {},
     "output_type": "execute_result"
    }
   ],
   "source": [
    "ba and bb"
   ]
  },
  {
   "cell_type": "code",
   "execution_count": null,
   "metadata": {},
   "outputs": [],
   "source": []
  },
  {
   "cell_type": "markdown",
   "metadata": {},
   "source": [
    "### 1.6 문자열(str) 타입"
   ]
  },
  {
   "cell_type": "code",
   "execution_count": 68,
   "metadata": {},
   "outputs": [],
   "source": [
    "# 문자열 생성\n",
    "sa = 'Hello World'\n",
    "sb = 'one way of writing a string'"
   ]
  },
  {
   "cell_type": "code",
   "execution_count": 69,
   "metadata": {},
   "outputs": [],
   "source": [
    "sc = \"another way\""
   ]
  },
  {
   "cell_type": "code",
   "execution_count": 70,
   "metadata": {},
   "outputs": [],
   "source": [
    "sd = '''\n",
    "This is a longer string that\n",
    "spans multiple lines\n",
    "'''"
   ]
  },
  {
   "cell_type": "code",
   "execution_count": 71,
   "metadata": {},
   "outputs": [],
   "source": [
    "se = '''\n",
    "This is a longer string that\n",
    "spnas multiple lines\n",
    "'''"
   ]
  },
  {
   "cell_type": "code",
   "execution_count": 72,
   "metadata": {},
   "outputs": [
    {
     "name": "stdout",
     "output_type": "stream",
     "text": [
      "\n",
      "This is a longer string that\n",
      "spnas multiple lines\n",
      "\n"
     ]
    }
   ],
   "source": [
    "print(se)"
   ]
  },
  {
   "cell_type": "code",
   "execution_count": 73,
   "metadata": {},
   "outputs": [
    {
     "name": "stdout",
     "output_type": "stream",
     "text": [
      "\n",
      "This is a longer string that\n",
      "spans multiple lines\n",
      "\n"
     ]
    }
   ],
   "source": [
    "print(sd)"
   ]
  },
  {
   "cell_type": "code",
   "execution_count": 74,
   "metadata": {},
   "outputs": [
    {
     "data": {
      "text/plain": [
       "3"
      ]
     },
     "execution_count": 74,
     "metadata": {},
     "output_type": "execute_result"
    }
   ],
   "source": [
    "# 문자열 카운트\n",
    "\n",
    "# 문자열, string\n",
    "\n",
    "sd.count('\\n')"
   ]
  },
  {
   "cell_type": "code",
   "execution_count": 75,
   "metadata": {},
   "outputs": [
    {
     "data": {
      "text/plain": [
       "3"
      ]
     },
     "execution_count": 75,
     "metadata": {},
     "output_type": "execute_result"
    }
   ],
   "source": [
    "se.count('\\n')"
   ]
  },
  {
   "cell_type": "code",
   "execution_count": 76,
   "metadata": {},
   "outputs": [
    {
     "data": {
      "text/plain": [
       "3"
      ]
     },
     "execution_count": 76,
     "metadata": {},
     "output_type": "execute_result"
    }
   ],
   "source": [
    "se.count('\\n')"
   ]
  },
  {
   "cell_type": "code",
   "execution_count": 77,
   "metadata": {},
   "outputs": [],
   "source": [
    "a = 'this is a string!!'\n",
    "# a[10] = 'f'"
   ]
  },
  {
   "cell_type": "code",
   "execution_count": 78,
   "metadata": {},
   "outputs": [
    {
     "data": {
      "text/plain": [
       "'this is a longer string!!'"
      ]
     },
     "execution_count": 78,
     "metadata": {},
     "output_type": "execute_result"
    }
   ],
   "source": [
    "b = a.replace('string', 'longer string')\n",
    "b"
   ]
  },
  {
   "cell_type": "code",
   "execution_count": 79,
   "metadata": {},
   "outputs": [],
   "source": [
    "b = a.replace('string', 'longer string')"
   ]
  },
  {
   "cell_type": "code",
   "execution_count": 80,
   "metadata": {},
   "outputs": [
    {
     "ename": "TypeError",
     "evalue": "'str' object does not support item assignment",
     "output_type": "error",
     "traceback": [
      "\u001b[1;31m---------------------------------------------------------------------------\u001b[0m",
      "\u001b[1;31mTypeError\u001b[0m                                 Traceback (most recent call last)",
      "\u001b[1;32m<ipython-input-80-3366d93c90d0>\u001b[0m in \u001b[0;36m<module>\u001b[1;34m\u001b[0m\n\u001b[0;32m      1\u001b[0m \u001b[1;31m# 문자열 수정\u001b[0m\u001b[1;33m\u001b[0m\u001b[1;33m\u001b[0m\u001b[1;33m\u001b[0m\u001b[0m\n\u001b[0;32m      2\u001b[0m \u001b[0ma\u001b[0m \u001b[1;33m=\u001b[0m \u001b[1;34m'this is a string'\u001b[0m\u001b[1;33m\u001b[0m\u001b[1;33m\u001b[0m\u001b[0m\n\u001b[1;32m----> 3\u001b[1;33m \u001b[0ma\u001b[0m\u001b[1;33m[\u001b[0m\u001b[1;36m10\u001b[0m\u001b[1;33m]\u001b[0m \u001b[1;33m=\u001b[0m \u001b[1;34m'f'\u001b[0m    \u001b[1;31m# 문자열 수정 불가\u001b[0m\u001b[1;33m\u001b[0m\u001b[1;33m\u001b[0m\u001b[0m\n\u001b[0m\u001b[0;32m      4\u001b[0m \u001b[0mb\u001b[0m \u001b[1;33m=\u001b[0m \u001b[0ma\u001b[0m\u001b[1;33m.\u001b[0m\u001b[0mreplace\u001b[0m\u001b[1;33m(\u001b[0m\u001b[1;34m'string'\u001b[0m\u001b[1;33m,\u001b[0m \u001b[1;34m'longer string'\u001b[0m\u001b[1;33m)\u001b[0m\u001b[1;33m\u001b[0m\u001b[1;33m\u001b[0m\u001b[0m\n\u001b[0;32m      5\u001b[0m \u001b[0mb\u001b[0m\u001b[1;33m\u001b[0m\u001b[1;33m\u001b[0m\u001b[0m\n",
      "\u001b[1;31mTypeError\u001b[0m: 'str' object does not support item assignment"
     ]
    }
   ],
   "source": [
    "# 문자열 수정\n",
    "a = 'this is a string'\n",
    "a[10] = 'f'    # 문자열 수정 불가\n",
    "b = a.replace('string', 'longer string')\n",
    "b"
   ]
  },
  {
   "cell_type": "code",
   "execution_count": 1,
   "metadata": {},
   "outputs": [
    {
     "name": "stdout",
     "output_type": "stream",
     "text": [
      "5.6\n"
     ]
    }
   ],
   "source": [
    "# type 변경\n",
    "\n",
    "# float : 소숫점을 포함한 실수\n",
    "# float 을 string 으로 type 변경\n",
    "\n",
    "a = 5.6\n",
    "s = str(a)\n",
    "print(s)"
   ]
  },
  {
   "cell_type": "code",
   "execution_count": 2,
   "metadata": {},
   "outputs": [
    {
     "data": {
      "text/plain": [
       "'5.6'"
      ]
     },
     "execution_count": 2,
     "metadata": {},
     "output_type": "execute_result"
    }
   ],
   "source": [
    "# type 변경\n",
    "\n",
    "a = 5.6\n",
    "s = str(a)\n",
    "s"
   ]
  },
  {
   "cell_type": "markdown",
   "metadata": {},
   "source": [
    "- print(s) 와 s 는 출력결과가 다름"
   ]
  },
  {
   "cell_type": "code",
   "execution_count": 3,
   "metadata": {},
   "outputs": [
    {
     "name": "stdout",
     "output_type": "stream",
     "text": [
      "12\\34\n",
      "this\\has\\no\\special\\characters\n"
     ]
    }
   ],
   "source": [
    "# Escape 문자\n",
    "# \\n \\t \\\\ \\' \\\" etc\n",
    "s = '12\\\\34'\n",
    "print(s)\n",
    "\n",
    "se = r'this\\has\\no\\special\\characters'\n",
    "print(se)"
   ]
  },
  {
   "cell_type": "code",
   "execution_count": 4,
   "metadata": {},
   "outputs": [
    {
     "name": "stdout",
     "output_type": "stream",
     "text": [
      "12//34\n"
     ]
    }
   ],
   "source": [
    "s = '12//34'\n",
    "print(s)"
   ]
  },
  {
   "cell_type": "code",
   "execution_count": 5,
   "metadata": {},
   "outputs": [
    {
     "name": "stdout",
     "output_type": "stream",
     "text": [
      "this\\has\\no\\special\\characters\n"
     ]
    }
   ],
   "source": [
    "se = r'this\\has\\no\\special\\characters'\n",
    "print(se)"
   ]
  },
  {
   "cell_type": "code",
   "execution_count": 6,
   "metadata": {},
   "outputs": [
    {
     "data": {
      "text/plain": [
       "'12//34'"
      ]
     },
     "execution_count": 6,
     "metadata": {},
     "output_type": "execute_result"
    }
   ],
   "source": [
    "s = '12//34'\n",
    "s"
   ]
  },
  {
   "cell_type": "code",
   "execution_count": 7,
   "metadata": {},
   "outputs": [
    {
     "data": {
      "text/plain": [
       "'this is the first half and this is the second half'"
      ]
     },
     "execution_count": 7,
     "metadata": {},
     "output_type": "execute_result"
    }
   ],
   "source": [
    "# 문자열 연산\n",
    "a = 'this is the first half '\n",
    "b = 'and this is the second half'\n",
    "a + b"
   ]
  },
  {
   "cell_type": "code",
   "execution_count": 8,
   "metadata": {},
   "outputs": [
    {
     "data": {
      "text/plain": [
       "'=================================================='"
      ]
     },
     "execution_count": 8,
     "metadata": {},
     "output_type": "execute_result"
    }
   ],
   "source": [
    "# 문자열 연산\n",
    "a = '='\n",
    "a * 50"
   ]
  },
  {
   "cell_type": "code",
   "execution_count": 9,
   "metadata": {},
   "outputs": [
    {
     "data": {
      "text/plain": [
       "'=================================================='"
      ]
     },
     "execution_count": 9,
     "metadata": {},
     "output_type": "execute_result"
    }
   ],
   "source": [
    "a = '='\n",
    "a * 50"
   ]
  },
  {
   "cell_type": "code",
   "execution_count": 10,
   "metadata": {},
   "outputs": [
    {
     "data": {
      "text/html": [
       "<div>\n",
       "<style scoped>\n",
       "    .dataframe tbody tr th:only-of-type {\n",
       "        vertical-align: middle;\n",
       "    }\n",
       "\n",
       "    .dataframe tbody tr th {\n",
       "        vertical-align: top;\n",
       "    }\n",
       "\n",
       "    .dataframe thead th {\n",
       "        text-align: right;\n",
       "    }\n",
       "</style>\n",
       "<table border=\"1\" class=\"dataframe\">\n",
       "  <thead>\n",
       "    <tr style=\"text-align: right;\">\n",
       "      <th></th>\n",
       "      <th>Country</th>\n",
       "      <th>Region</th>\n",
       "    </tr>\n",
       "  </thead>\n",
       "  <tbody>\n",
       "    <tr>\n",
       "      <th>0</th>\n",
       "      <td>Algeria</td>\n",
       "      <td>AFRICA</td>\n",
       "    </tr>\n",
       "    <tr>\n",
       "      <th>1</th>\n",
       "      <td>Angola</td>\n",
       "      <td>AFRICA</td>\n",
       "    </tr>\n",
       "    <tr>\n",
       "      <th>2</th>\n",
       "      <td>Benin</td>\n",
       "      <td>AFRICA</td>\n",
       "    </tr>\n",
       "    <tr>\n",
       "      <th>3</th>\n",
       "      <td>Botswana</td>\n",
       "      <td>AFRICA</td>\n",
       "    </tr>\n",
       "    <tr>\n",
       "      <th>4</th>\n",
       "      <td>Burkina</td>\n",
       "      <td>AFRICA</td>\n",
       "    </tr>\n",
       "    <tr>\n",
       "      <th>5</th>\n",
       "      <td>Burundi</td>\n",
       "      <td>AFRICA</td>\n",
       "    </tr>\n",
       "    <tr>\n",
       "      <th>6</th>\n",
       "      <td>Cameroon</td>\n",
       "      <td>AFRICA</td>\n",
       "    </tr>\n",
       "    <tr>\n",
       "      <th>7</th>\n",
       "      <td>Cape Verde</td>\n",
       "      <td>AFRICA</td>\n",
       "    </tr>\n",
       "    <tr>\n",
       "      <th>8</th>\n",
       "      <td>Central African Republic</td>\n",
       "      <td>AFRICA</td>\n",
       "    </tr>\n",
       "    <tr>\n",
       "      <th>9</th>\n",
       "      <td>Chad</td>\n",
       "      <td>AFRICA</td>\n",
       "    </tr>\n",
       "  </tbody>\n",
       "</table>\n",
       "</div>"
      ],
      "text/plain": [
       "                    Country  Region\n",
       "0                   Algeria  AFRICA\n",
       "1                    Angola  AFRICA\n",
       "2                     Benin  AFRICA\n",
       "3                  Botswana  AFRICA\n",
       "4                   Burkina  AFRICA\n",
       "5                   Burundi  AFRICA\n",
       "6                  Cameroon  AFRICA\n",
       "7                Cape Verde  AFRICA\n",
       "8  Central African Republic  AFRICA\n",
       "9                      Chad  AFRICA"
      ]
     },
     "execution_count": 10,
     "metadata": {},
     "output_type": "execute_result"
    }
   ],
   "source": [
    "import pandas as pd \n",
    " \n",
    "url=\"https://raw.githubusercontent.com/cs109/2014_data/master/countries.csv\" \n",
    "pd.read_csv(url, nrows=10)"
   ]
  },
  {
   "cell_type": "code",
   "execution_count": 11,
   "metadata": {},
   "outputs": [],
   "source": [
    "# import matplotlib.pyplot as plt \n",
    "# plt.plot([1,2,3,4]) \n",
    "# plt.ylabel('some numbers') \n",
    "# plt.show() "
   ]
  },
  {
   "cell_type": "code",
   "execution_count": 12,
   "metadata": {},
   "outputs": [
    {
     "name": "stdout",
     "output_type": "stream",
     "text": [
      "20010331\n",
      "Rainy\n"
     ]
    }
   ],
   "source": [
    "# Slicing\n",
    "a = \"20010331Rainy\"\n",
    "print(a[:8])\n",
    "print(a[8:])\n",
    "# a 변수의 9번째부터 출력하라"
   ]
  },
  {
   "cell_type": "code",
   "execution_count": 13,
   "metadata": {},
   "outputs": [],
   "source": [
    "template = '{0:.2f} {1:s} are worth US${2:d}'"
   ]
  },
  {
   "cell_type": "code",
   "execution_count": 14,
   "metadata": {},
   "outputs": [
    {
     "data": {
      "text/plain": [
       "'4.56 Argentine Pesos are worth US$1'"
      ]
     },
     "execution_count": 14,
     "metadata": {},
     "output_type": "execute_result"
    }
   ],
   "source": [
    "template.format(4.5560, 'Argentine Pesos', 1)"
   ]
  },
  {
   "cell_type": "code",
   "execution_count": 15,
   "metadata": {},
   "outputs": [],
   "source": [
    "# 문자열 format\n",
    "template = '{0:.2f} {1:s} are worth US${2:d}'"
   ]
  },
  {
   "cell_type": "code",
   "execution_count": 16,
   "metadata": {},
   "outputs": [
    {
     "data": {
      "text/plain": [
       "'4.56 Argentine Pesos are worth US$1'"
      ]
     },
     "execution_count": 16,
     "metadata": {},
     "output_type": "execute_result"
    }
   ],
   "source": [
    "template.format(4.5560, 'Argentine Pesos', 1)"
   ]
  },
  {
   "cell_type": "code",
   "execution_count": 17,
   "metadata": {},
   "outputs": [
    {
     "data": {
      "text/plain": [
       "'a,b,c,d'"
      ]
     },
     "execution_count": 17,
     "metadata": {},
     "output_type": "execute_result"
    }
   ],
   "source": [
    "# 문자열 합치기\n",
    "\",\".join('abcd')\n",
    "\",\".join(['a','b','c','d'])"
   ]
  },
  {
   "cell_type": "code",
   "execution_count": 18,
   "metadata": {},
   "outputs": [
    {
     "data": {
      "text/plain": [
       "['a', 'b', 'c', 'd']"
      ]
     },
     "execution_count": 18,
     "metadata": {},
     "output_type": "execute_result"
    }
   ],
   "source": [
    "# 문자열 나누기\n",
    "a = \"a:b:c:d\"\n",
    "a.split(':')"
   ]
  },
  {
   "cell_type": "code",
   "execution_count": 19,
   "metadata": {},
   "outputs": [
    {
     "data": {
      "text/plain": [
       "'hi'"
      ]
     },
     "execution_count": 19,
     "metadata": {},
     "output_type": "execute_result"
    }
   ],
   "source": [
    "# Strip\n",
    "a = \" hi \"\n",
    "a.rstrip()\n",
    "a.lstrip()\n",
    "a.strip()"
   ]
  },
  {
   "cell_type": "code",
   "execution_count": 20,
   "metadata": {},
   "outputs": [
    {
     "name": "stdout",
     "output_type": "stream",
     "text": [
      " HI \n",
      " hi \n"
     ]
    }
   ],
   "source": [
    "# upper(), lower()\n",
    "a = \" Hi \"\n",
    "print(a.upper())\n",
    "print(a.lower())"
   ]
  },
  {
   "cell_type": "code",
   "execution_count": 21,
   "metadata": {},
   "outputs": [
    {
     "name": "stdout",
     "output_type": "stream",
     "text": [
      " HI \n",
      " hi \n"
     ]
    }
   ],
   "source": [
    "# upper(), lower()\n",
    "a = \" Hi \"\n",
    "\n",
    "print(a.upper())\n",
    "print(a.lower())"
   ]
  },
  {
   "cell_type": "markdown",
   "metadata": {},
   "source": [
    "#### 자주 사용하는 문자열 메소드"
   ]
  },
  {
   "cell_type": "markdown",
   "metadata": {},
   "source": [
    "<center>메소드|<center>설 명\n",
    ":---|:---\n",
    "문자열.startswith(prefix)|문자열이 prefix로 시작하는지 검사하여 True/False 반환\n",
    "문자열.endswith(suffix)|문자열이 suffix로 끝나는지 검사하여 True/False 반환\n",
    "문자열.format(value)|문자열의 특정 값을 value로 치환한다.\n",
    "문자열.replace(old, new)|s에 있는 old를 new로 바꾼다.\n",
    "문자열.split(sep)|sep를 구분자로 하여 문자열을 분할한다.\n",
    "문자열.strip(chars)|앞이나 뒤에 나오는 공백이나 chars로 지정된 문자들을 제거한다."
   ]
  },
  {
   "cell_type": "markdown",
   "metadata": {
    "hide_input": false
   },
   "source": [
    "\n",
    "### <참고>\n",
    "- ASCII CODE\n",
    "- UNICODE"
   ]
  },
  {
   "cell_type": "markdown",
   "metadata": {},
   "source": [
    "- utf-8\n",
    "- cp949"
   ]
  },
  {
   "cell_type": "code",
   "execution_count": null,
   "metadata": {},
   "outputs": [],
   "source": []
  },
  {
   "cell_type": "markdown",
   "metadata": {},
   "source": [
    "### 1.7 리스트(list) 타입"
   ]
  },
  {
   "cell_type": "code",
   "execution_count": 22,
   "metadata": {},
   "outputs": [],
   "source": [
    "# 리스트 생성\n",
    "a = list()\n",
    "a = []\n",
    "b = [1, 2, 3, 4, 5]\n",
    "c = ['aaa', 'bbb', 'ccc']\n",
    "d = [1, 2, 'aaa', 'bbb']\n",
    "e = [1, 2, ['aaa', 'bbb']]"
   ]
  },
  {
   "cell_type": "code",
   "execution_count": 23,
   "metadata": {},
   "outputs": [],
   "source": [
    "# 인덱싱 & 슬라이싱\n",
    "a = [1,2,3,4,5,['a','b','c','d'],7,8,9]"
   ]
  },
  {
   "cell_type": "code",
   "execution_count": 24,
   "metadata": {},
   "outputs": [
    {
     "data": {
      "text/plain": [
       "1"
      ]
     },
     "execution_count": 24,
     "metadata": {},
     "output_type": "execute_result"
    }
   ],
   "source": [
    "a[0]"
   ]
  },
  {
   "cell_type": "code",
   "execution_count": 25,
   "metadata": {},
   "outputs": [
    {
     "data": {
      "text/plain": [
       "2"
      ]
     },
     "execution_count": 25,
     "metadata": {},
     "output_type": "execute_result"
    }
   ],
   "source": [
    "a[1]"
   ]
  },
  {
   "cell_type": "code",
   "execution_count": 26,
   "metadata": {},
   "outputs": [
    {
     "data": {
      "text/plain": [
       "9"
      ]
     },
     "execution_count": 26,
     "metadata": {},
     "output_type": "execute_result"
    }
   ],
   "source": [
    "a[-1]"
   ]
  },
  {
   "cell_type": "code",
   "execution_count": 27,
   "metadata": {},
   "outputs": [
    {
     "data": {
      "text/plain": [
       "[1, 3]"
      ]
     },
     "execution_count": 27,
     "metadata": {},
     "output_type": "execute_result"
    }
   ],
   "source": [
    "a[0:4:2]"
   ]
  },
  {
   "cell_type": "code",
   "execution_count": 28,
   "metadata": {},
   "outputs": [
    {
     "data": {
      "text/plain": [
       "['a', 'b', 'c', 'd']"
      ]
     },
     "execution_count": 28,
     "metadata": {},
     "output_type": "execute_result"
    }
   ],
   "source": [
    "a[5]"
   ]
  },
  {
   "cell_type": "code",
   "execution_count": 29,
   "metadata": {},
   "outputs": [
    {
     "data": {
      "text/plain": [
       "'c'"
      ]
     },
     "execution_count": 29,
     "metadata": {},
     "output_type": "execute_result"
    }
   ],
   "source": [
    "a[5][2]"
   ]
  },
  {
   "cell_type": "code",
   "execution_count": 30,
   "metadata": {},
   "outputs": [],
   "source": [
    "# pointer\n",
    "b = a[5]\n",
    "b[0] = 'k'"
   ]
  },
  {
   "cell_type": "code",
   "execution_count": 31,
   "metadata": {},
   "outputs": [
    {
     "data": {
      "text/plain": [
       "[1, 2, 3, 4, 5, ['k', 'b', 'c', 'd'], 7, 8, 9]"
      ]
     },
     "execution_count": 31,
     "metadata": {},
     "output_type": "execute_result"
    }
   ],
   "source": [
    "a"
   ]
  },
  {
   "cell_type": "code",
   "execution_count": 32,
   "metadata": {},
   "outputs": [
    {
     "data": {
      "text/plain": [
       "['k', 'm', 'c', 'd']"
      ]
     },
     "execution_count": 32,
     "metadata": {},
     "output_type": "execute_result"
    }
   ],
   "source": [
    "from copy import deepcopy\n",
    "c = deepcopy(a[5])\n",
    "c[1] = 'm'\n",
    "c"
   ]
  },
  {
   "cell_type": "code",
   "execution_count": 33,
   "metadata": {},
   "outputs": [
    {
     "data": {
      "text/plain": [
       "[1, 2, 3, 4, 5, ['k', 'b', 'c', 'd'], 7, 8, 9]"
      ]
     },
     "execution_count": 33,
     "metadata": {},
     "output_type": "execute_result"
    }
   ],
   "source": [
    "a"
   ]
  },
  {
   "cell_type": "code",
   "execution_count": 34,
   "metadata": {},
   "outputs": [
    {
     "data": {
      "text/plain": [
       "True"
      ]
     },
     "execution_count": 34,
     "metadata": {},
     "output_type": "execute_result"
    }
   ],
   "source": [
    "1 in a"
   ]
  },
  {
   "cell_type": "code",
   "execution_count": 35,
   "metadata": {},
   "outputs": [
    {
     "data": {
      "text/plain": [
       "False"
      ]
     },
     "execution_count": 35,
     "metadata": {},
     "output_type": "execute_result"
    }
   ],
   "source": [
    "1 not in a"
   ]
  },
  {
   "cell_type": "code",
   "execution_count": 36,
   "metadata": {},
   "outputs": [
    {
     "ename": "TypeError",
     "evalue": "unsupported operand type(s) for +: 'int' and 'str'",
     "output_type": "error",
     "traceback": [
      "\u001b[1;31m---------------------------------------------------------------------------\u001b[0m",
      "\u001b[1;31mTypeError\u001b[0m                                 Traceback (most recent call last)",
      "\u001b[1;32m<ipython-input-36-34bb79639225>\u001b[0m in \u001b[0;36m<module>\u001b[1;34m\u001b[0m\n\u001b[0;32m      1\u001b[0m \u001b[1;31m# function\u001b[0m\u001b[1;33m\u001b[0m\u001b[1;33m\u001b[0m\u001b[1;33m\u001b[0m\u001b[0m\n\u001b[0;32m      2\u001b[0m \u001b[0mlen\u001b[0m\u001b[1;33m(\u001b[0m\u001b[0ma\u001b[0m\u001b[1;33m)\u001b[0m\u001b[1;33m\u001b[0m\u001b[1;33m\u001b[0m\u001b[0m\n\u001b[1;32m----> 3\u001b[1;33m \u001b[0msum\u001b[0m\u001b[1;33m(\u001b[0m\u001b[0mb\u001b[0m\u001b[1;33m)\u001b[0m\u001b[1;33m\u001b[0m\u001b[1;33m\u001b[0m\u001b[0m\n\u001b[0m\u001b[0;32m      4\u001b[0m \u001b[0mmax\u001b[0m\u001b[1;33m(\u001b[0m\u001b[0mb\u001b[0m\u001b[1;33m)\u001b[0m\u001b[1;33m\u001b[0m\u001b[1;33m\u001b[0m\u001b[0m\n\u001b[0;32m      5\u001b[0m \u001b[0mmin\u001b[0m\u001b[1;33m(\u001b[0m\u001b[0mb\u001b[0m\u001b[1;33m)\u001b[0m\u001b[1;33m\u001b[0m\u001b[1;33m\u001b[0m\u001b[0m\n",
      "\u001b[1;31mTypeError\u001b[0m: unsupported operand type(s) for +: 'int' and 'str'"
     ]
    }
   ],
   "source": [
    "# function\n",
    "len(a)\n",
    "sum(b)\n",
    "max(b)\n",
    "min(b)\n",
    "\n",
    "del(a[0])\n",
    "\n",
    "# method\n",
    "a.append(10)\n",
    "a.sort(10)\n",
    "a.reverse(10)\n",
    "a.remove(10)\n",
    "a.count(10)"
   ]
  },
  {
   "cell_type": "code",
   "execution_count": 37,
   "metadata": {},
   "outputs": [
    {
     "data": {
      "text/plain": [
       "[1, 2, 3, 4, 5]"
      ]
     },
     "execution_count": 37,
     "metadata": {},
     "output_type": "execute_result"
    }
   ],
   "source": [
    "# extend()\n",
    "b = [1,2,3]\n",
    "b.extend([4,5])\n",
    "b"
   ]
  },
  {
   "cell_type": "markdown",
   "metadata": {},
   "source": [
    "**<참고> 함수의 인자로 자주 활용되는 리스트**"
   ]
  },
  {
   "cell_type": "code",
   "execution_count": null,
   "metadata": {},
   "outputs": [],
   "source": []
  },
  {
   "cell_type": "markdown",
   "metadata": {},
   "source": [
    "### 1.8 튜플(tuple) 타입"
   ]
  },
  {
   "cell_type": "code",
   "execution_count": 38,
   "metadata": {},
   "outputs": [],
   "source": [
    "# 튜플의 생성\n",
    "a = tuple()\n",
    "a = ()\n",
    "b = (1,)    # 마지막에 콤마 필요\n",
    "c = (1, 2, 3)\n",
    "d = 1, 2, 3 # packing & unpacking\n",
    "e = (1, 2, ('ab', 'cd'), 3, 4)"
   ]
  },
  {
   "cell_type": "markdown",
   "metadata": {},
   "source": [
    "**튜플은 수정 및 변경 불가**"
   ]
  },
  {
   "cell_type": "code",
   "execution_count": 39,
   "metadata": {},
   "outputs": [
    {
     "ename": "TypeError",
     "evalue": "'tuple' object does not support item assignment",
     "output_type": "error",
     "traceback": [
      "\u001b[1;31m---------------------------------------------------------------------------\u001b[0m",
      "\u001b[1;31mTypeError\u001b[0m                                 Traceback (most recent call last)",
      "\u001b[1;32m<ipython-input-39-83236818e3f2>\u001b[0m in \u001b[0;36m<module>\u001b[1;34m\u001b[0m\n\u001b[1;32m----> 1\u001b[1;33m \u001b[0mc\u001b[0m\u001b[1;33m[\u001b[0m\u001b[1;36m0\u001b[0m\u001b[1;33m]\u001b[0m \u001b[1;33m=\u001b[0m \u001b[1;36m9\u001b[0m\u001b[1;33m\u001b[0m\u001b[1;33m\u001b[0m\u001b[0m\n\u001b[0m",
      "\u001b[1;31mTypeError\u001b[0m: 'tuple' object does not support item assignment"
     ]
    }
   ],
   "source": [
    "c[0] = 9"
   ]
  },
  {
   "cell_type": "code",
   "execution_count": null,
   "metadata": {},
   "outputs": [],
   "source": [
    "del c[1]"
   ]
  },
  {
   "cell_type": "code",
   "execution_count": null,
   "metadata": {},
   "outputs": [],
   "source": [
    "# packing & unpacking\n",
    "x,y,z = (1,2,3)\n",
    "print(x,y,z)"
   ]
  },
  {
   "cell_type": "code",
   "execution_count": null,
   "metadata": {},
   "outputs": [],
   "source": [
    "def f_a():\n",
    "    return (4,5,6)"
   ]
  },
  {
   "cell_type": "code",
   "execution_count": null,
   "metadata": {},
   "outputs": [],
   "source": [
    "a,b,c = f_a()\n",
    "print(a,b,c)"
   ]
  },
  {
   "cell_type": "code",
   "execution_count": null,
   "metadata": {},
   "outputs": [],
   "source": [
    "x = 1\n",
    "y = 2\n",
    "\n",
    "print('Before: ', x, y)\n",
    "\n",
    "x, y = y, x\n",
    "\n",
    "print('After : ', x, y)"
   ]
  },
  {
   "cell_type": "code",
   "execution_count": null,
   "metadata": {},
   "outputs": [],
   "source": []
  },
  {
   "cell_type": "markdown",
   "metadata": {},
   "source": [
    "### 1.9 사전(dict) 타입"
   ]
  },
  {
   "cell_type": "code",
   "execution_count": null,
   "metadata": {},
   "outputs": [],
   "source": [
    "# 사전의 생성\n",
    "d = {1:'Hello World', 'class':'python', 'pi':3.14, 'lst':[1,2,3]}"
   ]
  },
  {
   "cell_type": "code",
   "execution_count": null,
   "metadata": {},
   "outputs": [],
   "source": [
    "d[1]\n",
    "d['class']\n",
    "d['pi']\n",
    "d['lst']"
   ]
  },
  {
   "cell_type": "code",
   "execution_count": null,
   "metadata": {},
   "outputs": [],
   "source": [
    "# 순차적인 Index 접근 불가\n",
    "# dict 순서는 hash 순서\n",
    "d[0]"
   ]
  },
  {
   "cell_type": "code",
   "execution_count": null,
   "metadata": {},
   "outputs": [],
   "source": [
    "d.get('x','default value')"
   ]
  },
  {
   "cell_type": "code",
   "execution_count": null,
   "metadata": {},
   "outputs": [],
   "source": [
    "# 사전 추가 & 삭제\n",
    "d['add'] = 'add value'\n",
    "del d['class']"
   ]
  },
  {
   "cell_type": "code",
   "execution_count": null,
   "metadata": {},
   "outputs": [],
   "source": [
    "d"
   ]
  },
  {
   "cell_type": "code",
   "execution_count": null,
   "metadata": {},
   "outputs": [],
   "source": [
    "# 수정 가능한 변수는 key 로 사용 불가\n",
    "dd = {[1,2,3]:'value'}"
   ]
  },
  {
   "cell_type": "code",
   "execution_count": null,
   "metadata": {},
   "outputs": [],
   "source": [
    "# keys(), values(), items()\n",
    "d.keys()\n",
    "d.values()\n",
    "d.items()"
   ]
  },
  {
   "cell_type": "code",
   "execution_count": null,
   "metadata": {},
   "outputs": [],
   "source": [
    "for k in d.keys():\n",
    "    print('key: ', k )"
   ]
  },
  {
   "cell_type": "code",
   "execution_count": null,
   "metadata": {},
   "outputs": [],
   "source": [
    "'pi' in d"
   ]
  },
  {
   "cell_type": "code",
   "execution_count": null,
   "metadata": {},
   "outputs": [],
   "source": [
    "d.clear()"
   ]
  },
  {
   "cell_type": "markdown",
   "metadata": {},
   "source": [
    "### 1.10 집합(set) 타입"
   ]
  },
  {
   "cell_type": "code",
   "execution_count": null,
   "metadata": {},
   "outputs": [],
   "source": [
    "# 집합의 생성\n",
    "s = set([1,2,3,4])\n",
    "\n",
    "x = {2,3,2,3,4,5,1}\n",
    "y = {3,4,5,6,7}"
   ]
  },
  {
   "cell_type": "code",
   "execution_count": null,
   "metadata": {},
   "outputs": [],
   "source": [
    "x"
   ]
  },
  {
   "cell_type": "code",
   "execution_count": null,
   "metadata": {},
   "outputs": [],
   "source": [
    "x | y    # 합집합\n",
    "# | 는 or "
   ]
  },
  {
   "cell_type": "code",
   "execution_count": null,
   "metadata": {},
   "outputs": [],
   "source": [
    "x & y    # 교집합"
   ]
  },
  {
   "cell_type": "code",
   "execution_count": 40,
   "metadata": {},
   "outputs": [
    {
     "ename": "NameError",
     "evalue": "name 'x' is not defined",
     "output_type": "error",
     "traceback": [
      "\u001b[1;31m---------------------------------------------------------------------------\u001b[0m",
      "\u001b[1;31mNameError\u001b[0m                                 Traceback (most recent call last)",
      "\u001b[1;32m<ipython-input-40-fe6dfdde9db0>\u001b[0m in \u001b[0;36m<module>\u001b[1;34m\u001b[0m\n\u001b[1;32m----> 1\u001b[1;33m \u001b[0mx\u001b[0m \u001b[1;33m-\u001b[0m \u001b[0my\u001b[0m    \u001b[1;31m# 차집합\u001b[0m\u001b[1;33m\u001b[0m\u001b[1;33m\u001b[0m\u001b[0m\n\u001b[0m",
      "\u001b[1;31mNameError\u001b[0m: name 'x' is not defined"
     ]
    }
   ],
   "source": [
    "x - y    # 차집합"
   ]
  },
  {
   "cell_type": "code",
   "execution_count": null,
   "metadata": {},
   "outputs": [],
   "source": [
    "x ^ y    # 대칭 차집합"
   ]
  },
  {
   "cell_type": "code",
   "execution_count": null,
   "metadata": {},
   "outputs": [],
   "source": [
    "x.add(10)\n",
    "x"
   ]
  },
  {
   "cell_type": "code",
   "execution_count": null,
   "metadata": {},
   "outputs": [],
   "source": [
    "x.update([11,12,13])\n",
    "x"
   ]
  },
  {
   "cell_type": "code",
   "execution_count": null,
   "metadata": {},
   "outputs": [],
   "source": [
    "x.remove(13)\n",
    "x"
   ]
  },
  {
   "cell_type": "code",
   "execution_count": null,
   "metadata": {},
   "outputs": [],
   "source": []
  },
  {
   "cell_type": "markdown",
   "metadata": {},
   "source": [
    "### 1.11 None 타입"
   ]
  },
  {
   "cell_type": "code",
   "execution_count": null,
   "metadata": {},
   "outputs": [],
   "source": [
    "a = None\n",
    "a is None\n",
    "b = 5\n",
    "b is not None"
   ]
  },
  {
   "cell_type": "code",
   "execution_count": null,
   "metadata": {},
   "outputs": [],
   "source": [
    "def add_multiply(a, b, c=None):\n",
    "    result = a + b\n",
    "\n",
    "    if c is not None:\n",
    "        result = result * c\n",
    "\n",
    "    return result"
   ]
  },
  {
   "cell_type": "code",
   "execution_count": null,
   "metadata": {},
   "outputs": [],
   "source": [
    "add_multiply(1,2)"
   ]
  },
  {
   "cell_type": "code",
   "execution_count": null,
   "metadata": {},
   "outputs": [],
   "source": []
  },
  {
   "cell_type": "markdown",
   "metadata": {},
   "source": [
    "### 1.12 타입 변환"
   ]
  },
  {
   "cell_type": "code",
   "execution_count": null,
   "metadata": {},
   "outputs": [],
   "source": [
    "a = 1"
   ]
  },
  {
   "cell_type": "code",
   "execution_count": null,
   "metadata": {},
   "outputs": [],
   "source": [
    "type(a)"
   ]
  },
  {
   "cell_type": "code",
   "execution_count": null,
   "metadata": {},
   "outputs": [],
   "source": [
    "isinstance(a, int)"
   ]
  },
  {
   "cell_type": "code",
   "execution_count": 41,
   "metadata": {},
   "outputs": [
    {
     "data": {
      "text/plain": [
       "1.0"
      ]
     },
     "execution_count": 41,
     "metadata": {},
     "output_type": "execute_result"
    }
   ],
   "source": [
    "float(1)"
   ]
  },
  {
   "cell_type": "code",
   "execution_count": 42,
   "metadata": {},
   "outputs": [
    {
     "data": {
      "text/plain": [
       "3"
      ]
     },
     "execution_count": 42,
     "metadata": {},
     "output_type": "execute_result"
    }
   ],
   "source": [
    "int(3.14)"
   ]
  },
  {
   "cell_type": "code",
   "execution_count": 43,
   "metadata": {},
   "outputs": [
    {
     "data": {
      "text/plain": [
       "'3.14'"
      ]
     },
     "execution_count": 43,
     "metadata": {},
     "output_type": "execute_result"
    }
   ],
   "source": [
    "str(3.14)"
   ]
  },
  {
   "cell_type": "code",
   "execution_count": 44,
   "metadata": {},
   "outputs": [
    {
     "data": {
      "text/plain": [
       "3.14"
      ]
     },
     "execution_count": 44,
     "metadata": {},
     "output_type": "execute_result"
    }
   ],
   "source": [
    "float('3.14')"
   ]
  },
  {
   "cell_type": "code",
   "execution_count": 45,
   "metadata": {},
   "outputs": [
    {
     "ename": "ValueError",
     "evalue": "could not convert string to float: 'Hello World'",
     "output_type": "error",
     "traceback": [
      "\u001b[1;31m---------------------------------------------------------------------------\u001b[0m",
      "\u001b[1;31mValueError\u001b[0m                                Traceback (most recent call last)",
      "\u001b[1;32m<ipython-input-45-5b16d2703ad1>\u001b[0m in \u001b[0;36m<module>\u001b[1;34m\u001b[0m\n\u001b[1;32m----> 1\u001b[1;33m \u001b[0mfloat\u001b[0m\u001b[1;33m(\u001b[0m\u001b[1;34m'Hello World'\u001b[0m\u001b[1;33m)\u001b[0m\u001b[1;33m\u001b[0m\u001b[1;33m\u001b[0m\u001b[0m\n\u001b[0m",
      "\u001b[1;31mValueError\u001b[0m: could not convert string to float: 'Hello World'"
     ]
    }
   ],
   "source": [
    "float('Hello World')"
   ]
  },
  {
   "cell_type": "code",
   "execution_count": null,
   "metadata": {},
   "outputs": [],
   "source": [
    "tuple([1,2,3])"
   ]
  },
  {
   "cell_type": "code",
   "execution_count": null,
   "metadata": {},
   "outputs": [],
   "source": [
    "list((1,2,3))"
   ]
  },
  {
   "cell_type": "code",
   "execution_count": null,
   "metadata": {},
   "outputs": [],
   "source": []
  },
  {
   "cell_type": "markdown",
   "metadata": {},
   "source": [
    "### 1.13 변수 할당"
   ]
  },
  {
   "cell_type": "code",
   "execution_count": null,
   "metadata": {},
   "outputs": [],
   "source": [
    "a = [1,2,3]\n",
    "b = [1,2,3]\n",
    "c = a\n",
    "d = a[:]    # Numpy, Pandas 에서는 View를 제공(메모리의 효율적 사용)"
   ]
  },
  {
   "cell_type": "code",
   "execution_count": null,
   "metadata": {},
   "outputs": [],
   "source": [
    "a is c"
   ]
  },
  {
   "cell_type": "code",
   "execution_count": null,
   "metadata": {},
   "outputs": [],
   "source": [
    "a is b"
   ]
  },
  {
   "cell_type": "code",
   "execution_count": null,
   "metadata": {},
   "outputs": [],
   "source": [
    "a is d"
   ]
  },
  {
   "cell_type": "code",
   "execution_count": null,
   "metadata": {},
   "outputs": [],
   "source": [
    "a == b"
   ]
  },
  {
   "cell_type": "code",
   "execution_count": null,
   "metadata": {},
   "outputs": [],
   "source": [
    "id(a)\n",
    "id(b)\n",
    "id(c)\n",
    "id(d)"
   ]
  },
  {
   "cell_type": "code",
   "execution_count": null,
   "metadata": {},
   "outputs": [],
   "source": [
    "list = [1,2,3]\n",
    "id(list[0])"
   ]
  },
  {
   "cell_type": "markdown",
   "metadata": {},
   "source": [
    "### 1.14 변수 활용"
   ]
  },
  {
   "cell_type": "code",
   "execution_count": null,
   "metadata": {},
   "outputs": [],
   "source": [
    "students = [\n",
    "               {'num':'1','name':'김철수','kor':90,'eng':80,'math':85,'total':0,'avg':0.0,'order':0 },\n",
    "               {'num':'2','name':'박제동','kor':90,'eng':85,'math':90,'total':0,'avg':0.0,'order':0 },\n",
    "               {'num':'3','name':'홍길동','kor':80,'eng':80,'math':80,'total':0,'avg':0.0,'order':0 }\n",
    "           ]"
   ]
  },
  {
   "cell_type": "code",
   "execution_count": null,
   "metadata": {},
   "outputs": [],
   "source": [
    "students[0]"
   ]
  },
  {
   "cell_type": "code",
   "execution_count": null,
   "metadata": {},
   "outputs": [],
   "source": [
    "students[1]['kor']"
   ]
  },
  {
   "cell_type": "code",
   "execution_count": null,
   "metadata": {},
   "outputs": [],
   "source": []
  },
  {
   "cell_type": "markdown",
   "metadata": {},
   "source": [
    "---"
   ]
  },
  {
   "cell_type": "code",
   "execution_count": null,
   "metadata": {},
   "outputs": [],
   "source": [
    "# end of file"
   ]
  },
  {
   "cell_type": "markdown",
   "metadata": {},
   "source": [
    "# 103. 연산자"
   ]
  },
  {
   "cell_type": "markdown",
   "metadata": {},
   "source": [
    "### 1.1 수치 연산자"
   ]
  },
  {
   "cell_type": "code",
   "execution_count": null,
   "metadata": {},
   "outputs": [],
   "source": [
    "2 + 3"
   ]
  },
  {
   "cell_type": "code",
   "execution_count": null,
   "metadata": {},
   "outputs": [],
   "source": [
    "3 - 2"
   ]
  },
  {
   "cell_type": "code",
   "execution_count": null,
   "metadata": {},
   "outputs": [],
   "source": [
    "2 * 3"
   ]
  },
  {
   "cell_type": "code",
   "execution_count": null,
   "metadata": {},
   "outputs": [],
   "source": [
    "5 / 2"
   ]
  },
  {
   "cell_type": "code",
   "execution_count": null,
   "metadata": {},
   "outputs": [],
   "source": [
    "5 // 2\n",
    "\n",
    "# // 는 몫"
   ]
  },
  {
   "cell_type": "code",
   "execution_count": null,
   "metadata": {},
   "outputs": [],
   "source": [
    "5 % 2\n",
    "\n",
    "# % 는 나머지"
   ]
  },
  {
   "cell_type": "code",
   "execution_count": null,
   "metadata": {},
   "outputs": [],
   "source": [
    "3.14 ** 2"
   ]
  },
  {
   "cell_type": "code",
   "execution_count": null,
   "metadata": {},
   "outputs": [],
   "source": [
    "2 ** 0.5\n",
    "# ** 은 제곱이니까 결국 루트 씌운 것과 같은 말"
   ]
  },
  {
   "cell_type": "code",
   "execution_count": null,
   "metadata": {},
   "outputs": [],
   "source": []
  },
  {
   "cell_type": "markdown",
   "metadata": {},
   "source": [
    "### 1.2 대입 연산자"
   ]
  },
  {
   "cell_type": "code",
   "execution_count": null,
   "metadata": {},
   "outputs": [],
   "source": [
    "a = 20"
   ]
  },
  {
   "cell_type": "code",
   "execution_count": null,
   "metadata": {},
   "outputs": [],
   "source": [
    "a += 5\n",
    "a"
   ]
  },
  {
   "cell_type": "code",
   "execution_count": null,
   "metadata": {},
   "outputs": [],
   "source": [
    "a -= 10\n",
    "a"
   ]
  },
  {
   "cell_type": "code",
   "execution_count": null,
   "metadata": {},
   "outputs": [],
   "source": [
    "a *= 2\n",
    "a"
   ]
  },
  {
   "cell_type": "code",
   "execution_count": null,
   "metadata": {},
   "outputs": [],
   "source": [
    "a /= 3\n",
    "a"
   ]
  },
  {
   "cell_type": "code",
   "execution_count": null,
   "metadata": {},
   "outputs": [],
   "source": [
    "a = 3\n",
    "b = 2\n",
    "a *= 2 + b    # a = a * ( 2 + b )\n",
    "a"
   ]
  },
  {
   "cell_type": "code",
   "execution_count": null,
   "metadata": {},
   "outputs": [],
   "source": []
  },
  {
   "cell_type": "markdown",
   "metadata": {},
   "source": [
    "### 1.3 비교 연산자"
   ]
  },
  {
   "cell_type": "code",
   "execution_count": null,
   "metadata": {},
   "outputs": [],
   "source": [
    "a = 95"
   ]
  },
  {
   "cell_type": "code",
   "execution_count": null,
   "metadata": {},
   "outputs": [],
   "source": [
    "a == 90"
   ]
  },
  {
   "cell_type": "code",
   "execution_count": null,
   "metadata": {},
   "outputs": [],
   "source": [
    "a != 90"
   ]
  },
  {
   "cell_type": "code",
   "execution_count": null,
   "metadata": {},
   "outputs": [],
   "source": [
    "a > 90"
   ]
  },
  {
   "cell_type": "code",
   "execution_count": null,
   "metadata": {},
   "outputs": [],
   "source": [
    "a < 90"
   ]
  },
  {
   "cell_type": "code",
   "execution_count": null,
   "metadata": {},
   "outputs": [],
   "source": [
    "a >= 90"
   ]
  },
  {
   "cell_type": "code",
   "execution_count": null,
   "metadata": {},
   "outputs": [],
   "source": [
    "a <= 90"
   ]
  },
  {
   "cell_type": "code",
   "execution_count": null,
   "metadata": {},
   "outputs": [],
   "source": [
    "a >= 90 and a <= 100"
   ]
  },
  {
   "cell_type": "code",
   "execution_count": null,
   "metadata": {},
   "outputs": [],
   "source": [
    "90 <= a <= 100"
   ]
  },
  {
   "cell_type": "code",
   "execution_count": null,
   "metadata": {},
   "outputs": [],
   "source": [
    "100 <= a <= 110"
   ]
  },
  {
   "cell_type": "code",
   "execution_count": null,
   "metadata": {},
   "outputs": [],
   "source": [
    "70 <= a <= 80"
   ]
  },
  {
   "cell_type": "code",
   "execution_count": null,
   "metadata": {},
   "outputs": [],
   "source": [
    "lst1 = [1,2,'Hello World']\n",
    "lst2 = [1,2,'Hello World']"
   ]
  },
  {
   "cell_type": "code",
   "execution_count": null,
   "metadata": {},
   "outputs": [],
   "source": [
    "id(lst1) == id(lst2)"
   ]
  },
  {
   "cell_type": "code",
   "execution_count": null,
   "metadata": {},
   "outputs": [],
   "source": [
    "lst1 == lst2"
   ]
  },
  {
   "cell_type": "code",
   "execution_count": null,
   "metadata": {},
   "outputs": [],
   "source": [
    "lst1 != lst2"
   ]
  },
  {
   "cell_type": "code",
   "execution_count": null,
   "metadata": {},
   "outputs": [],
   "source": []
  },
  {
   "cell_type": "markdown",
   "metadata": {},
   "source": [
    "### 1.4 논리 연산자"
   ]
  },
  {
   "cell_type": "code",
   "execution_count": null,
   "metadata": {},
   "outputs": [],
   "source": [
    "True and False"
   ]
  },
  {
   "cell_type": "code",
   "execution_count": null,
   "metadata": {},
   "outputs": [],
   "source": [
    "True or False"
   ]
  },
  {
   "cell_type": "code",
   "execution_count": 46,
   "metadata": {},
   "outputs": [
    {
     "data": {
      "text/plain": [
       "False"
      ]
     },
     "execution_count": 46,
     "metadata": {},
     "output_type": "execute_result"
    }
   ],
   "source": [
    "not True"
   ]
  },
  {
   "cell_type": "code",
   "execution_count": null,
   "metadata": {},
   "outputs": [],
   "source": []
  },
  {
   "cell_type": "markdown",
   "metadata": {},
   "source": [
    "### 1.5 식별 연산자"
   ]
  },
  {
   "cell_type": "code",
   "execution_count": 47,
   "metadata": {},
   "outputs": [],
   "source": [
    "lst1 = [1,2,'Hello World']\n",
    "lst2 = [1,2,'Hello World']"
   ]
  },
  {
   "cell_type": "code",
   "execution_count": 48,
   "metadata": {},
   "outputs": [
    {
     "data": {
      "text/plain": [
       "False"
      ]
     },
     "execution_count": 48,
     "metadata": {},
     "output_type": "execute_result"
    }
   ],
   "source": [
    "lst1 is lst2"
   ]
  },
  {
   "cell_type": "code",
   "execution_count": 49,
   "metadata": {},
   "outputs": [
    {
     "data": {
      "text/plain": [
       "True"
      ]
     },
     "execution_count": 49,
     "metadata": {},
     "output_type": "execute_result"
    }
   ],
   "source": [
    "lst1 is not lst2"
   ]
  },
  {
   "cell_type": "code",
   "execution_count": 50,
   "metadata": {},
   "outputs": [
    {
     "data": {
      "text/plain": [
       "True"
      ]
     },
     "execution_count": 50,
     "metadata": {},
     "output_type": "execute_result"
    }
   ],
   "source": [
    "lst1 == lst2"
   ]
  },
  {
   "cell_type": "code",
   "execution_count": 51,
   "metadata": {},
   "outputs": [
    {
     "data": {
      "text/plain": [
       "False"
      ]
     },
     "execution_count": 51,
     "metadata": {},
     "output_type": "execute_result"
    }
   ],
   "source": [
    "id(lst1) == id(lst2)"
   ]
  },
  {
   "cell_type": "code",
   "execution_count": null,
   "metadata": {},
   "outputs": [],
   "source": []
  },
  {
   "cell_type": "markdown",
   "metadata": {},
   "source": [
    "### 1.6 구성원 연산자"
   ]
  },
  {
   "cell_type": "code",
   "execution_count": 52,
   "metadata": {},
   "outputs": [],
   "source": [
    "lst = [1,2,'Hello World']"
   ]
  },
  {
   "cell_type": "code",
   "execution_count": 53,
   "metadata": {},
   "outputs": [
    {
     "data": {
      "text/plain": [
       "True"
      ]
     },
     "execution_count": 53,
     "metadata": {},
     "output_type": "execute_result"
    }
   ],
   "source": [
    "1 in lst"
   ]
  },
  {
   "cell_type": "code",
   "execution_count": 54,
   "metadata": {},
   "outputs": [
    {
     "data": {
      "text/plain": [
       "True"
      ]
     },
     "execution_count": 54,
     "metadata": {},
     "output_type": "execute_result"
    }
   ],
   "source": [
    "3 not in lst"
   ]
  },
  {
   "cell_type": "code",
   "execution_count": 55,
   "metadata": {},
   "outputs": [],
   "source": [
    "dic = {'a':1, 'b':2, 'c':3 }"
   ]
  },
  {
   "cell_type": "code",
   "execution_count": 56,
   "metadata": {},
   "outputs": [
    {
     "data": {
      "text/plain": [
       "True"
      ]
     },
     "execution_count": 56,
     "metadata": {},
     "output_type": "execute_result"
    }
   ],
   "source": [
    "'a' in dic"
   ]
  },
  {
   "cell_type": "code",
   "execution_count": null,
   "metadata": {},
   "outputs": [
    {
     "data": {
      "text/plain": [
       "False"
      ]
     },
     "execution_count": 57,
     "metadata": {},
     "output_type": "execute_result"
    }
   ],
   "source": [
    "'k' in dic"
   ]
  },
  {
   "cell_type": "code",
   "execution_count": null,
   "metadata": {},
   "outputs": [
    {
     "data": {
      "text/plain": [
       "False"
      ]
     },
     "execution_count": 58,
     "metadata": {},
     "output_type": "execute_result"
    }
   ],
   "source": [
    "1 in dic"
   ]
  },
  {
   "cell_type": "code",
   "execution_count": null,
   "metadata": {},
   "outputs": [],
   "source": []
  },
  {
   "cell_type": "markdown",
   "metadata": {},
   "source": [
    "### 1.7 연산자 활용"
   ]
  },
  {
   "cell_type": "code",
   "execution_count": null,
   "metadata": {},
   "outputs": [],
   "source": [
    "students = [\n",
    "               {'num':'1','name':'김철수','kor':90,'eng':80,'math':85,'total':0,'avg':0.0,'order':0 },\n",
    "               {'num':'2','name':'박제동','kor':90,'eng':85,'math':90,'total':0,'avg':0.0,'order':0 },\n",
    "               {'num':'3','name':'홍길동','kor':80,'eng':80,'math':80,'total':0,'avg':0.0,'order':0 }\n",
    "           ]"
   ]
  },
  {
   "cell_type": "code",
   "execution_count": null,
   "metadata": {},
   "outputs": [],
   "source": [
    "# 학생별 합계 구하기\n",
    "students[0]['total'] = students[0]['kor'] + students[0]['eng'] + students[0]['math']\n",
    "students[1]['total'] = students[1]['kor'] + students[1]['eng'] + students[1]['math']\n",
    "students[2]['total'] = students[2]['kor'] + students[2]['eng'] + students[2]['math']"
   ]
  },
  {
   "cell_type": "code",
   "execution_count": null,
   "metadata": {},
   "outputs": [
    {
     "name": "stdout",
     "output_type": "stream",
     "text": [
      "255\n",
      "265\n",
      "240\n"
     ]
    }
   ],
   "source": [
    "print(students[0]['total'])\n",
    "print(students[1]['total'])\n",
    "print(students[2]['total'])"
   ]
  },
  {
   "cell_type": "code",
   "execution_count": null,
   "metadata": {},
   "outputs": [],
   "source": [
    "# 학생별 평균 구하기\n",
    "students[0]['avg'] = students[0]['total'] / 3\n",
    "students[1]['avg'] = students[1]['total'] / 3\n",
    "students[2]['avg'] = students[2]['total'] / 3"
   ]
  },
  {
   "cell_type": "code",
   "execution_count": null,
   "metadata": {},
   "outputs": [
    {
     "name": "stdout",
     "output_type": "stream",
     "text": [
      "85.0\n",
      "88.33333333333333\n",
      "80.0\n"
     ]
    }
   ],
   "source": [
    "print(students[0]['avg'])\n",
    "print(students[1]['avg'])\n",
    "print(students[2]['avg'])"
   ]
  },
  {
   "cell_type": "code",
   "execution_count": null,
   "metadata": {},
   "outputs": [],
   "source": [
    "# 학급 평균 구하기\n",
    "class_avg = (students[0]['total'] + students[1]['total'] + students[2]['total']) / 3"
   ]
  },
  {
   "cell_type": "code",
   "execution_count": null,
   "metadata": {},
   "outputs": [
    {
     "name": "stdout",
     "output_type": "stream",
     "text": [
      "253.33333333333334\n"
     ]
    }
   ],
   "source": [
    "print(class_avg)"
   ]
  },
  {
   "cell_type": "code",
   "execution_count": null,
   "metadata": {},
   "outputs": [],
   "source": [
    "# 과목별 평균 구하기\n",
    "kor_avg  = (students[0]['kor']  + students[1]['kor']  + students[2]['kor'])  / 3\n",
    "eng_avg  = (students[0]['eng']  + students[1]['eng']  + students[2]['eng'])  / 3\n",
    "math_avg = (students[0]['math'] + students[1]['math'] + students[2]['math']) / 3"
   ]
  },
  {
   "cell_type": "code",
   "execution_count": null,
   "metadata": {},
   "outputs": [
    {
     "name": "stdout",
     "output_type": "stream",
     "text": [
      "86.66666666666667\n",
      "81.66666666666667\n",
      "85.0\n"
     ]
    }
   ],
   "source": [
    "print(kor_avg)\n",
    "print(eng_avg)\n",
    "print(math_avg)"
   ]
  },
  {
   "cell_type": "markdown",
   "metadata": {},
   "source": [
    "#### <참고> 연산자 우선순위"
   ]
  },
  {
   "cell_type": "code",
   "execution_count": null,
   "metadata": {},
   "outputs": [
    {
     "data": {
      "text/plain": [
       "2.5"
      ]
     },
     "execution_count": 68,
     "metadata": {},
     "output_type": "execute_result"
    }
   ],
   "source": [
    "1 + 2 * 3 / 4"
   ]
  },
  {
   "cell_type": "code",
   "execution_count": null,
   "metadata": {},
   "outputs": [],
   "source": []
  },
  {
   "cell_type": "markdown",
   "metadata": {},
   "source": [
    "---"
   ]
  },
  {
   "cell_type": "markdown",
   "metadata": {},
   "source": [
    "# 2. 흐름 제어"
   ]
  },
  {
   "cell_type": "markdown",
   "metadata": {},
   "source": [
    "### 2.1 흐름과 흐름 제어"
   ]
  },
  {
   "cell_type": "code",
   "execution_count": null,
   "metadata": {},
   "outputs": [
    {
     "name": "stdout",
     "output_type": "stream",
     "text": [
      "Hello World\n",
      "3\n",
      "안녕하세요 파이썬\n",
      "흐름과 흐름 제어 입니다\n"
     ]
    }
   ],
   "source": [
    "print('Hello World')\n",
    "print(1 + 2)\n",
    "print('안녕하세요 파이썬')\n",
    "print('흐름과 흐름 제어 입니다')"
   ]
  },
  {
   "cell_type": "markdown",
   "metadata": {},
   "source": [
    "### 2.2 선택 흐름과 if 문"
   ]
  },
  {
   "cell_type": "markdown",
   "metadata": {},
   "source": [
    "#### if 문만 있는 경우"
   ]
  },
  {
   "cell_type": "code",
   "execution_count": null,
   "metadata": {},
   "outputs": [],
   "source": [
    "grade = float(input('총 평점을 입력해 주세요: '))\n",
    "\n",
    "if grade >= 4.3:\n",
    "    print('당신은 장학금 수여 대상자 입니다.')\n",
    "    print('축하합니다.')\n",
    "\n",
    "print('공부 열심히 하세요.')"
   ]
  },
  {
   "cell_type": "code",
   "execution_count": null,
   "metadata": {},
   "outputs": [],
   "source": [
    "grade = float(input('총 평점?'))\n",
    "\n",
    "# 실수 float\n",
    "# 숫자를 문자형으로 했다가 다시 정수 나 실수로 변경할때는 int , float를 사용하여 변경할 수있습니다. 이런 것을 형변환이라고 합니다.\n",
    "\n",
    "if grade >= 2.0:\n",
    "    print('당신은 대빵')\n",
    "    print('우앙')"
   ]
  },
  {
   "cell_type": "markdown",
   "metadata": {},
   "source": [
    "#### if else 문"
   ]
  },
  {
   "cell_type": "code",
   "execution_count": null,
   "metadata": {},
   "outputs": [],
   "source": [
    "data = int(input('숫자를 입력하시오: '))\n",
    "\n",
    "if data % 2 == 0:\n",
    "    print('입력된 값은 짝수입니다.')\n",
    "else:\n",
    "    print('입력된 값은 홀수입니다.')"
   ]
  },
  {
   "cell_type": "code",
   "execution_count": null,
   "metadata": {},
   "outputs": [],
   "source": [
    "data = int(input('숫자를 입력하시오: '))\n",
    "\n",
    "if data % 2 == 0:\n",
    "    print('입력된 값은 짝수입니다.')\n",
    "else:\n",
    "    print('입력된 값은 홀수입니다.')\n"
   ]
  },
  {
   "cell_type": "code",
   "execution_count": null,
   "metadata": {},
   "outputs": [],
   "source": [
    "score = int(input('점수를 입력하시오: '))\n",
    "\n",
    "if score >= 70:\n",
    "    print('당신은 시험을 통과했습니다.')\n",
    "else:\n",
    "    print('당신은 시험을 통과하지 못했습니다.')\n",
    "    \n",
    "print('공부 열심히 하세요!')\n"
   ]
  },
  {
   "cell_type": "code",
   "execution_count": null,
   "metadata": {},
   "outputs": [],
   "source": [
    "score = int(input('점수를 입력하시오: '))\n",
    "\n",
    "if score >= 70:\n",
    "    print('당신은 시험을 통과했습니다.')\n",
    "else:\n",
    "    print('당신은 시험을 통과하지 못했습니다.')\n",
    "    print('공부 열심히 하세요!')"
   ]
  },
  {
   "cell_type": "markdown",
   "metadata": {},
   "source": [
    "#### 중첩된 if ~ else ~ 구문"
   ]
  },
  {
   "cell_type": "code",
   "execution_count": null,
   "metadata": {},
   "outputs": [],
   "source": [
    "age = int(input('나이를 입력하시오: '))\n",
    "height = int(input('키를 입력하시오: '))\n",
    "\n",
    "if age >= 40:\n",
    "    if height >= 170:\n",
    "        print('키가 보통 이상 입니다.')\n",
    "    else:\n",
    "        print('키가 보통입니다.')\n",
    "else:\n",
    "    if height >= 175:\n",
    "        print('키가 보통 이상 입니다.')\n",
    "    else:\n",
    "        print('키가 보통입니다.')\n"
   ]
  },
  {
   "cell_type": "code",
   "execution_count": null,
   "metadata": {},
   "outputs": [],
   "source": [
    "age = int(input('나이를 입력하시오: '))\n",
    "height = int(input('키를 입력하시오: '))\n",
    "\n",
    "if age >= 40:\n",
    "    if height >= 170:\n",
    "        print('키가 보통 이상 입니다.')\n",
    "    else:\n",
    "        print('키가 보통입니다.')"
   ]
  },
  {
   "cell_type": "markdown",
   "metadata": {},
   "source": [
    "#### if ~ elif ~ 구문"
   ]
  },
  {
   "cell_type": "code",
   "execution_count": null,
   "metadata": {},
   "outputs": [],
   "source": [
    "score = int(input('총점을 입력해 주세요: '))\n",
    "\n",
    "if score >= 90:\n",
    "    print('수')\n",
    "else:\n",
    "    if 80 <= score < 90:\n",
    "        print('우')\n",
    "    else:\n",
    "        if 70 <= score < 80:\n",
    "            print('미')\n",
    "        else:\n",
    "            if 60 <= score < 70:\n",
    "                print('양')\n",
    "            else:\n",
    "                print('가')\n",
    "        "
   ]
  },
  {
   "cell_type": "code",
   "execution_count": null,
   "metadata": {},
   "outputs": [],
   "source": [
    "score = int(input('총점을 입력해 주세요: '))\n",
    "\n",
    "if score >= 90:\n",
    "    print('수')\n",
    "else:\n",
    "    if 80 <= score < 90:\n",
    "        print('우')\n",
    "    else:\n",
    "        if 70 <= score <80:\n",
    "            print('미')\n",
    "        else: \n",
    "            if 60 <= score < 70:\n",
    "                print('양')\n",
    "            else:\n",
    "                print('가')"
   ]
  },
  {
   "cell_type": "code",
   "execution_count": null,
   "metadata": {},
   "outputs": [],
   "source": [
    "score = int(input('총점을 입력해 주세요: '))\n",
    "\n",
    "if score >= 90:\n",
    "    print('수')\n",
    "elif 80 <= score < 90:\n",
    "    print('우')\n",
    "elif 70 <= score < 80:\n",
    "    print('미')\n",
    "elif 60 <= score < 70:\n",
    "    print('양')\n",
    "else:\n",
    "    print('가')\n",
    "        "
   ]
  },
  {
   "cell_type": "code",
   "execution_count": null,
   "metadata": {},
   "outputs": [],
   "source": [
    "score = int(input('총점을 입력해 주세요: '))\n",
    "\n",
    "if score >= 90:\n",
    "    print('수')\n",
    "elif 80 <= score < 90:\n",
    "    print('우')\n",
    "elif 70 <= score < 80:\n",
    "    print('미')"
   ]
  },
  {
   "cell_type": "markdown",
   "metadata": {},
   "source": [
    "#### 조건부 표현식 ( 3항 연산자 )"
   ]
  },
  {
   "cell_type": "code",
   "execution_count": null,
   "metadata": {},
   "outputs": [],
   "source": [
    "score = int(input('총점을 입력해 주세요: '))\n",
    "\n",
    "if score >= 60:\n",
    "    message = \"success\"\n",
    "else:\n",
    "    message = \"failure\"\n",
    "    \n",
    "print(message)\n",
    "\n",
    "# 위 항의 수우미양가는 ''써야하고, message 는 변수니까 '' 안 씀."
   ]
  },
  {
   "cell_type": "code",
   "execution_count": null,
   "metadata": {},
   "outputs": [],
   "source": [
    "score = int(input('총점을 입력해 주세요: '))\n",
    "\n",
    "message = \"success\" if score >= 60 else \"failure\"\n",
    "\n",
    "print(message)"
   ]
  },
  {
   "cell_type": "code",
   "execution_count": null,
   "metadata": {},
   "outputs": [],
   "source": [
    "score = int(input('총점을 입력해 주세요: '))\n",
    "\n",
    "message = \"A+\" if score >= 90 else 'A0' if score >= 80 else \"B+\"\n",
    "\n",
    "print(message)"
   ]
  },
  {
   "cell_type": "markdown",
   "metadata": {},
   "source": [
    "### 2.3 반복 흐름과  for, while 문"
   ]
  },
  {
   "cell_type": "markdown",
   "metadata": {},
   "source": [
    "#### for 문"
   ]
  },
  {
   "cell_type": "code",
   "execution_count": null,
   "metadata": {},
   "outputs": [],
   "source": [
    "message = 'Hello!'\n",
    "messages = ['Hello World', '파이썬 문자열입니다']\n",
    "numbers = (1,2,3)\n",
    "polygon = {'triangle': 2, 'rectangle': 3, 'line': 1}\n",
    "color = {'red', 'green', 'blue'}\n",
    "\n",
    "for item in messages:\n",
    "    print(item)"
   ]
  },
  {
   "cell_type": "code",
   "execution_count": null,
   "metadata": {},
   "outputs": [],
   "source": [
    "# for 루프(loop) 구현\n",
    "\n",
    "# 파이썬에서도 for반복문을 사용해 반복문을 만들 수 있습니다. 먼저 가장 기본적인 방법은 아래와 같습니다.\n",
    "\n",
    "sites = ['web', 'is', 'free']\n",
    "for item in sites:\n",
    "  print(item)"
   ]
  },
  {
   "cell_type": "code",
   "execution_count": null,
   "metadata": {},
   "outputs": [],
   "source": [
    "# for문의 인덱스 순서 값 가져오기\n",
    "\n",
    "# enumerate : 열거하다\n",
    "\n",
    "# for문에서 몇 번째 루프인지 index값을 가져오려면 어떻게 할까요? 이 경우 enumerate()를 사용합니다.\n",
    "# 이 값을 적용하면 첫 번째 인자로 index 순서를 0부터 반환하게 됩니다. 이제 아래와 같이 다시 코드를 작성해보도록 하겠습니다.\n",
    "\n",
    "sites = ['web', 'is', 'free']\n",
    "for index, item in enumerate(sites):\n",
    "  print(str(index) + ' - ' + item)"
   ]
  },
  {
   "cell_type": "code",
   "execution_count": null,
   "metadata": {},
   "outputs": [],
   "source": [
    "total = 0\n",
    "\n",
    "for item in [1,2,3,4,5,6,7,8,9,10]:\n",
    "    total = total + item\n",
    "    \n",
    "print('1부터 10까지 합은 ', total, ' 입니다.')\n"
   ]
  },
  {
   "cell_type": "markdown",
   "metadata": {},
   "source": [
    "#### range() 함수"
   ]
  },
  {
   "cell_type": "code",
   "execution_count": null,
   "metadata": {},
   "outputs": [],
   "source": [
    "total = 0\n",
    "\n",
    "for item in range(1,11):\n",
    "    total = total + item\n",
    "    \n",
    "print('1부터 10까지 합은 ', total, ' 입니다.')\n"
   ]
  },
  {
   "cell_type": "code",
   "execution_count": null,
   "metadata": {},
   "outputs": [],
   "source": [
    "total = 0\n",
    "\n",
    "for item in range(0,101,2):\n",
    "    total = total + item\n",
    "    \n",
    "print('1부터 100까지 짝수 합은 ', total, ' 입니다.')\n"
   ]
  },
  {
   "cell_type": "code",
   "execution_count": null,
   "metadata": {},
   "outputs": [],
   "source": [
    "total = 0\n",
    "\n",
    "for item in range(1,101,2):\n",
    "    total = total + item\n",
    "    \n",
    "print('1부터 100까지 홀수 합은 ', total, ' 입니다.')"
   ]
  },
  {
   "cell_type": "code",
   "execution_count": null,
   "metadata": {},
   "outputs": [],
   "source": [
    "range(1,101,2)"
   ]
  },
  {
   "cell_type": "code",
   "execution_count": null,
   "metadata": {},
   "outputs": [],
   "source": [
    "total = 0\n",
    "\n",
    "for item in range(1,101):\n",
    "    if (item % 3) == 0 or (item % 7) == 0:\n",
    "        total = total + item\n",
    "    \n",
    "print('1부터 100까지에서 3 혹은 7의 배수의 합은 ', total, ' 입니다.')\n"
   ]
  },
  {
   "cell_type": "code",
   "execution_count": null,
   "metadata": {},
   "outputs": [],
   "source": [
    "total = 0\n",
    "\n",
    "for item in range(1,101):\n",
    "    total = total + item\n",
    "else:\n",
    "    print('덧셈 작업이 끝났습니다.')\n",
    "    \n",
    "print('1부터 100까지 합은 ', total, ' 입니다.')\n"
   ]
  },
  {
   "cell_type": "code",
   "execution_count": null,
   "metadata": {},
   "outputs": [],
   "source": [
    "for i in range(3, 5):\n",
    "\n",
    "    print('--{}단 시작--'.format(i))\n",
    "    \n",
    "    for j in range(1, 10):\n",
    "    \n",
    "        print(i, \"*\", j, \"=\", i * j)\n"
   ]
  },
  {
   "cell_type": "code",
   "execution_count": null,
   "metadata": {},
   "outputs": [],
   "source": [
    "# 구구단\n",
    "print(\"★ 구구단을 출력합니다.\\n\")\n",
    "for x in range(2, 10):\n",
    "    print(\"------- [\" + str(x) + \"단] -------\")\n",
    "    for y in range(1, 10):\n",
    "        print(x, \"X\", y, \"=\", x*y)\n",
    "print(\"---------------------\")"
   ]
  },
  {
   "cell_type": "code",
   "execution_count": null,
   "metadata": {},
   "outputs": [],
   "source": [
    "# 구구단 만들기\n",
    "# 1. for 문\n",
    "\n",
    "for i in range(1,10):\n",
    "    for j in range(1,10):\n",
    " \n",
    "        print(\"{} * {} = {}\".format(i, j, i*j))"
   ]
  },
  {
   "cell_type": "code",
   "execution_count": null,
   "metadata": {},
   "outputs": [],
   "source": [
    "# 구구단 만들기\n",
    "# 2. while 문\n",
    "\n",
    "# while문도 반복문이기 때문에 동일하게 할 수 있다. 9까지 반복시켜야 되기 때문에 10보다 작은 조건에서 반복되게 하면 된다.\n",
    " \n",
    "i = 2\n",
    " \n",
    "while(i<10):\n",
    "    j = 1 \n",
    "    while(j<10):\n",
    "        print(\"{} * {} = {}\".format(i, j, i*j))\n",
    "        j+=1\n",
    "    i+=1"
   ]
  },
  {
   "cell_type": "code",
   "execution_count": null,
   "metadata": {},
   "outputs": [],
   "source": [
    "# 구구단 만들기\n",
    "# 3. list를 이용한 for문\n",
    "\n",
    "# 리스트 자료형도 for문을 돌릴 수 있기 때문에, 리스트를 만들어서 for문을 돌려봤다.\n",
    " \n",
    "num_list = [1, 2, 3, 4, 5, 6, 7, 8, 9]\n",
    " \n",
    "for i in num_list:\n",
    "    for j in num_list:\n",
    " \n",
    "        print(\"{} * {} = {}\".format(i, j, i*j))"
   ]
  },
  {
   "cell_type": "code",
   "execution_count": null,
   "metadata": {},
   "outputs": [],
   "source": [
    "# 구구단 만들기\n",
    "# 4. numpy의 ndarray 자료형으로 만든 for문\n",
    "# 위의 예와 비슷하게 numpy자료형을 만들어서도 할 수 있다.\n",
    "\n",
    "import numpy as np\n",
    " \n",
    "# num_list = np.arrange(1, 10, 1)\n",
    " \n",
    "for i in num_list:\n",
    "    for j in num_list:\n",
    " \n",
    "        print(\"{} * {} = {}\".format(i, j, i*j))"
   ]
  },
  {
   "cell_type": "code",
   "execution_count": null,
   "metadata": {},
   "outputs": [],
   "source": [
    "# 구구단 만들기\n",
    "# 5. 리스트와 for문 한 줄에 쓰기\n",
    "\n",
    "# 파이썬에서는 리스트와 for문을 한 줄에 작성할 수 있다.\n",
    "# 처음에는 어색하지만 자주 사용하다보면 굉장히 편리한 것을 알 수 있다.\n",
    "# if문과 for문을 한 줄에 쓰는 문법에 대해서는 아래 포스팅을 참조해보자.\n",
    "\n",
    "temp = [[j , i , j*i ] for j in range(1,10) for i in range(1,10)]\n",
    " \n",
    "for i in temp:\n",
    "    print(\"{} * {} = {}\").format(i[0], i[1], i[2])"
   ]
  },
  {
   "cell_type": "markdown",
   "metadata": {},
   "source": [
    "#### 리스트 내포(List comprehension)"
   ]
  },
  {
   "cell_type": "code",
   "execution_count": null,
   "metadata": {},
   "outputs": [],
   "source": [
    "lst = [1,2,3,4]\n",
    "\n",
    "result = []\n",
    "for num in lst:\n",
    "    result.append(num*3)\n",
    "\n",
    "print(result)\n",
    "\n",
    "# append() 함수는 리스트 형태의 Data 에 마지막에 하나를 추가하는 함수임"
   ]
  },
  {
   "cell_type": "code",
   "execution_count": null,
   "metadata": {},
   "outputs": [],
   "source": [
    "# list comprehension\n",
    "\n",
    "lst = [1,2,3,4]\n",
    "result = [num * 3 for num in lst]\n",
    "\n",
    "print(result)\n",
    "\n",
    "# 파이썬 문법 규칙, 위 행과 동일한 의미"
   ]
  },
  {
   "cell_type": "code",
   "execution_count": null,
   "metadata": {},
   "outputs": [],
   "source": [
    "# list comprehension with if\n",
    "\n",
    "lst = [1,2,3,4]\n",
    "result = [num * 3 for num in lst if num % 2 == 0]\n",
    "\n",
    "print(result)\n",
    "\n",
    "# 짝수일 경우"
   ]
  },
  {
   "cell_type": "markdown",
   "metadata": {},
   "source": [
    "#### while 문"
   ]
  },
  {
   "cell_type": "code",
   "execution_count": null,
   "metadata": {},
   "outputs": [],
   "source": [
    "count = 1\n",
    "\n",
    "while count <= 10:\n",
    "    print(count)\n",
    "    count = count + 1\n"
   ]
  },
  {
   "cell_type": "code",
   "execution_count": null,
   "metadata": {},
   "outputs": [],
   "source": [
    "count = 1\n",
    "total = 0\n",
    "\n",
    "while count <= 100:\n",
    "    total = total + count\n",
    "    count = count + 1\n",
    "\n",
    "print('1부터 100까지의 합은:', total )\n"
   ]
  },
  {
   "cell_type": "code",
   "execution_count": null,
   "metadata": {},
   "outputs": [],
   "source": [
    "count  = 1\n",
    "result = 0\n",
    "\n",
    "while count <= 100:\n",
    "    result = result + count\n",
    "    count  = count + 1\n",
    "else:\n",
    "    print('덧셈이 작업 완료 되었습니다.')\n",
    "\n",
    "print('1부터 100까지의 합은:', result )\n"
   ]
  },
  {
   "cell_type": "markdown",
   "metadata": {},
   "source": [
    "### 2.4 break 문과 continue 문"
   ]
  },
  {
   "cell_type": "code",
   "execution_count": null,
   "metadata": {},
   "outputs": [],
   "source": [
    "break_letter = input('중단할 문자를 입력하시오: ')\n",
    "\n",
    "for letter in 'python':\n",
    "    if letter == break_letter:\n",
    "        break\n",
    "    print(letter)\n",
    "    \n",
    "else:\n",
    "    print('모든 문자 출력 완료!')"
   ]
  },
  {
   "cell_type": "code",
   "execution_count": null,
   "metadata": {},
   "outputs": [],
   "source": [
    "break_letter = input('중단할 문자를 입력하시오: ')\n",
    "\n",
    "for letter in 'python':\n",
    "    if letter == break_letter:\n",
    "        break\n",
    "    print(letter)\n",
    "    \n",
    "else:\n",
    "    print('모든 문자 출력 완료!')"
   ]
  },
  {
   "cell_type": "code",
   "execution_count": null,
   "metadata": {},
   "outputs": [],
   "source": [
    "continue_letter = input('건너뛸 문자를 입력하시오: ')\n",
    "\n",
    "for letter in 'python':\n",
    "    if letter == continue_letter:\n",
    "        continue\n",
    "    print(letter)\n",
    "    \n",
    "else:\n",
    "    print('모든 문자 출력 완료')\n",
    "# continue 는 넘어가겠다는 의미"
   ]
  },
  {
   "cell_type": "markdown",
   "metadata": {},
   "source": [
    "### 2.5 pass 문"
   ]
  },
  {
   "cell_type": "code",
   "execution_count": null,
   "metadata": {},
   "outputs": [],
   "source": [
    "input_letter = input('중단할 문자를 입력하시오: ')\n",
    "\n",
    "for letter in 'python':\n",
    "    if letter == input_letter:\n",
    "        pass\n",
    "    print(letter)\n",
    "\n",
    "# 파이썬 pass\n",
    "# 아무 기능이 없는 파이썬 제어문\n",
    "# 그냥 지나가는 문장임\n",
    "# break(블럭 탈출)의 반대 의미라고 볼 수 있겠다.\n",
    "# 주로 미구현 블럭에서 들여쓰기로 인한 문제를 방지하기 위해 사용한다."
   ]
  },
  {
   "cell_type": "code",
   "execution_count": null,
   "metadata": {},
   "outputs": [],
   "source": [
    "# 파이썬 pass와 continue 차이점\n",
    "# pass는 실행 할 것이 아무 것도 없다는 것을 의미. 따라서 아무런 동작을 하지 않고 다음 코드를 실행\n",
    "# continue는 다음 순번의 loop 실행\n",
    "\n",
    "for i in range(1, 5):\n",
    "    if i == 3:\n",
    "        pass\n",
    "    print(i)\n",
    "    \n",
    "# → i의 값이 3일 때 if 조건에서 아무 것도 실행하지 않고 다음 단계로 넘어가므로 print() 함수를 실행함"
   ]
  },
  {
   "cell_type": "code",
   "execution_count": null,
   "metadata": {},
   "outputs": [],
   "source": [
    "for i in range(1, 5):\n",
    "    if i == 3:\n",
    "        continue\n",
    "    print(i)\n",
    "\n",
    "# → i의 값이 3일 때 곧장 loop의 다음 순번으로 이동하기 때문에 print() 함수가 실행되지 않아 숫자 3이 출력되지 않음    "
   ]
  },
  {
   "cell_type": "code",
   "execution_count": null,
   "metadata": {},
   "outputs": [],
   "source": [
    "a = 0\n",
    "\n",
    "for a in range(1,11):\n",
    "    pass\n",
    "    print(a)\n",
    "# range 안에 0 이 없지만 그냥 pass 하고 1~10까지 출력하라는 의미"
   ]
  },
  {
   "cell_type": "code",
   "execution_count": null,
   "metadata": {},
   "outputs": [],
   "source": [
    "a = 0\n",
    "\n",
    "for a in range(1,11):\n",
    "    continue\n",
    "    print(a)\n",
    "    \n",
    "# range 안에 0 이 없으므로 print 할 것이 없음"
   ]
  },
  {
   "cell_type": "markdown",
   "metadata": {},
   "source": [
    "### 2.6 무한 반복"
   ]
  },
  {
   "cell_type": "code",
   "execution_count": null,
   "metadata": {},
   "outputs": [],
   "source": [
    "choice = None\n",
    "\n",
    "while True:\n",
    "    print('1. 원 그리기')\n",
    "    print('2. 사각형 그리기')\n",
    "    print('3. 선 그리기')\n",
    "    print('4. 종료')\n",
    "    \n",
    "    choice = input('메뉴를 선택하시오: ')\n",
    "    \n",
    "    if choice == '1':\n",
    "        print('원 그리기를 선택했습니다.')\n",
    "    elif choice == '2':\n",
    "        print('사각형 그리기를 선택했습니다.')\n",
    "    elif choice == '3':\n",
    "        print('선 그리기를 선택했습니다.')\n",
    "    elif choice == '4':\n",
    "        print('종료합니다.')\n",
    "        break\n",
    "    else:\n",
    "        print('잘못된 선택을 했습니다.')\n",
    "        \n",
    "# while True 는 break 안 걸어주면 무한 반복함\n",
    "# While True 로 W 대문자면 오류남"
   ]
  },
  {
   "cell_type": "code",
   "execution_count": null,
   "metadata": {},
   "outputs": [],
   "source": [
    "# 문제) 2부터 차례대로 소수를 모두 더했을 때, 그 소수의 합계가 125000이 넘었을 때의 소수는?\n",
    "\n",
    "pn_sum = 0\n",
    "i = 2\n",
    "while True:\n",
    "    number = i\n",
    "    count = 0\n",
    "    for i in range(1, number+ 1):\n",
    "        if number%i == 0:\n",
    "            count = count +1\n",
    "            pass\n",
    "        pass\n",
    "    if count == 2:\n",
    "        pn_sum = pn_sum + number\n",
    "        if pn_sum >= 125000:            # 멈추기 위한 조건\n",
    "            print(\"answer is {}\".format(number))\n",
    "            break\n",
    "        pass\n",
    "    i = i + 1\n",
    "    pass"
   ]
  },
  {
   "cell_type": "code",
   "execution_count": null,
   "metadata": {},
   "outputs": [],
   "source": [
    "# 문제) 2부터 차례대로 소수를 모두 더했을 때, 그 소수의 합계가 125000이 넘었을 때의 소수는?\n",
    "\n",
    "# Error문\n",
    "\n",
    "pn_sum = 0\n",
    "while True:\n",
    "    number = i\n",
    "    count = 0\n",
    "    for i in range(1, number+ 1):\n",
    "        if number%i == 0:\n",
    "            count = count +1\n",
    "            pass\n",
    "        pass\n",
    "    if count == 2:\n",
    "        pn_sum = pn_sum + number\n",
    "        if pn_sum > 125000:\n",
    "            break\n",
    "print(pn_sum)\n",
    "\n",
    "# Error : i 에 대한 로직이 없다. i 를 설정해줘야 함. "
   ]
  },
  {
   "cell_type": "code",
   "execution_count": null,
   "metadata": {},
   "outputs": [],
   "source": [
    "# 문제) 숫자 123456을 한 자리씩 분리하여 가로로 출력하고, 합계를 분리된 숫자 아래에 출력하시오.\n",
    "\n",
    "number = 123456\n",
    "sum = 0\n",
    "while True:\n",
    "        split_number = number%10\n",
    "        number = number//10\n",
    "        sum = sum + split_number\n",
    "        print(split_number, end = \" \")\n",
    "        if number == 0 :\n",
    "            break\n",
    "        pass\n",
    "print()\n",
    "print(sum)\n",
    "pass"
   ]
  },
  {
   "cell_type": "code",
   "execution_count": null,
   "metadata": {},
   "outputs": [],
   "source": [
    "# 문제) 숫자 123456을 한 자리씩 분리하여 가로로 출력하고, 합계를 분리된 숫자 아래에 출력하시오.\n",
    "\n",
    "# Error문\n",
    "\n",
    "number = 123456\n",
    "sum = 0\n",
    "while True:\n",
    "        split_number = number%10\n",
    "        number = number//10\n",
    "        sum = sum + split_number\n",
    "        print(split_number, end = \" \")\n",
    "        if split_number == 1 :     # 내가 처리하고 있는게 마지막이냐\n",
    "            break\n",
    "        pass\n",
    "print()\n",
    "print(sum)\n",
    "pass"
   ]
  },
  {
   "cell_type": "markdown",
   "metadata": {},
   "source": [
    "### 2.7 예제: 요일 구하기"
   ]
  },
  {
   "cell_type": "markdown",
   "metadata": {},
   "source": [
    "1. 서기 1년 1월 1일은 월요일이다.  \n",
    "<br>\n",
    "1. 윤년을 구하는 공식은 다음과 같다.\n",
    "  - 4로 나누어지는 해는 윤년이다.\n",
    "  - 100으로 나누어지는 해는 윤년이 아니다.\n",
    "  - 400으로 나누어지는 해는 윤년이다."
   ]
  },
  {
   "cell_type": "code",
   "execution_count": null,
   "metadata": {},
   "outputs": [],
   "source": [
    "# 년월일을 입력 받는다.\n",
    "year  = int(input('년도를 입력하시오: '))\n",
    "month = int(input('월을 입력하시오: '))\n",
    "day   = int(input('일을 입력하시오: '))\n",
    "\n",
    "total_days = 0\n",
    "\n",
    "# 달별 날수를 리스트로 저장\n",
    "year_month_days = [0,31,28,31,30,31,30,31,31,30,31,30,31]\n",
    "\n",
    "\n",
    "# 서기 1년부터 year-1 까지의 각 년도 별 날수를 합한다.\n",
    "for item in range(1, year):\n",
    "    if item % 400 == 0:                 # 400으로 나뉘는 해: 윤년\n",
    "        total_days = total_days + 366\n",
    "    elif item % 100 == 0:               # 100으로 나뉘는 해: 평년\n",
    "        total_days = total_days + 365\n",
    "    elif item % 4 == 0:                 # 4으로 나뉘는 해  : 윤년\n",
    "        total_days = total_days + 366\n",
    "    else:\n",
    "        total_days = total_days + 365\n",
    "\n",
    "\n",
    "# 1월 달부터 month-1 까지의 각 달의 날수를 합한다.\n",
    "for item in range(1, month):\n",
    "    total_days = total_days + year_month_days[item]\n",
    "    \n",
    "\n",
    "# 입력된 달이 3이상이고 해당년도가 윤년일 경우 1을 추가\n",
    "if month >= 3:\n",
    "    if year % 400 == 0:                 # 400으로 나뉘는 해: 윤년\n",
    "        total_days = total_days + 1\n",
    "    elif year % 100 == 0:               # 100으로 나뉘는 해: 평년\n",
    "        total_days = total_days + 0\n",
    "    elif year % 4 == 0:                 # 4으로 나뉘는 해  : 윤년\n",
    "        total_days = total_days + 1\n",
    "    else:\n",
    "        total_days = total_days + 0\n",
    "\n",
    "\n",
    "total_days += day\n",
    "\n",
    "# 총 날수를 7로 나눈 나머지를 구한다.\n",
    "remainder = total_days % 7\n",
    "\n",
    "if remainder == 0:\n",
    "    print('일요일 입니다.')\n",
    "elif remainder == 1:\n",
    "    print('월요일 입니다.')\n",
    "elif remainder == 2:\n",
    "    print('화요일 입니다.')\n",
    "elif remainder == 3:\n",
    "    print('수요일 입니다.')\n",
    "elif remainder == 4:\n",
    "    print('목요일 입니다.')\n",
    "elif remainder == 5:\n",
    "    print('금요일 입니다.')\n",
    "elif remainder == 6:\n",
    "    print('토요일 입니다.')\n"
   ]
  },
  {
   "cell_type": "markdown",
   "metadata": {},
   "source": [
    "### 2.8 예제: 성적 처리 시스템"
   ]
  },
  {
   "cell_type": "code",
   "execution_count": null,
   "metadata": {},
   "outputs": [],
   "source": [
    "# 학생 데이터 초기화\n",
    "students = [\n",
    "               {'num':'1','name':'김철수','kor':90,'eng':80,'math':85,'total':0,'avg':0.0,'order':0 },\n",
    "               {'num':'2','name':'박제동','kor':90,'eng':85,'math':90,'total':0,'avg':0.0,'order':0 },\n",
    "               {'num':'3','name':'홍길동','kor':80,'eng':80,'math':80,'total':0,'avg':0.0,'order':0 }\n",
    "           ]\n",
    "\n",
    "\n",
    "# 반 총점, 평균 및 각 과목별 총점과 평균 초기화\n",
    "class_total = 0\n",
    "class_avg   = 0.0\n",
    "kor_total   = 0\n",
    "kor_avg     = 0.0\n",
    "eng_total   = 0\n",
    "eng_avg     = 0.0\n",
    "math_total  = 0\n",
    "math_avg    = 0.0\n",
    "\n",
    "\n",
    "# 학생들의 성적 총점과 평균 및 반 총점과 과목별 총점을 구한다.\n",
    "for student in students:\n",
    "    student['total'] = student['kor'] + student['eng'] + student['math']\n",
    "    student['avg']   = student['total'] / 3\n",
    "    \n",
    "    class_total = class_total + student['total']\n",
    "    kor_total   = kor_total   + student['kor']\n",
    "    eng_total   = eng_total   + student['eng']\n",
    "    math_total  = math_total  + student['math']\n",
    "\n",
    "class_avg = class_total / len(students)\n",
    "kor_avg   = kor_total   / len(students)\n",
    "eng_avg   = eng_total   / len(students)\n",
    "math_avg  = math_total  / len(students)\n",
    "\n",
    "\n",
    "# 학생별 성적 처리 결과를 출력한다.\n",
    "for student in students:\n",
    "    print('번호: {:s}, 이름: {:s}, 국어: {:d}, 영어: {:d}, 수학: {:d}, 총점: {:d}, 평균: {:.2f}'.format(\n",
    "           student['num'], student['name'],\n",
    "           student['kor'], student['eng'], student['math'],\n",
    "           student['total'], student['avg'])\n",
    "         )\n",
    "print()\n",
    "\n",
    "\n",
    "# 반 평균 및 각 과목별 평균을 출력한다.\n",
    "print('반 평균  : {:.2f}'.format(class_avg))\n",
    "print('국어 평균: {:.2f}'.format(kor_avg)  ) \n",
    "print('영어 평균: {:.2f}'.format(eng_avg)  )\n",
    "print('수학 평균: {:.2f}'.format(math_avg) )\n"
   ]
  },
  {
   "cell_type": "markdown",
   "metadata": {},
   "source": [
    "### 2.9 예제: 모스부호"
   ]
  },
  {
   "cell_type": "code",
   "execution_count": null,
   "metadata": {},
   "outputs": [],
   "source": [
    "# 모스부호\n",
    "dic = {\n",
    "    '.-': 'A', '-...': 'B', '-.-.': 'C', '-..': 'D', '.':'E', '..-.': 'F',\n",
    "    '--.': 'G', '....': 'H', '..': 'I', '.---': 'J', '-.-': 'K', '.-..': 'L',\n",
    "    '--': 'M', '-.': 'N', '---': 'O', '.--.': 'P', '--.-': 'Q', '.-.': 'R',\n",
    "    '...': 'S', '-': 'T', '..-': 'U', '...-': 'V', '.--': 'W', '-..-': 'X',\n",
    "    '-.--': 'Y', '--..': 'Z'\n",
    "}\n",
    " \n",
    "# 풀어야할 암호: HE SLEEPS EARLY\n",
    "code = '.... .  ... .-.. . . .--. ...  . .- .-. .-.. -.--'\n"
   ]
  },
  {
   "cell_type": "code",
   "execution_count": null,
   "metadata": {},
   "outputs": [],
   "source": [
    "for word in code.split(\"  \"):\n",
    "    for char in word.split():\n",
    "        print(dic.get(char), end='')\n",
    "    print(\" \", end='')"
   ]
  },
  {
   "cell_type": "markdown",
   "metadata": {},
   "source": [
    "### 2.10 예제: 게시글 제목 추출"
   ]
  },
  {
   "cell_type": "code",
   "execution_count": null,
   "metadata": {},
   "outputs": [],
   "source": [
    "# 게시글 제목\n",
    "title = \"\"\"On top of the world! Life is so fantastic if you just let it.\n",
    "I have never been happier. #nyc #newyork #vacation #traveling\"\"\"\n",
    "\n",
    "tag_list = []\n",
    "for tag in title.split(\" \"):\n",
    "    if tag.startswith(\"#\"):\n",
    "        tag_list.append(tag[1:])\n",
    "\n",
    "# 문자열.split(sep) : sep를 구분자로 하여 문자열을 분할한다.\n",
    "# title 이라는 문장에서 \" \"를 구분자로 하여 각각의 문자열을 분할함. \n",
    "# \"#\" 으로 시작하는 문자열이 있다면\n",
    "# append 하라는 뜻\n",
    "\n",
    "        # >>> a = [1, 2, 3, 4, 5]\n",
    "        # >>> a.append(6)\n",
    "        # >>> a\n",
    "        # [1, 2, 3, 4, 5, 6]\n",
    "        \n",
    "print(tag_list)"
   ]
  },
  {
   "cell_type": "markdown",
   "metadata": {},
   "source": [
    "### 2.11 예제: 숫자 야구, 숫자 Up & Down, 로또"
   ]
  },
  {
   "cell_type": "code",
   "execution_count": null,
   "metadata": {},
   "outputs": [],
   "source": [
    "# 예제) 숫자 야구게임\n",
    "\n",
    "import random    \n",
    "    # 게임을 위한 랜덤 숫자 생성\n",
    "rn = [\"0\", \"0\", \"0\"]\n",
    "rn[0] = str(random.randrange(1, 9, 1))\n",
    "rn[1] = rn[0]\n",
    "rn[2] = rn[0]\n",
    "while (rn[0] == rn[1]):\n",
    "    rn[1] = str(random.randrange(1, 9, 1))\n",
    "while (rn[0] == rn[2] or rn[1] == rn[2]):\n",
    "    rn[2] = str(random.randrange(1, 9, 1))\n",
    "\n",
    "    #print(rn)\n",
    "\n",
    "    t_cnt = 0 # 시도횟수\n",
    "    s_cnt = 0 # 스트라이크 갯수\n",
    "    b_cnt = 0 # 볼 갯수\n",
    "\n",
    "    print(\"숫자야구게임을 시작합니다 !!!\")\n",
    "    print(\"---------------------------\")\n",
    "    while ( s_cnt < 3 ):\n",
    "\n",
    "        num = str(input(\"숫자 3자리를 입력하세요 : \"))\n",
    "\n",
    "        s_cnt = 0\n",
    "        b_cnt = 0\n",
    "\n",
    "        for i in range(0, 3):\n",
    "            for j in range(0, 3):\n",
    "                if(num[i] == str(rn[j]) and i == j):\n",
    "                    s_cnt += 1\n",
    "                elif(num[i] == str(rn[j]) and i != j):\n",
    "                    b_cnt += 1\n",
    "        print(\"결과 : [\", s_cnt, \"] Strike [\", b_cnt, \"] Ball\")\n",
    "        t_cnt += 1\n",
    "    print(\"---------------------------\")\n",
    "    print(t_cnt, \"번 만에 정답을 맞추셨습니다.\")"
   ]
  },
  {
   "cell_type": "code",
   "execution_count": null,
   "metadata": {},
   "outputs": [],
   "source": [
    "# 예제) 숫자 Up & Down 게임\n",
    "\n",
    "import random\n",
    "\n",
    "# 게임을 위한 랜덤 숫자 생성\n",
    "\n",
    "rn = random.randrange(1, 101, 1)\n",
    "num = -1\n",
    "\n",
    "t_cnt = 0 # 시도횟수\n",
    "\n",
    "print(\"1~100 숫자 Up & Down 게임을 시작합니다 !!!\")\n",
    "print(\"---------------------------\")\n",
    "while ( rn != num ):\n",
    "\n",
    "    num = int(input(\"1 ~ 100 사이의 숫자를 입력하세요 : \"))\n",
    "\n",
    "    if (num > rn):\n",
    "        print(\"Down\")\n",
    "    elif (num < rn):\n",
    "        print(\"Up\")\n",
    "\n",
    "    t_cnt += 1\n",
    "print(\"---------------------------\")\n",
    "print(t_cnt, \"번 만에 정답을 맞추셨습니다.\")"
   ]
  },
  {
   "cell_type": "code",
   "execution_count": null,
   "metadata": {},
   "outputs": [],
   "source": [
    "# 예제) Lotto 자동번호 추출\n",
    "\n",
    "import random\n",
    "\n",
    "num = int(input(\"lotto 게임 수를 입력하세요 : \"))\n",
    "\n",
    "print(\"lotto 자동 번호 입니다.\")\n",
    "print(\"----------------------\")\n",
    "# 입력한 게임 수 만큼 반복\n",
    "for x in range(1, num+1):\n",
    "    lotto = [0, 0, 0, 0, 0, 0]\n",
    "\n",
    "    lotto[0] = random.randrange(1, 46, 1)\n",
    "\n",
    "    lotto[1] = lotto[0]\n",
    "    lotto[2] = lotto[0]\n",
    "    lotto[3] = lotto[0]\n",
    "    lotto[4] = lotto[0]\n",
    "    lotto[5] = lotto[0]\n",
    "\n",
    "    # 중복된 수가 발생되지 않도록 채번\n",
    "    while (lotto[0] == lotto[1]):\n",
    "        lotto[1] = random.randrange(1, 46, 1)\n",
    "    while (lotto[0] == lotto[2] or lotto[1] == lotto[2]):\n",
    "        lotto[2] = random.randrange(1, 46, 1)\n",
    "    while (lotto[0] == lotto[3] or lotto[1] == lotto[3] or lotto[2] == lotto[3]):\n",
    "        lotto[3] = random.randrange(1, 46, 1)\n",
    "    while (lotto[0] == lotto[4] or lotto[1] == lotto[4] or lotto[2] == lotto[4] or lotto[3] == lotto[4]):\n",
    "        lotto[4] = random.randrange(1, 46, 1)\n",
    "    while (lotto[0] == lotto[5] or lotto[1] == lotto[5] or lotto[2] == lotto[5] or lotto[3] == lotto[5] or lotto[4] == lotto[5]):\n",
    "        lotto[5] = random.randrange(1, 46, 1)\n",
    "\n",
    "    # 결과를 정렬\n",
    "    lotto.sort()\n",
    "\n",
    "    # 결과 출력\n",
    "    print(lotto)"
   ]
  },
  {
   "cell_type": "code",
   "execution_count": null,
   "metadata": {},
   "outputs": [],
   "source": [
    "# 예제) (*)로 Tree 만들기\n",
    "\n",
    " line = int(input(\"Tree 의 높이를 입력하세요(5~30) : \"))\n",
    "\n",
    "    for x in range(1, line * 2, 2):\n",
    "        print((\" \" * ( (line * 2 - 1 - x) // 2 )) + (\"*\" * x))\n",
    "\n",
    "    for y in range(1, 4):\n",
    "        print(\" \" * (line-2) + \"***\")"
   ]
  },
  {
   "cell_type": "code",
   "execution_count": null,
   "metadata": {},
   "outputs": [],
   "source": [
    "# 예제) (*)로 Diamond 만들기\n",
    "\n",
    "line = int(input(\"Diamond 의 길이를 입력하세요(2~30) : \"))\n",
    "\n",
    "    for x in range(1, line * 2, 2):\n",
    "        print((\" \" * ( (line * 2 - 1 - x) // 2 )) + (\"*\" * x))\n",
    "\n",
    "    for y in range(line * 2-3, 0, -2):\n",
    "        print((\" \" * ( (line * 2 - 1 - y) // 2 )) + \"*\" * y)"
   ]
  },
  {
   "cell_type": "markdown",
   "metadata": {},
   "source": [
    "---"
   ]
  },
  {
   "cell_type": "markdown",
   "metadata": {},
   "source": [
    "# 기타"
   ]
  },
  {
   "cell_type": "markdown",
   "metadata": {},
   "source": [
    "### enumerate()"
   ]
  },
  {
   "cell_type": "code",
   "execution_count": null,
   "metadata": {},
   "outputs": [],
   "source": [
    "some_list = ['foo', 'bar', 'baz']\n",
    "for i, v in enumerate(some_list):\n",
    "    print('i: {}, v: {}'.format(i,v))\n"
   ]
  },
  {
   "cell_type": "code",
   "execution_count": null,
   "metadata": {},
   "outputs": [],
   "source": [
    "t = [1, 5, 7, 33, 39, 52]\n",
    "\n",
    "for p in enumerate(t):\n",
    "    print(p)\n",
    "\n",
    "for i, v in enumerate(t):\n",
    "    print(\"index : {}, value: {}\".format(i,v))"
   ]
  },
  {
   "cell_type": "markdown",
   "metadata": {},
   "source": [
    "### zip()"
   ]
  },
  {
   "cell_type": "code",
   "execution_count": null,
   "metadata": {},
   "outputs": [],
   "source": [
    "# zip(*iterable)은 동일한 개수로 이루어진 자료형을 묶어 주는 역할을 하는 함수이다.\n",
    "\n",
    "# ※ 여기서 사용한 *iterable은 반복 가능(iterable)한 자료형 여러 개를 입력할 수 있다는 의미이다.\n",
    "\n",
    "    # >>> list(zip([1, 2, 3], [4, 5, 6]))\n",
    "    # [(1, 4), (2, 5), (3, 6)]\n",
    "    # >>> list(zip([1, 2, 3], [4, 5, 6], [7, 8, 9]))\n",
    "    # [(1, 4, 7), (2, 5, 8), (3, 6, 9)]\n",
    "    # >>> list(zip(\"abc\", \"def\"))\n",
    "    # [(’a’, ’d’), (’b’, ’e’), (’c’, ’f’)]"
   ]
  },
  {
   "cell_type": "code",
   "execution_count": null,
   "metadata": {},
   "outputs": [],
   "source": [
    "# zip : zip(*iterable)은 iterable한 객체를 인수로 받으며 동일한 개수로 이루어진 자료형을 묶어서 iterator로 반환.\n",
    "\n",
    "    # >>> a = zip([1,2,3], (4,5,6))\n",
    "    # >>> next(a)\n",
    "    # (1, 4)\n",
    "    # >>> next(a)\n",
    "    # (2, 5)\n",
    "    # >>> next(a)\n",
    "    # (3, 6)"
   ]
  },
  {
   "cell_type": "code",
   "execution_count": null,
   "metadata": {},
   "outputs": [],
   "source": [
    "# zip은 두개의 iterable객체를 묶어 for문을 한꺼번에 반복시킬때 유용합니다.\n",
    "\n",
    "    # >>> country = ['대한민국','스웨덴', '미국']\n",
    "    # >>> capital = ['서울','스톡홀름','워싱턴']\n",
    "    # >>> for coun, cap in zip(country, capital):\n",
    "    # ...     print('국가명 : {}, 수도:{}'.format(coun,cap))\n",
    "    # ... \n",
    "    # 국가명 : 대한민국, 수도:서울\n",
    "    # 국가명 : 스웨덴, 수도:스톡홀름\n",
    "    # 국가명 : 미국, 수도:워싱턴"
   ]
  },
  {
   "cell_type": "code",
   "execution_count": null,
   "metadata": {},
   "outputs": [],
   "source": [
    "seq1 = ['foo', 'bar', 'baz']\n",
    "seq2 = ['one', 'two', 'three']\n",
    "\n",
    "for a, b in zip(seq1, seq2):\n",
    "    print('a: {}, b: {}'.format(a, b))\n"
   ]
  },
  {
   "cell_type": "markdown",
   "metadata": {},
   "source": [
    "### 리스트, 사전 내포(comprehension)"
   ]
  },
  {
   "cell_type": "code",
   "execution_count": null,
   "metadata": {},
   "outputs": [],
   "source": [
    "# len : Str함수는 아니며, 일반 내장함수입니다. 문자열 길이 또는 컬렉션형의 길이를 나타냅니다.\n",
    "\n",
    "    # >>> len(\"abcd12345abcdefg\")\n",
    "    # 16"
   ]
  },
  {
   "cell_type": "code",
   "execution_count": null,
   "metadata": {},
   "outputs": [],
   "source": [
    "# 리스트 길이구하기\n",
    "# 리스트 길이를 구하기 위해서는 다음처럼 len 함수를 사용해야 한다.\n",
    "\n",
    "    # >>> a = [1, 2, 3]\n",
    "    # >>> len(a)\n",
    "    # 3\n",
    "\n",
    "    # >>> a = \"Life is too short\"\n",
    "    # >>> len(a)\n",
    "    # 17"
   ]
  },
  {
   "cell_type": "code",
   "execution_count": null,
   "metadata": {},
   "outputs": [],
   "source": [
    "# 소문자를 대문자로 바꾸기(upper)\n",
    "# upper 함수는 소문자를 대문자로 바꾸어 준다. 만약 문자열이 이미 대문자라면 아무 변화도 일어나지 않을 것이다.\n",
    "    # >>> a = \"hi\"\n",
    "    # >>> a.upper()\n",
    "    # ’HI’\n",
    "\n",
    "# 대문자를 소문자로 바꾸기(lower)\n",
    "# lower 함수는 대문자를 소문자로 바꾸어 준다.\n",
    "    # >>> a = \"HI\"\n",
    "    # >>> a.lower()\n",
    "    # ’hi’"
   ]
  },
  {
   "cell_type": "code",
   "execution_count": null,
   "metadata": {},
   "outputs": [],
   "source": [
    "strings = ['a', 'as', 'bat', 'car', 'dove', 'python']"
   ]
  },
  {
   "cell_type": "code",
   "execution_count": null,
   "metadata": {},
   "outputs": [],
   "source": [
    "# list\n",
    "lst = [x.upper() for x in strings if len(x) > 2]\n",
    "lst"
   ]
  },
  {
   "cell_type": "code",
   "execution_count": null,
   "metadata": {},
   "outputs": [],
   "source": [
    "# dict\n",
    "dic = {key: index for index, key in enumerate(strings)}\n",
    "dic"
   ]
  },
  {
   "cell_type": "code",
   "execution_count": null,
   "metadata": {},
   "outputs": [],
   "source": [
    "# enumerate는 “열거하다”라는 뜻이다.\n",
    "# 순서가 있는 자료형(리스트, 튜플, 문자열)을 입력으로 받아 인덱스 값을 포함하는 enumerate 객체를 돌려준다.\n",
    "\n",
    "# ※ 보통 enumerate 함수는 다음 예제처럼 for문과 함께 자주 사용한다.\n",
    "\n",
    "    # >>> for i, name in enumerate([’body’, ’foo’, ’bar’]):\n",
    "    # ... print(i, name)\n",
    "    \n",
    "    # 0 body\n",
    "    # 1 foo\n",
    "    # 2 bar\n",
    "    \n",
    "# 순서 값과 함께 body, foo, bar가 순서대로 출력되었다.\n",
    "# 즉 위 예제와 같이 enumerate를 for문과 함께 사용하면 자료형의 현재 순서(index)와 그 값을 쉽게 알 수 있다.\n",
    "# for문처럼 반복되는 구간에서 객체가 현재 어느 위치에 있는지 알려 주는 인덱스 값이 필요할때\n",
    "# enumerate 함수를 사용하면 매우 유용하다.\n"
   ]
  },
  {
   "cell_type": "markdown",
   "metadata": {},
   "source": [
    "---"
   ]
  },
  {
   "cell_type": "code",
   "execution_count": null,
   "metadata": {},
   "outputs": [],
   "source": [
    "# end of file"
   ]
  },
  {
   "cell_type": "code",
   "execution_count": null,
   "metadata": {},
   "outputs": [],
   "source": []
  },
  {
   "cell_type": "markdown",
   "metadata": {},
   "source": [
    "# 104. 함수(Function)"
   ]
  },
  {
   "cell_type": "markdown",
   "metadata": {},
   "source": [
    "### 1.1 사용자 정의 함수"
   ]
  },
  {
   "cell_type": "code",
   "execution_count": null,
   "metadata": {},
   "outputs": [],
   "source": [
    "def say():\n",
    "    print('Hello World')\n",
    "    print('Hello World')\n",
    "    print('Hello World')"
   ]
  },
  {
   "cell_type": "code",
   "execution_count": null,
   "metadata": {},
   "outputs": [],
   "source": [
    "say()"
   ]
  },
  {
   "cell_type": "markdown",
   "metadata": {},
   "source": [
    "#### 함수의 입력값(인자)"
   ]
  },
  {
   "cell_type": "code",
   "execution_count": null,
   "metadata": {},
   "outputs": [],
   "source": [
    "# 입력값\n",
    "def say_n( cnt ):\n",
    "    for i in range(cnt):\n",
    "        print(i, 'Hello World')"
   ]
  },
  {
   "cell_type": "code",
   "execution_count": null,
   "metadata": {},
   "outputs": [],
   "source": [
    "say_n(3)"
   ]
  },
  {
   "cell_type": "markdown",
   "metadata": {},
   "source": [
    "#### 함수의 출력값(리턴값)"
   ]
  },
  {
   "cell_type": "code",
   "execution_count": null,
   "metadata": {},
   "outputs": [],
   "source": [
    "def f1(x):\n",
    "    a = 3\n",
    "    b = 5\n",
    "    y = a*x + b\n",
    "    return y"
   ]
  },
  {
   "cell_type": "code",
   "execution_count": null,
   "metadata": {},
   "outputs": [],
   "source": [
    "c = f1(10)\n",
    "# x 에 10을 넣은 값 35를 c 라는 변수에 반환함. \n",
    "# c 값을 출력하면 반환(return)된 값이 없음.\n",
    "\n",
    "print(c)"
   ]
  },
  {
   "cell_type": "code",
   "execution_count": null,
   "metadata": {},
   "outputs": [],
   "source": [
    "def f2(x):\n",
    "    a = 3\n",
    "    b = 5\n",
    "    y = a*x + b\n",
    "    print(y)"
   ]
  },
  {
   "cell_type": "code",
   "execution_count": null,
   "metadata": {},
   "outputs": [],
   "source": [
    "d = f2(10)\n",
    "print(d)\n",
    "\n",
    "# x 에 10을 넣은 값 35를 d 라는 변수에 반환(return)하지 않음. \n",
    "# d 값을 출력하면 반환(return)된 값이 없음."
   ]
  },
  {
   "cell_type": "code",
   "execution_count": null,
   "metadata": {},
   "outputs": [],
   "source": [
    "# 출력값(return)\n",
    "def add( a, b ):\n",
    "    result = a + b\n",
    "    return result\n"
   ]
  },
  {
   "cell_type": "code",
   "execution_count": null,
   "metadata": {},
   "outputs": [],
   "source": [
    "res = add( 2, 3 )\n",
    "print(res)"
   ]
  },
  {
   "cell_type": "markdown",
   "metadata": {},
   "source": [
    "#### 여러개의 변수를 리턴할 수 있다"
   ]
  },
  {
   "cell_type": "code",
   "execution_count": null,
   "metadata": {},
   "outputs": [],
   "source": [
    "# 여러개의 출력값(return)\n",
    "def add_mul( a, b ):\n",
    "    result_add = a + b\n",
    "    result_mul = a * b\n",
    "    return result_add, result_mul\n"
   ]
  },
  {
   "cell_type": "code",
   "execution_count": null,
   "metadata": {},
   "outputs": [],
   "source": [
    "res = add_mul(3,4)\n",
    "res1, res2 = add_mul(3,4)\n",
    "\n",
    "print(res)\n",
    "print(res1, res2 )"
   ]
  },
  {
   "cell_type": "markdown",
   "metadata": {},
   "source": [
    "#### 입력값: 리스트와 숫자의 차이"
   ]
  },
  {
   "cell_type": "code",
   "execution_count": null,
   "metadata": {},
   "outputs": [],
   "source": [
    "# 입력값: list, number\n",
    "def add_lst(num1, lst1):\n",
    "    num1 = num1 + 1\n",
    "    lst1.append(1)\n",
    "    \n",
    "# append 는 리스트에 원소 추가하는 것. \n",
    "# lst1 이라는 리스트에 원소 1을 추가하라는 뜻."
   ]
  },
  {
   "cell_type": "code",
   "execution_count": null,
   "metadata": {},
   "outputs": [],
   "source": [
    "num = 1\n",
    "lst = [1,2,'Hello World']\n",
    "print('Before: ', num, lst)\n",
    "\n",
    "add_lst( num, lst)\n",
    "print('After : ', num, lst)"
   ]
  },
  {
   "cell_type": "markdown",
   "metadata": {},
   "source": [
    "#### Global 변수"
   ]
  },
  {
   "cell_type": "code",
   "execution_count": null,
   "metadata": {},
   "outputs": [],
   "source": [
    "# global 변수\n",
    "def add_one(x):\n",
    "    global a\n",
    "    a = a + 1\n",
    "    \n",
    "# 기본서 \"왕초보\", \"지역변수\", \"전역변수\" 검색"
   ]
  },
  {
   "cell_type": "code",
   "execution_count": null,
   "metadata": {},
   "outputs": [],
   "source": [
    "a = 1\n",
    "add_one(a)\n",
    "print(a)"
   ]
  },
  {
   "cell_type": "markdown",
   "metadata": {},
   "source": [
    "### 1.2 일반인자(순서), 키워드인자(변수명)"
   ]
  },
  {
   "cell_type": "code",
   "execution_count": null,
   "metadata": {},
   "outputs": [],
   "source": [
    "# 일반인자, 키워드인자\n",
    "def sub_arg( a, b ):\n",
    "    result = a - b\n",
    "    return result"
   ]
  },
  {
   "cell_type": "code",
   "execution_count": null,
   "metadata": {},
   "outputs": [],
   "source": [
    "res1 = sub_arg( 4, 2 )\n",
    "res2 = sub_arg( b = 4, a = 2 )\n",
    "print(res1)\n",
    "print(res2)"
   ]
  },
  {
   "cell_type": "markdown",
   "metadata": {},
   "source": [
    "### 1.3 기본인자(Default)"
   ]
  },
  {
   "cell_type": "code",
   "execution_count": null,
   "metadata": {},
   "outputs": [],
   "source": [
    "# 기본인자\n",
    "def circle_area(r, pi=3.14):\n",
    "    area = pi * (r ** 2)\n",
    "    return area"
   ]
  },
  {
   "cell_type": "code",
   "execution_count": null,
   "metadata": {},
   "outputs": [],
   "source": [
    "res1 = circle_area(3)\n",
    "res2 = circle_area(3, 3.1415)\n",
    "\n",
    "print('면적: {:.4f}'.format(res1))\n",
    "print('면적: {:.4f}'.format(res2))"
   ]
  },
  {
   "cell_type": "markdown",
   "metadata": {},
   "source": [
    "### 1.4 가변인자"
   ]
  },
  {
   "cell_type": "code",
   "execution_count": null,
   "metadata": {},
   "outputs": [],
   "source": [
    "# 가변인자\n",
    "def add_many(*args): \n",
    "    result = 0 \n",
    "    for i in args: \n",
    "        result = result + i \n",
    "        \n",
    "    return result\n",
    "\n",
    "# args는 매개변수를 뜻하는 영어 단어 arguments의 약자이며 관례적으로 자주 사용한다."
   ]
  },
  {
   "cell_type": "code",
   "execution_count": null,
   "metadata": {},
   "outputs": [],
   "source": [
    "add_many(1,2,3,4,5,6,7)"
   ]
  },
  {
   "cell_type": "code",
   "execution_count": null,
   "metadata": {},
   "outputs": [],
   "source": [
    "def add_mul(choice, *args): \n",
    "    if choice == \"add\": \n",
    "        result = 0 \n",
    "        for i in args: \n",
    "            result = result + i \n",
    "    elif choice == \"mul\": \n",
    "        result = 1 \n",
    "        for i in args: \n",
    "            result = result * i \n",
    "            \n",
    "    return result "
   ]
  },
  {
   "cell_type": "code",
   "execution_count": null,
   "metadata": {},
   "outputs": [],
   "source": [
    "res1 = add_mul('add', 1,2,3,4)\n",
    "res2 = add_mul('mul', 1,2,3,4)\n",
    "\n",
    "print(res1)\n",
    "print(res2)"
   ]
  },
  {
   "cell_type": "markdown",
   "metadata": {},
   "source": [
    "### 1.5 정의되지 않은 인자"
   ]
  },
  {
   "cell_type": "code",
   "execution_count": null,
   "metadata": {},
   "outputs": [],
   "source": [
    "# 정의되지 않은 인자\n",
    "def print_kwargs(**kwargs):\n",
    "    print(kwargs)\n",
    "    \n",
    "# 여기에서 kwargs는 keyword arguments의 약자이며 args와 마찬가지로 관례적으로 사용한다."
   ]
  },
  {
   "cell_type": "code",
   "execution_count": null,
   "metadata": {},
   "outputs": [],
   "source": [
    "print_kwargs(a=1)\n",
    "print_kwargs(name='foo', age=3)"
   ]
  },
  {
   "cell_type": "code",
   "execution_count": null,
   "metadata": {},
   "outputs": [],
   "source": [
    "def area_arg(r, *pi, **info):\n",
    "    for item in pi:\n",
    "        area = item * (r ** 2)\n",
    "        print('반지름: ', r, 'PI: ', item, '면적: ', round(area,2) )\n",
    "        \n",
    "    for key in info:\n",
    "        print(key, ':', info[key])"
   ]
  },
  {
   "cell_type": "code",
   "execution_count": null,
   "metadata": {},
   "outputs": [],
   "source": [
    "area_arg(3, 3.14, 3.1415, line_color='파랑', area_color='노랑')\n",
    "\n",
    "print()\n",
    "\n",
    "area_arg(5, 3.14, 3.1415, polygon_name='원', value='면적')\n"
   ]
  },
  {
   "cell_type": "markdown",
   "metadata": {},
   "source": [
    "#### <참고> tuple, dict의 활용"
   ]
  },
  {
   "cell_type": "code",
   "execution_count": null,
   "metadata": {},
   "outputs": [],
   "source": [
    "def f_a(a,b,c):\n",
    "    print(a,b,c)"
   ]
  },
  {
   "cell_type": "code",
   "execution_count": null,
   "metadata": {},
   "outputs": [],
   "source": [
    "def f_b(a,b,c):\n",
    "    print(a,b,c)\n",
    "   "
   ]
  },
  {
   "cell_type": "code",
   "execution_count": null,
   "metadata": {},
   "outputs": [],
   "source": [
    "lst = [1,2,3]\n",
    "f_a(*lst)"
   ]
  },
  {
   "cell_type": "code",
   "execution_count": null,
   "metadata": {},
   "outputs": [],
   "source": [
    "dic = {'a':4, 'b':5, 'c':6}\n",
    "f_b(**dic)"
   ]
  },
  {
   "cell_type": "markdown",
   "metadata": {},
   "source": [
    "### 1.6 익명함수( lambda )"
   ]
  },
  {
   "cell_type": "code",
   "execution_count": null,
   "metadata": {},
   "outputs": [],
   "source": [
    "add = lambda a, b: a + b\n",
    "result = add(3, 4)\n",
    "print(result)"
   ]
  },
  {
   "cell_type": "code",
   "execution_count": null,
   "metadata": {},
   "outputs": [],
   "source": [
    "def f_c( a, b, func ):\n",
    "    result = func(a,b)\n",
    "    return result"
   ]
  },
  {
   "cell_type": "code",
   "execution_count": null,
   "metadata": {},
   "outputs": [],
   "source": [
    "res = f_c(2,3, lambda x, y: x + y )\n",
    "print(res)"
   ]
  },
  {
   "cell_type": "markdown",
   "metadata": {},
   "source": [
    "### 1.7 예제: 요일 구하기(함수)"
   ]
  },
  {
   "cell_type": "code",
   "execution_count": null,
   "metadata": {},
   "outputs": [],
   "source": [
    "# 년월일을 입력받는 함수\n",
    "# 반환값: 년월일을 튜플형태로 반환\n",
    "def input_date():\n",
    "    year  = int(input('년도를 입력하시오: '))\n",
    "    month = int(input('월을 입력하시오: '))\n",
    "    day   = int(input('일을 입력하시오: '))\n",
    "    \n",
    "    return year, month, day"
   ]
  },
  {
   "cell_type": "code",
   "execution_count": null,
   "metadata": {},
   "outputs": [],
   "source": [
    "# 윤년인지를 확인하는 함수\n",
    "# 입력인자: year\n",
    "# 반환값: True = 윤년, False = 평년\n",
    "def is_leap(year):\n",
    "    if year % 400 == 0:                 # 400으로 나뉘는 해: 윤년\n",
    "        return True\n",
    "    elif year % 100 == 0:               # 100으로 나뉘는 해: 평년\n",
    "        return False\n",
    "    elif year % 4 == 0:                 # 4으로 나뉘는 해  : 윤년\n",
    "        return True\n",
    "    else:\n",
    "        return False"
   ]
  },
  {
   "cell_type": "code",
   "execution_count": null,
   "metadata": {},
   "outputs": [],
   "source": [
    "# 요일을 구하는 함수\n",
    "# 입력인자: year, month, day\n",
    "# 반환값: 요일\n",
    "def get_day_name(year, month, day):\n",
    "\n",
    "    total_days = 0\n",
    "\n",
    "    year_month_days = [0,31,28,31,30,31,30,31,31,30,31,30,31]\n",
    "    day_names = ['일요일','월요일','화요일','수요일','목요일','금요일','토요일']\n",
    "    \n",
    "    for item in range(1,year):\n",
    "        if is_leap(item):\n",
    "            total_days = total_days + 366\n",
    "        else:\n",
    "            total_days = total_days + 365\n",
    "\n",
    "    for item in range(1,month):\n",
    "        total_days = total_days + year_month_days[item]\n",
    "\n",
    "    if month >= 3:\n",
    "        if is_leap(year):\n",
    "            total_days = total_days + 1\n",
    "        else:\n",
    "            total_days = total_days + 0\n",
    "\n",
    "    total_days += day\n",
    "    remainder = total_days % 7\n",
    "    \n",
    "    return day_names[remainder]"
   ]
  },
  {
   "cell_type": "code",
   "execution_count": null,
   "metadata": {},
   "outputs": [],
   "source": [
    "# main\n",
    "\n",
    "year, month, day = input_date()\n",
    "day_name = get_day_name(year, month, day)\n",
    "\n",
    "print(day_name, '입니다')"
   ]
  },
  {
   "cell_type": "markdown",
   "metadata": {},
   "source": [
    "### 1.8 예제: 성적 처리 시스템(함수)"
   ]
  },
  {
   "cell_type": "code",
   "execution_count": null,
   "metadata": {},
   "outputs": [],
   "source": [
    "# 학생들의 총점을 구하는 함수\n",
    "def calculate_total(students):\n",
    "    for student in students:\n",
    "        student['total'] = student['kor'] + student['eng'] + student['math']"
   ]
  },
  {
   "cell_type": "code",
   "execution_count": null,
   "metadata": {},
   "outputs": [],
   "source": [
    "# 학생들의 평균을 구하는 함수\n",
    "def calculate_average(students):\n",
    "    for student in students:\n",
    "        student['avg'] = student['total'] / len(students)"
   ]
  },
  {
   "cell_type": "code",
   "execution_count": null,
   "metadata": {},
   "outputs": [],
   "source": [
    "# 학생들의 등수를 구하는 함수\n",
    "def calculate_order(students):\n",
    "    temp_students = sorted(students, key = lambda x: x['total'], reverse=True) # 익명함수 활용\n",
    "    order = 1\n",
    "    for student in temp_students:\n",
    "        student['order'] = order\n",
    "        order = order + 1\n",
    "    \n",
    "    return temp_students"
   ]
  },
  {
   "cell_type": "code",
   "execution_count": null,
   "metadata": {},
   "outputs": [],
   "source": [
    "# 반 평균을 구하는 함수\n",
    "def calculate_class_avg(students):\n",
    "    class_total = 0\n",
    "    \n",
    "    for student in students:\n",
    "        class_total = class_total + student['total']\n",
    "        \n",
    "    return class_total / len(students)"
   ]
  },
  {
   "cell_type": "code",
   "execution_count": null,
   "metadata": {},
   "outputs": [],
   "source": [
    "# 반의 국어 평균을 구하는 함수\n",
    "def calculate_kor_avg(students):\n",
    "    kor_total = 0\n",
    "    \n",
    "    for student in students:\n",
    "        kor_total = kor_total + student['kor']\n",
    "        \n",
    "    return kor_total / len(students)"
   ]
  },
  {
   "cell_type": "code",
   "execution_count": null,
   "metadata": {},
   "outputs": [],
   "source": [
    "# 반의 영어 평균을 구하는 함수\n",
    "def calculate_eng_avg(students):\n",
    "    eng_total = 0\n",
    "    \n",
    "    for student in students:\n",
    "        eng_total = eng_total + student['eng']\n",
    "        \n",
    "    return eng_total / len(students)"
   ]
  },
  {
   "cell_type": "code",
   "execution_count": null,
   "metadata": {},
   "outputs": [],
   "source": [
    "# 반의 수학 평균을 구하는 함수\n",
    "def calculate_math_avg(students):\n",
    "    math_total = 0\n",
    "    \n",
    "    for student in students:\n",
    "        math_total = math_total + student['math']\n",
    "        \n",
    "    return math_total / len(students)"
   ]
  },
  {
   "cell_type": "code",
   "execution_count": null,
   "metadata": {},
   "outputs": [],
   "source": [
    "# 학생 데이터를 출력하는 함수\n",
    "def print_student(students):\n",
    "    for student in students:\n",
    "        print('번호: {:s}, 이름: {:s}, 국어: {:d}, 영어: {:d}, 수학: {:d}, 총점: {:d}, 평균: {:.2f}, 등수: {:d}'.format(\n",
    "               student['num'], student['name'],\n",
    "               student['kor'], student['eng'], student['math'],\n",
    "               student['total'], student['avg'], student['order'])\n",
    "             )"
   ]
  },
  {
   "cell_type": "code",
   "execution_count": null,
   "metadata": {},
   "outputs": [],
   "source": [
    "# 반의 평균 및 각 과목의 평균을 출력하는 함수\n",
    "def print_class(class_avg, kor_avg, eng_avg, math_avg):\n",
    "    print('반 평균  : {:.2f}'.format(class_avg))\n",
    "    print('국어 평균: {:.2f}'.format(kor_avg)  ) \n",
    "    print('영어 평균: {:.2f}'.format(eng_avg)  )\n",
    "    print('수학 평균: {:.2f}'.format(math_avg) )"
   ]
  },
  {
   "cell_type": "code",
   "execution_count": null,
   "metadata": {},
   "outputs": [],
   "source": [
    "# main\n",
    "\n",
    "students = [\n",
    "               {'num':'1','name':'김철수','kor':90,'eng':80,'math':85,'total':0,'avg':0.0,'order':0 },\n",
    "               {'num':'2','name':'박제동','kor':90,'eng':85,'math':90,'total':0,'avg':0.0,'order':0 },\n",
    "               {'num':'3','name':'홍길동','kor':80,'eng':80,'math':80,'total':0,'avg':0.0,'order':0 }\n",
    "           ]\n",
    "\n",
    "class_avg   = 0.0\n",
    "kor_avg     = 0.0\n",
    "eng_avg     = 0.0\n",
    "math_avg    = 0.0\n",
    "\n",
    "calculate_total(students)                      # 학생의 총점 계산\n",
    "calculate_average(students)                    # 학생의 평균 계산\n",
    "students = calculate_order(students)           # 학생의 등수 계산\n",
    "\n",
    "class_avg   = calculate_class_avg(students)    # 반 평균 계산\n",
    "kor_avg     = calculate_kor_avg(students)      # 반 국어 평균 계산\n",
    "eng_avg     = calculate_eng_avg(students)      # 반 영어 평균 계산\n",
    "math_avg    = calculate_math_avg(students)     # 반 수학 평균 계산\n",
    "\n",
    "\n",
    "print_student(students)                            # 학생들 데이터 출력\n",
    "print()\n",
    "print_class(class_avg, kor_avg, eng_avg, math_avg) # 반 평균, 각 과목 평균 출력\n"
   ]
  },
  {
   "cell_type": "markdown",
   "metadata": {},
   "source": [
    "### 1.9 내장 함수(Built-in 함수)"
   ]
  },
  {
   "cell_type": "markdown",
   "metadata": {},
   "source": [
    "[내장함수 참조 사이트](https://docs.python.org/3.4/library/functions.html)"
   ]
  },
  {
   "cell_type": "markdown",
   "metadata": {},
   "source": [
    "#### abs()"
   ]
  },
  {
   "cell_type": "code",
   "execution_count": null,
   "metadata": {},
   "outputs": [],
   "source": [
    "abs(3)\n",
    "abs(-3)\n",
    "abs(-1.2)"
   ]
  },
  {
   "cell_type": "markdown",
   "metadata": {},
   "source": [
    "#### all()"
   ]
  },
  {
   "cell_type": "code",
   "execution_count": null,
   "metadata": {},
   "outputs": [],
   "source": [
    "all([1, 2, 3])"
   ]
  },
  {
   "cell_type": "code",
   "execution_count": null,
   "metadata": {},
   "outputs": [],
   "source": [
    "all([1, 2, 3, 0])"
   ]
  },
  {
   "cell_type": "markdown",
   "metadata": {},
   "source": [
    "#### any()"
   ]
  },
  {
   "cell_type": "code",
   "execution_count": null,
   "metadata": {},
   "outputs": [],
   "source": [
    "any([1,2,3,0])"
   ]
  },
  {
   "cell_type": "code",
   "execution_count": null,
   "metadata": {},
   "outputs": [],
   "source": [
    "any([0,''])"
   ]
  },
  {
   "cell_type": "markdown",
   "metadata": {},
   "source": [
    "#### enumerate()"
   ]
  },
  {
   "cell_type": "code",
   "execution_count": null,
   "metadata": {},
   "outputs": [],
   "source": [
    "for i, name in enumerate(['body', 'foo', 'bar']):\n",
    "    print(i, name)"
   ]
  },
  {
   "cell_type": "markdown",
   "metadata": {},
   "source": [
    "#### isinstance()"
   ]
  },
  {
   "cell_type": "code",
   "execution_count": null,
   "metadata": {},
   "outputs": [],
   "source": [
    "isinstance(1, int)"
   ]
  },
  {
   "cell_type": "markdown",
   "metadata": {},
   "source": [
    "#### len()"
   ]
  },
  {
   "cell_type": "code",
   "execution_count": null,
   "metadata": {},
   "outputs": [],
   "source": [
    "len(\"python\")"
   ]
  },
  {
   "cell_type": "code",
   "execution_count": null,
   "metadata": {},
   "outputs": [],
   "source": [
    "len([1,2,3])"
   ]
  },
  {
   "cell_type": "code",
   "execution_count": null,
   "metadata": {},
   "outputs": [],
   "source": [
    "len((1, 'a'))"
   ]
  },
  {
   "cell_type": "markdown",
   "metadata": {},
   "source": [
    "#### map()"
   ]
  },
  {
   "cell_type": "code",
   "execution_count": null,
   "metadata": {},
   "outputs": [],
   "source": [
    "def two_times(x): \n",
    "    return x*2\n",
    "\n",
    "list(map(two_times, [1, 2, 3, 4]))"
   ]
  },
  {
   "cell_type": "markdown",
   "metadata": {},
   "source": [
    "#### max()"
   ]
  },
  {
   "cell_type": "code",
   "execution_count": null,
   "metadata": {},
   "outputs": [],
   "source": [
    "max([1, 2, 3])"
   ]
  },
  {
   "cell_type": "code",
   "execution_count": null,
   "metadata": {},
   "outputs": [],
   "source": [
    "max(\"python\")"
   ]
  },
  {
   "cell_type": "markdown",
   "metadata": {},
   "source": [
    "#### min()"
   ]
  },
  {
   "cell_type": "code",
   "execution_count": null,
   "metadata": {},
   "outputs": [],
   "source": [
    "min([1, 2, 3])\n",
    "min(\"python\")"
   ]
  },
  {
   "cell_type": "markdown",
   "metadata": {},
   "source": [
    "#### pow()"
   ]
  },
  {
   "cell_type": "code",
   "execution_count": null,
   "metadata": {},
   "outputs": [],
   "source": [
    "pow(2, 3)"
   ]
  },
  {
   "cell_type": "markdown",
   "metadata": {},
   "source": [
    "#### range()"
   ]
  },
  {
   "cell_type": "code",
   "execution_count": null,
   "metadata": {},
   "outputs": [],
   "source": [
    "list(range(5))"
   ]
  },
  {
   "cell_type": "code",
   "execution_count": null,
   "metadata": {},
   "outputs": [],
   "source": [
    "list(range(5, 10))"
   ]
  },
  {
   "cell_type": "code",
   "execution_count": null,
   "metadata": {},
   "outputs": [],
   "source": [
    "list(range(1, 10, 2))"
   ]
  },
  {
   "cell_type": "markdown",
   "metadata": {},
   "source": [
    "#### round()"
   ]
  },
  {
   "cell_type": "code",
   "execution_count": null,
   "metadata": {},
   "outputs": [],
   "source": [
    "round(4.6)"
   ]
  },
  {
   "cell_type": "code",
   "execution_count": null,
   "metadata": {},
   "outputs": [],
   "source": [
    "round(5.678, 2)"
   ]
  },
  {
   "cell_type": "markdown",
   "metadata": {},
   "source": [
    "#### sorted()"
   ]
  },
  {
   "cell_type": "code",
   "execution_count": null,
   "metadata": {},
   "outputs": [],
   "source": [
    "sorted([3, 1, 2])"
   ]
  },
  {
   "cell_type": "code",
   "execution_count": null,
   "metadata": {},
   "outputs": [],
   "source": [
    "sorted(['a', 'c', 'b'])"
   ]
  },
  {
   "cell_type": "code",
   "execution_count": null,
   "metadata": {},
   "outputs": [],
   "source": [
    "sorted(\"zero\")"
   ]
  },
  {
   "cell_type": "code",
   "execution_count": null,
   "metadata": {},
   "outputs": [],
   "source": [
    "sorted((3, 2, 1))"
   ]
  },
  {
   "cell_type": "code",
   "execution_count": null,
   "metadata": {},
   "outputs": [],
   "source": [
    "lst = [3, 1, 2]\n",
    "lst.sort()"
   ]
  },
  {
   "cell_type": "markdown",
   "metadata": {},
   "source": [
    "#### sum()"
   ]
  },
  {
   "cell_type": "code",
   "execution_count": null,
   "metadata": {},
   "outputs": [],
   "source": [
    "sum([1,2,3])"
   ]
  },
  {
   "cell_type": "code",
   "execution_count": null,
   "metadata": {},
   "outputs": [],
   "source": [
    "sum((4,5,6))"
   ]
  },
  {
   "cell_type": "markdown",
   "metadata": {},
   "source": [
    "#### type()"
   ]
  },
  {
   "cell_type": "code",
   "execution_count": null,
   "metadata": {},
   "outputs": [],
   "source": [
    "type(\"abc\")"
   ]
  },
  {
   "cell_type": "code",
   "execution_count": null,
   "metadata": {},
   "outputs": [],
   "source": [
    "type([ ])"
   ]
  },
  {
   "cell_type": "markdown",
   "metadata": {},
   "source": [
    "#### zip()"
   ]
  },
  {
   "cell_type": "code",
   "execution_count": null,
   "metadata": {},
   "outputs": [],
   "source": [
    "list(zip([1, 2, 3], [4, 5, 6]))"
   ]
  },
  {
   "cell_type": "code",
   "execution_count": null,
   "metadata": {},
   "outputs": [],
   "source": [
    "list(zip([1, 2, 3], [4, 5, 6], [7, 8, 9]))"
   ]
  },
  {
   "cell_type": "code",
   "execution_count": null,
   "metadata": {},
   "outputs": [],
   "source": [
    "list(zip(\"abc\", \"def\"))"
   ]
  },
  {
   "cell_type": "markdown",
   "metadata": {},
   "source": [
    "### 1.10 외장 함수"
   ]
  },
  {
   "cell_type": "markdown",
   "metadata": {},
   "source": [
    "#### math"
   ]
  },
  {
   "cell_type": "code",
   "execution_count": null,
   "metadata": {},
   "outputs": [],
   "source": [
    "import math\n",
    "\n",
    "math.sin(math.pi)"
   ]
  },
  {
   "cell_type": "code",
   "execution_count": null,
   "metadata": {},
   "outputs": [],
   "source": [
    "math.log(math.e)"
   ]
  },
  {
   "cell_type": "code",
   "execution_count": null,
   "metadata": {},
   "outputs": [],
   "source": [
    "import math as ma\n",
    "\n",
    "ma.sin(ma.pi)"
   ]
  },
  {
   "cell_type": "code",
   "execution_count": null,
   "metadata": {},
   "outputs": [],
   "source": [
    "ma.log(ma.e)"
   ]
  },
  {
   "cell_type": "code",
   "execution_count": null,
   "metadata": {},
   "outputs": [],
   "source": [
    "from math import sin, log, pi, e\n",
    "sin(pi)"
   ]
  },
  {
   "cell_type": "code",
   "execution_count": null,
   "metadata": {},
   "outputs": [],
   "source": [
    "log(e)"
   ]
  },
  {
   "cell_type": "code",
   "execution_count": null,
   "metadata": {},
   "outputs": [],
   "source": [
    "from math import *\n",
    "sin(pi)"
   ]
  },
  {
   "cell_type": "code",
   "execution_count": null,
   "metadata": {},
   "outputs": [],
   "source": [
    "log(e)"
   ]
  },
  {
   "cell_type": "markdown",
   "metadata": {},
   "source": [
    "#### os"
   ]
  },
  {
   "cell_type": "code",
   "execution_count": null,
   "metadata": {},
   "outputs": [],
   "source": [
    "import os"
   ]
  },
  {
   "cell_type": "code",
   "execution_count": null,
   "metadata": {},
   "outputs": [],
   "source": [
    "os.name"
   ]
  },
  {
   "cell_type": "code",
   "execution_count": null,
   "metadata": {},
   "outputs": [],
   "source": [
    "# os.environ"
   ]
  },
  {
   "cell_type": "code",
   "execution_count": null,
   "metadata": {},
   "outputs": [],
   "source": [
    "os.environ['PATH']"
   ]
  },
  {
   "cell_type": "code",
   "execution_count": null,
   "metadata": {},
   "outputs": [],
   "source": [
    "os.getcwd()"
   ]
  },
  {
   "cell_type": "code",
   "execution_count": null,
   "metadata": {},
   "outputs": [],
   "source": [
    "# os.chdir(\"/home/fdnx\")"
   ]
  },
  {
   "cell_type": "code",
   "execution_count": null,
   "metadata": {},
   "outputs": [],
   "source": [
    "os.path.join(os.getcwd(), 'tmp')"
   ]
  },
  {
   "cell_type": "code",
   "execution_count": null,
   "metadata": {},
   "outputs": [],
   "source": [
    "os.listdir('c:\\\\')\n",
    "#os.listdir('/home/fdnx')"
   ]
  },
  {
   "cell_type": "code",
   "execution_count": null,
   "metadata": {},
   "outputs": [],
   "source": [
    "os.mkdir( os.path.join(os.getcwd(), 'test'))\n",
    "os.listdir()"
   ]
  },
  {
   "cell_type": "code",
   "execution_count": null,
   "metadata": {},
   "outputs": [],
   "source": [
    "os.remove( os.path.join(os.getcwd(), 'aaa.txt'))\n",
    "os.listdir()"
   ]
  },
  {
   "cell_type": "code",
   "execution_count": null,
   "metadata": {},
   "outputs": [],
   "source": [
    "os.rmdir( os.path.join(os.getcwd(), 'test'))\n",
    "os.listdir()"
   ]
  },
  {
   "cell_type": "code",
   "execution_count": null,
   "metadata": {},
   "outputs": [],
   "source": [
    "os.system(\"dir\")"
   ]
  },
  {
   "cell_type": "code",
   "execution_count": null,
   "metadata": {},
   "outputs": [],
   "source": [
    "f = os.popen(\"dir\")\n",
    "print(f.read())"
   ]
  },
  {
   "cell_type": "markdown",
   "metadata": {},
   "source": [
    "#### sys"
   ]
  },
  {
   "cell_type": "code",
   "execution_count": null,
   "metadata": {},
   "outputs": [],
   "source": [
    "import sys"
   ]
  },
  {
   "cell_type": "code",
   "execution_count": null,
   "metadata": {},
   "outputs": [],
   "source": [
    "sys.argv"
   ]
  },
  {
   "cell_type": "code",
   "execution_count": null,
   "metadata": {},
   "outputs": [],
   "source": [
    "for item in sys.argv:\n",
    "    print(item)"
   ]
  },
  {
   "cell_type": "code",
   "execution_count": null,
   "metadata": {},
   "outputs": [],
   "source": [
    "sys.copyright"
   ]
  },
  {
   "cell_type": "code",
   "execution_count": null,
   "metadata": {},
   "outputs": [],
   "source": [
    "sys.version"
   ]
  },
  {
   "cell_type": "code",
   "execution_count": null,
   "metadata": {},
   "outputs": [],
   "source": [
    "sys.path"
   ]
  },
  {
   "cell_type": "code",
   "execution_count": null,
   "metadata": {},
   "outputs": [],
   "source": [
    "sys.path.append(\"/home/fdnx\")\n",
    "\n",
    "# export PYTHONPATH=\"${PYTHONPATH}:/my/other/path\""
   ]
  },
  {
   "cell_type": "markdown",
   "metadata": {},
   "source": [
    "#### time"
   ]
  },
  {
   "cell_type": "code",
   "execution_count": null,
   "metadata": {},
   "outputs": [],
   "source": [
    "import time"
   ]
  },
  {
   "cell_type": "code",
   "execution_count": null,
   "metadata": {},
   "outputs": [],
   "source": [
    "time.time()"
   ]
  },
  {
   "cell_type": "code",
   "execution_count": null,
   "metadata": {},
   "outputs": [],
   "source": [
    "time.sleep(1)"
   ]
  },
  {
   "cell_type": "code",
   "execution_count": null,
   "metadata": {},
   "outputs": [],
   "source": [
    "input('Enter a number: ')\n",
    "t1 = time.time()\n",
    "time.sleep(3)\n",
    "\n",
    "input('Enter a number again: ')\n",
    "t2 = time.time()\n",
    "\n",
    "time_gap = t2 -t1\n",
    "\n",
    "print('Time gap: ', time_gap)\n"
   ]
  },
  {
   "cell_type": "code",
   "execution_count": null,
   "metadata": {},
   "outputs": [],
   "source": [
    "%time print('aa')\n",
    "# %timeit print('aa')"
   ]
  },
  {
   "cell_type": "code",
   "execution_count": null,
   "metadata": {},
   "outputs": [],
   "source": [
    "%%time\n",
    "print('aa')\n",
    "time.sleep(2)\n",
    "print('bb')\n",
    "#%%timeit\n",
    "#print('aa')\n",
    "#print('bb')"
   ]
  },
  {
   "cell_type": "code",
   "execution_count": null,
   "metadata": {},
   "outputs": [],
   "source": [
    "time.gmtime()"
   ]
  },
  {
   "cell_type": "code",
   "execution_count": null,
   "metadata": {},
   "outputs": [],
   "source": [
    "time.localtime()"
   ]
  },
  {
   "cell_type": "code",
   "execution_count": null,
   "metadata": {},
   "outputs": [],
   "source": [
    "time.asctime(time.localtime())"
   ]
  },
  {
   "cell_type": "code",
   "execution_count": null,
   "metadata": {},
   "outputs": [],
   "source": [
    "time.mktime(time.localtime())"
   ]
  },
  {
   "cell_type": "markdown",
   "metadata": {},
   "source": [
    "#### datetime"
   ]
  },
  {
   "cell_type": "code",
   "execution_count": null,
   "metadata": {},
   "outputs": [],
   "source": [
    "import datetime as dtime"
   ]
  },
  {
   "cell_type": "code",
   "execution_count": null,
   "metadata": {},
   "outputs": [],
   "source": [
    "dtime.date.today()"
   ]
  },
  {
   "cell_type": "code",
   "execution_count": null,
   "metadata": {},
   "outputs": [],
   "source": [
    "dtime.date.fromtimestamp(time.time())"
   ]
  },
  {
   "cell_type": "code",
   "execution_count": null,
   "metadata": {},
   "outputs": [],
   "source": [
    "from datetime import datetime"
   ]
  },
  {
   "cell_type": "code",
   "execution_count": null,
   "metadata": {},
   "outputs": [],
   "source": [
    "dt = datetime(2011, 10, 29, 20, 30, 21)"
   ]
  },
  {
   "cell_type": "code",
   "execution_count": null,
   "metadata": {},
   "outputs": [],
   "source": [
    "dt.day"
   ]
  },
  {
   "cell_type": "code",
   "execution_count": null,
   "metadata": {},
   "outputs": [],
   "source": [
    "dt.minute"
   ]
  },
  {
   "cell_type": "code",
   "execution_count": null,
   "metadata": {},
   "outputs": [],
   "source": [
    "dt.date()"
   ]
  },
  {
   "cell_type": "code",
   "execution_count": null,
   "metadata": {},
   "outputs": [],
   "source": [
    "dt.time()"
   ]
  },
  {
   "cell_type": "code",
   "execution_count": null,
   "metadata": {},
   "outputs": [],
   "source": [
    "dt.strftime('%Y-%m-%d %H:%M:%S')"
   ]
  },
  {
   "cell_type": "code",
   "execution_count": null,
   "metadata": {},
   "outputs": [],
   "source": [
    "datetime.strptime('20191031092030', '%Y%m%d%H%M%S')"
   ]
  },
  {
   "cell_type": "code",
   "execution_count": null,
   "metadata": {},
   "outputs": [],
   "source": [
    "datetime.strptime('20091031', '%Y%m%d')"
   ]
  },
  {
   "cell_type": "code",
   "execution_count": null,
   "metadata": {},
   "outputs": [],
   "source": [
    "dt.replace(minute=0, second=0)"
   ]
  },
  {
   "cell_type": "code",
   "execution_count": null,
   "metadata": {},
   "outputs": [],
   "source": [
    "dt2 = datetime(2011, 11, 15, 22, 30)\n",
    "delta = dt2 - dt\n",
    "delta\n",
    "type(delta)"
   ]
  },
  {
   "cell_type": "code",
   "execution_count": null,
   "metadata": {},
   "outputs": [],
   "source": [
    "dt"
   ]
  },
  {
   "cell_type": "code",
   "execution_count": null,
   "metadata": {},
   "outputs": [],
   "source": [
    "dt + delta"
   ]
  },
  {
   "cell_type": "markdown",
   "metadata": {},
   "source": [
    "[날짜 및 시간 문자열 포멧 참조 사이트](https://docs.python.org/2/library/datetime.html#strftime-and-strptime-behavior)"
   ]
  },
  {
   "cell_type": "markdown",
   "metadata": {},
   "source": [
    "<center>날짜 및 시간 지정 | <center> 문자열 의미\n",
    ":---:|:---\n",
    "%Y | 앞의 빈자리를 0으로 채우는 4자리 연도 숫자\n",
    "%m | 앞의 빈자리를 0으로 채우는 2자리 월 숫자\n",
    "%d | 앞의 빈자리를 0으로 채우는 2자리 일 숫자\n",
    "%H | 앞의 빈자리를 0으로 채우는 24시간 형식 2자리 시간 숫자\n",
    "%M | 앞의 빈자리를 0으로 채우는 2자리 분 숫자\n",
    "%S | 앞의 빈자리를 0으로 채우는 2자리 초 숫자\n",
    "%A | 영어로 된 요일 문자열\n",
    "%B | 영어로 된 월 문자열"
   ]
  },
  {
   "cell_type": "code",
   "execution_count": null,
   "metadata": {},
   "outputs": [],
   "source": [
    "from dateutil.parser import parse"
   ]
  },
  {
   "cell_type": "code",
   "execution_count": null,
   "metadata": {},
   "outputs": [],
   "source": [
    "parse('2016-04-16')"
   ]
  },
  {
   "cell_type": "code",
   "execution_count": null,
   "metadata": {},
   "outputs": [],
   "source": [
    "parse(\"Apr 16, 2016 04:05:32 PM\")"
   ]
  },
  {
   "cell_type": "code",
   "execution_count": null,
   "metadata": {},
   "outputs": [],
   "source": [
    "parse('6/7/2016')"
   ]
  },
  {
   "cell_type": "markdown",
   "metadata": {},
   "source": [
    "#### random"
   ]
  },
  {
   "cell_type": "code",
   "execution_count": null,
   "metadata": {},
   "outputs": [],
   "source": [
    "import random"
   ]
  },
  {
   "cell_type": "code",
   "execution_count": null,
   "metadata": {},
   "outputs": [],
   "source": [
    "random.seed(123)"
   ]
  },
  {
   "cell_type": "code",
   "execution_count": null,
   "metadata": {},
   "outputs": [],
   "source": [
    "random.randint(1,10)"
   ]
  },
  {
   "cell_type": "code",
   "execution_count": null,
   "metadata": {
    "scrolled": true
   },
   "outputs": [],
   "source": [
    "random.random()"
   ]
  },
  {
   "cell_type": "code",
   "execution_count": null,
   "metadata": {},
   "outputs": [],
   "source": [
    "# lotto_number\n",
    "\n",
    "import random\n",
    "\n",
    "def get_lotto_numbers():\n",
    "    lotto_numbers = []\n",
    "    \n",
    "    while True:\n",
    "        if len(lotto_numbers) == 6:\n",
    "            break\n",
    "        \n",
    "        number = random.randint(1,45)\n",
    "        if number in lotto_numbers:\n",
    "            continue\n",
    "        else:\n",
    "            lotto_numbers.append(number)\n",
    "        \n",
    "    return sorted(lotto_numbers)"
   ]
  },
  {
   "cell_type": "code",
   "execution_count": null,
   "metadata": {},
   "outputs": [],
   "source": [
    "lotto_numbers = get_lotto_numbers()\n",
    "print(lotto_numbers)"
   ]
  },
  {
   "cell_type": "markdown",
   "metadata": {},
   "source": [
    "### 1.11 라이브러리(패키지)"
   ]
  },
  {
   "cell_type": "markdown",
   "metadata": {},
   "source": [
    "#### package, module, function"
   ]
  },
  {
   "cell_type": "markdown",
   "metadata": {},
   "source": [
    "#### mod1.py\n",
    "\n",
    "```python\n",
    "def add(a, b): \n",
    "    return a+b\n",
    "\n",
    "def sub(a, b): \n",
    "    return a-b\n",
    "```"
   ]
  },
  {
   "cell_type": "markdown",
   "metadata": {},
   "source": [
    "#### mod2.py\n",
    "\n",
    "```python\n",
    "PI = 3.141592\n",
    "\n",
    "def add(a, b): \n",
    "    return a+b\n",
    "\n",
    "def sub(a, b): \n",
    "    return a-b\n",
    "\n",
    "if __name__ == \"__main__\":\n",
    "    print(add(3, 4))\n",
    "    print(sub(5, 3))\n",
    "```"
   ]
  },
  {
   "cell_type": "code",
   "execution_count": null,
   "metadata": {},
   "outputs": [],
   "source": [
    "import mod1"
   ]
  },
  {
   "cell_type": "code",
   "execution_count": null,
   "metadata": {},
   "outputs": [],
   "source": [
    "mod1.add(2,3)"
   ]
  },
  {
   "cell_type": "code",
   "execution_count": null,
   "metadata": {},
   "outputs": [],
   "source": [
    "import mod2"
   ]
  },
  {
   "cell_type": "code",
   "execution_count": null,
   "metadata": {},
   "outputs": [],
   "source": [
    "mod2.add(mod2.PI, 3)"
   ]
  },
  {
   "cell_type": "markdown",
   "metadata": {},
   "source": [
    "#### <참고> sys.path, sys.path.append, PYTHONPATH 환경 변수"
   ]
  },
  {
   "cell_type": "markdown",
   "metadata": {},
   "source": [
    "#### <참고>pip install package_name"
   ]
  },
  {
   "cell_type": "markdown",
   "metadata": {},
   "source": [
    "### 1.12 예제: 숫자 맞추기 게임"
   ]
  },
  {
   "cell_type": "code",
   "execution_count": null,
   "metadata": {},
   "outputs": [],
   "source": [
    "import random\n",
    "\n",
    "number = random.randint(1,100)\n",
    "ans = None\n",
    "\n",
    "while True:\n",
    "    print('종료하려면 quit를 입력하세요')\n",
    "    \n",
    "    ans = input('1 ~ 100 사이의 숫자를 선택하시오: ')\n",
    "    \n",
    "    # 프로그램 종료 체크\n",
    "    if ans == 'q' or ans == 'quit' or ans == 'exit':\n",
    "        print('프로그램을 종료합니다.')\n",
    "        break\n",
    "        \n",
    "    # 숫자를 입력했는지 체크\n",
    "    if not ans.isdecimal():\n",
    "        print('{}은 잘못된 입력입니다.!!!'.format(ans))\n",
    "        continue\n",
    "    \n",
    "    # 입력값을 숫자로 변환\n",
    "    num = int(ans)\n",
    "    \n",
    "    # 1 ~ 100 사이의 숫자인지 체크\n",
    "    if num < 1 or num >100:\n",
    "        print('{}는 1 ~ 100 사이의 숫자가 아닙니다'.format(num))\n",
    "        continue\n",
    "    \n",
    "    # 정답 체크\n",
    "    if num == number:\n",
    "        print('축하합니다.')\n",
    "        print('정답입니다 ==> {}'.format(num))\n",
    "        print('프로그램을 종료합니다.')\n",
    "        break\n",
    "    \n",
    "    if num > number:\n",
    "        print('정답은 {}보다 작은수 입니다.'.format(num))\n",
    "        continue\n",
    "        \n",
    "    if num < number:\n",
    "        print('정답은 {}보다 큰수 입니다.'.format(num))\n",
    "        continue\n",
    "        "
   ]
  },
  {
   "cell_type": "markdown",
   "metadata": {},
   "source": [
    "---"
   ]
  },
  {
   "cell_type": "code",
   "execution_count": null,
   "metadata": {},
   "outputs": [],
   "source": [
    "# end of file"
   ]
  },
  {
   "cell_type": "code",
   "execution_count": null,
   "metadata": {},
   "outputs": [],
   "source": []
  },
  {
   "cell_type": "markdown",
   "metadata": {},
   "source": [
    "# 105. 객체지향 프로그래밍(Class) I"
   ]
  },
  {
   "cell_type": "markdown",
   "metadata": {},
   "source": [
    "### 1.1 객체와 클래스"
   ]
  },
  {
   "cell_type": "markdown",
   "metadata": {},
   "source": [
    "- 클래스\n",
    "- 인스턴스\n",
    "- 객체(object)"
   ]
  },
  {
   "cell_type": "code",
   "execution_count": null,
   "metadata": {},
   "outputs": [],
   "source": [
    "class Car:\n",
    "    def __init__(self):\n",
    "        self._speed = 0\n",
    "        print('자동차가 생성되었습니다.')\n",
    "\n",
    "    def get_speed(self):\n",
    "        return self._speed\n",
    "\n",
    "    def start(self):\n",
    "        self._speed = 20\n",
    "        print('자동차가 출발합니다.')\n",
    "\n",
    "    def accelerate(self):\n",
    "        self._speed = self._speed + 30\n",
    "        print('자동차가 가속합니다.')\n",
    "\n",
    "    def stop(self):\n",
    "        self._speed = 0\n",
    "        print('자동차가 정지합니다.')\n",
    "\n",
    "# main\n",
    "\n",
    "my_car = Car()\n",
    "my_car.start()\n",
    "print('속도 1: ', my_car.get_speed() )\n",
    "my_car.accelerate()\n",
    "print('속도 2: ', my_car.get_speed() )\n",
    "my_car.stop()\n",
    "print('속도 3: ', my_car.get_speed() )\n"
   ]
  },
  {
   "cell_type": "markdown",
   "metadata": {},
   "source": [
    "### 1.2 self"
   ]
  },
  {
   "cell_type": "code",
   "execution_count": null,
   "metadata": {},
   "outputs": [],
   "source": [
    "class Car:\n",
    "    def __init__(self):\n",
    "        self._speed = 0\n",
    "\n",
    "    def get_speed(self):\n",
    "        return self._speed\n",
    "\n",
    "    def start(self):\n",
    "        self._speed = 20\n",
    "\n",
    "    def accelerate(self):\n",
    "        self._speed = self._speed + 30\n",
    "\n",
    "    def stop(self):\n",
    "        self._speed = 0\n",
    "\n",
    "# main\n",
    "\n",
    "my_car1 = Car()\n",
    "my_car2 = Car()\n",
    "\n",
    "my_car1.start()\n",
    "my_car2.start()\n",
    "\n",
    "my_car1.accelerate()\n",
    "\n",
    "my_car2.accelerate()\n",
    "my_car2.accelerate()\n",
    "\n",
    "print('첫번째 자동차 속도: ', my_car1.get_speed() )\n",
    "print('두번째 자동차 속도: ', my_car2.get_speed() )\n",
    "\n",
    "my_car1.stop()\n",
    "my_car2.stop()\n"
   ]
  },
  {
   "cell_type": "code",
   "execution_count": null,
   "metadata": {
    "scrolled": true
   },
   "outputs": [],
   "source": [
    "class Radio:\n",
    "    def __init__(self):\n",
    "        print('라디오가 생성되었습니다.')\n",
    "        pass\n",
    "\n",
    "    def turn_on(self):\n",
    "        print('라디오를 켭니다')\n",
    "        \n",
    "    def turn_off(self):\n",
    "        print('라디오를 끕니다')\n",
    "\n",
    "\n",
    "class Car:\n",
    "    def __init__(self):\n",
    "        self._speed = 0\n",
    "        print('자동차가 생성되었습니다.')\n",
    "        self._radio = Radio()\n",
    "\n",
    "    def get_speed(self):\n",
    "        return self._speed\n",
    "\n",
    "    def start(self):\n",
    "        self._speed = 20\n",
    "        print('자동차가 출발합니다.')\n",
    "\n",
    "    def accelerate(self):\n",
    "        self._speed = self._speed + 30\n",
    "        print('자동차가 가속합니다.')\n",
    "\n",
    "    def stop(self):\n",
    "        self._speed = 0\n",
    "        print('자동차가 정지합니다.')\n",
    "\n",
    "    def turn_on_radio(self):\n",
    "        self._radio.turn_on()\n",
    "\n",
    "    def turn_off_radio(self):\n",
    "        self._radio.turn_off()\n",
    "\n",
    "# main\n",
    "\n",
    "my_car = Car()\n",
    "my_car.start()\n",
    "my_car.turn_on_radio()\n",
    "my_car.accelerate()\n",
    "my_car.turn_off_radio()\n",
    "my_car.stop()\n"
   ]
  },
  {
   "cell_type": "markdown",
   "metadata": {},
   "source": [
    "### 1.3 모듈과 클래스"
   ]
  },
  {
   "cell_type": "markdown",
   "metadata": {},
   "source": [
    "#### vehicle.py\n",
    "\n",
    "```python\n",
    "\n",
    "def change_km_to_mile(km):\n",
    "    return km * 0.621371\n",
    "\n",
    "def change_mile_to_km(mile):\n",
    "    return mile * 1.609344\n",
    "\n",
    "\n",
    "class Car:\n",
    "    def __init__(self):\n",
    "        self._speed = 0\n",
    "\n",
    "    def get_speed(self):\n",
    "        return self._speed\n",
    "\n",
    "    def start(self):\n",
    "        self._speed = 20\n",
    "\n",
    "    def accelerate(self):\n",
    "        self._speed = self._speed + 30\n",
    "\n",
    "    def stop(self):\n",
    "        self._speed = 0\n",
    "\n",
    "class Truck:\n",
    "    def __init__(self):\n",
    "        self._speed = 0\n",
    "\n",
    "    def get_speed(self):\n",
    "        return self._speed\n",
    "\n",
    "    def start(self):\n",
    "        self._speed = 10\n",
    "\n",
    "    def accelerate(self):\n",
    "        self._speed = self._speed + 20\n",
    "\n",
    "    def stop(self):\n",
    "        self._speed = 0\n",
    "\n",
    "\n",
    "if __name__ == '__main__':\n",
    "    my_car = Car()\n",
    "    my_car.start()\n",
    "    my_car.accelerate()\n",
    "    print('속도: ', my_car.get_speed() )\n",
    "    my_car.stop()\n",
    "```\n",
    "\n",
    "** name 변수란? **\n",
    "\n",
    "파이썬의 name 변수는 파이썬이 내부적으로 사용하는 특별한 변수 이름이다. 만약 C:\\doit>pythonmod1.py처럼 직접 mod1.py 파일을 실행할 경우 mod1.py의 name 변수에는 main 값이 저장된다. 하지만 파이썬 셸이나 다른 파이썬 모듈에서 mod1을 import 할 경우에는 mod1.py의 name 변수에는 mod1.py의 모듈 이름 값 mod1이 저장된다.\n"
   ]
  },
  {
   "cell_type": "code",
   "execution_count": null,
   "metadata": {},
   "outputs": [],
   "source": [
    "import vehicle\n",
    "#import vehicle as vh\n",
    "#from vehicle import *\n",
    "\n",
    "my_car = vehicle.Car()\n",
    "#my_car = vh.Car()\n",
    "#my_car = Car()\n",
    "\n",
    "my_car.start()\n",
    "my_car.accelerate()\n",
    "\n",
    "speed_mile = vehicle.change_km_to_mile(my_car.get_speed())\n",
    "#speed_mile = vh.change_km_to_mile(my_car.get_speed())\n",
    "#speed_mile = change_km_to_mile(my_car.get_speed())\n",
    "\n",
    "print('속도: ', speed_mile, 'mile' )\n",
    "\n",
    "my_car.stop()\n"
   ]
  },
  {
   "cell_type": "markdown",
   "metadata": {},
   "source": [
    "### 1.4 클래스와 데이터 타입"
   ]
  },
  {
   "cell_type": "code",
   "execution_count": null,
   "metadata": {},
   "outputs": [],
   "source": [
    "type(1)\n",
    "type(3.14)\n",
    "isinstance(1, int)\n",
    "\n",
    "type('Hello World')\n",
    "isinstance('Hello World', str)\n",
    "\n",
    "type([1,2,3])\n",
    "isinstance([1,2,3], list)\n",
    "\n",
    "type({'line':1, 'rectangle':2, 'triangle':3})\n",
    "isinstance({'line':1, 'rectangle':2, 'triangle':3}, dict)\n"
   ]
  },
  {
   "cell_type": "code",
   "execution_count": null,
   "metadata": {},
   "outputs": [],
   "source": [
    "from vehicle import *\n",
    "\n",
    "my_car = Car()\n",
    "type(my_car)\n",
    "isinstance(my_car, Car)\n",
    "\n",
    "my_truck = Truck()\n",
    "type(my_truck)\n",
    "isinstance(my_truck, Truck)\n"
   ]
  },
  {
   "cell_type": "markdown",
   "metadata": {},
   "source": [
    "### 1.5 캡슐화와 접근지정"
   ]
  },
  {
   "cell_type": "markdown",
   "metadata": {},
   "source": [
    "- 캡슐화(encapsulation)\n",
    "- 상속성(inheritance)\n",
    "- 다형성(polymorphism)"
   ]
  },
  {
   "cell_type": "code",
   "execution_count": null,
   "metadata": {},
   "outputs": [],
   "source": [
    "# access_modifiers1\n",
    "\n",
    "class Car:\n",
    "    def __init__(self):\n",
    "        self.price = 2000\n",
    "        self._speed = 0\n",
    "        self.__color = 'red'\n",
    "\n",
    "my_car = Car()\n",
    "print(my_car.price)\n",
    "print(my_car._speed)\n",
    "print(my_car.__color)\n"
   ]
  },
  {
   "cell_type": "code",
   "execution_count": null,
   "metadata": {},
   "outputs": [],
   "source": [
    "# access_modifiers2\n",
    "\n",
    "class Car:\n",
    "    def __init__(self):\n",
    "        self._price = 0\n",
    "        self._speed = 0\n",
    "        self._color = None\n",
    "\n",
    "    def get_price(self):\n",
    "        return self._price\n",
    "\n",
    "    def set_price(self, value):\n",
    "        self._price = value\n",
    "\n",
    "    def get_speed(self):\n",
    "        return self._speed\n",
    "\n",
    "    def set_speed(self, value):\n",
    "        self._speed = value\n",
    "\n",
    "    def get_color(self):\n",
    "        return self._color\n",
    "\n",
    "    def set_color(self, value):\n",
    "        self._color = value\n",
    "\n",
    "# main\n",
    "\n",
    "my_car = Car()\n",
    "\n",
    "my_car.set_price(2000)\n",
    "my_car.set_speed(20)\n",
    "my_car.set_color('red')\n",
    "\n",
    "print('가격: ', my_car.get_price())\n",
    "print('속도: ', my_car.get_speed())\n",
    "print('색상: ', my_car.get_color())\n"
   ]
  },
  {
   "cell_type": "markdown",
   "metadata": {},
   "source": [
    "### 1.6 property 이용하기"
   ]
  },
  {
   "cell_type": "code",
   "execution_count": null,
   "metadata": {},
   "outputs": [],
   "source": [
    "# car_property1\n",
    "\n",
    "class Car:\n",
    "    def __init__(self):\n",
    "        self._price = 0\n",
    "        self._speed = 0\n",
    "        self._color = None\n",
    "\n",
    "    @property\n",
    "    def price(self):\n",
    "        return self._price\n",
    "        \n",
    "    @price.setter\n",
    "    def price(self, value):\n",
    "        self._price = value\n",
    "\n",
    "    @property\n",
    "    def speed(self):\n",
    "        return self._speed\n",
    "\n",
    "    @speed.setter\n",
    "    def speed(self, value):\n",
    "        self._speed = value\n",
    "\n",
    "    @property\n",
    "    def color(self):\n",
    "        return self._color\n",
    "\n",
    "    @color.setter\n",
    "    def color(self, value):\n",
    "        self._color = value\n",
    "\n",
    "# main\n",
    "\n",
    "my_car = Car()\n",
    "\n",
    "my_car.price = 2000\n",
    "my_car.speed = 20\n",
    "my_car.color = 'red'\n",
    "\n",
    "print('가격: ', my_car.price)\n",
    "print('속도: ', my_car.speed)\n",
    "print('색상: ', my_car.color)\n"
   ]
  },
  {
   "cell_type": "code",
   "execution_count": null,
   "metadata": {},
   "outputs": [],
   "source": [
    "# car_property2\n",
    "\n",
    "class Car:\n",
    "    def __init__(self):\n",
    "        self._price = 0\n",
    "        self._speed = 0\n",
    "        self._color = None\n",
    "\n",
    "    def get_price(self):\n",
    "        return self._price\n",
    "        \n",
    "    def set_price(self, value):\n",
    "        self._price = value\n",
    "    \n",
    "    price = property(get_price, set_price)\n",
    "\n",
    "    def get_speed(self):\n",
    "        return self._speed\n",
    "\n",
    "    def set_speed(self, value):\n",
    "        self._speed = value\n",
    "\n",
    "    speed = property(get_speed, set_speed)\n",
    "    \n",
    "    def get_color(self):\n",
    "        return self._color\n",
    "\n",
    "    def set_color(self, value):\n",
    "        self._color = value\n",
    "        \n",
    "    color = property(get_color, set_color)\n",
    "\n",
    "# main\n",
    "\n",
    "my_car = Car()\n",
    "\n",
    "my_car.price = 2000\n",
    "my_car.speed = 20\n",
    "my_car.color = 'red'\n",
    "\n",
    "print('가격: ', my_car.price)\n",
    "print('속도: ', my_car.speed)\n",
    "print('색상: ', my_car.color)\n"
   ]
  },
  {
   "cell_type": "markdown",
   "metadata": {},
   "source": [
    "### 1.7 예제: 요일 구하기(객체지향)"
   ]
  },
  {
   "cell_type": "code",
   "execution_count": null,
   "metadata": {},
   "outputs": [],
   "source": [
    "# 년월일을 입력받는 함수\n",
    "# 반환값: 년월일을 튜플형태로 반환\n",
    "def input_date():\n",
    "    year  = int(input('년도를 입력하시오: '))\n",
    "    month = int(input('월을 입력하시오: '))\n",
    "    day   = int(input('일을 입력하시오: '))\n",
    "    \n",
    "    return year, month, day\n"
   ]
  },
  {
   "cell_type": "code",
   "execution_count": null,
   "metadata": {},
   "outputs": [],
   "source": [
    "# DayName 클래스\n",
    "\n",
    "class DayName(object):\n",
    "\n",
    "    # DayName 클래스 생성자\n",
    "    def __init__(self, year, month, day):\n",
    "        self._year  = year\n",
    "        self._month = month\n",
    "        self._day   = day\n",
    "        self._name  = None\n",
    "        \n",
    "        self._year_month_days = [0,31,28,31,30,31,30,31,31,30,31,30,31]\n",
    "        self._day_names = ['일요일','월요일','화요일','수요일','목요일','금요일','토요일']\n",
    "        \n",
    "        # 요일을 계산한다\n",
    "        self._calculate_day_name()\n",
    "        \n",
    "    # 윤년인지를 체크하는 메서드\n",
    "    def _is_leap(self, year):\n",
    "        if year % 400 == 0:                 # 400으로 나뉘는 해: 윤년\n",
    "            return True\n",
    "        elif year % 100 == 0:               # 100으로 나뉘는 해: 평년\n",
    "            return False\n",
    "        elif year % 4 == 0:                 # 4으로 나뉘는 해  : 윤년\n",
    "            return True\n",
    "        else:\n",
    "            return False\n",
    "    \n",
    "    # 요일을 계산하는 메서드\n",
    "    def _calculate_day_name(self):\n",
    "    \n",
    "        total_days = 0\n",
    "        \n",
    "        for item in range(1, self._year):\n",
    "            if self._is_leap(item):\n",
    "                total_days = total_days + 366\n",
    "            else:\n",
    "                total_days = total_days + 365\n",
    "\n",
    "        for item in range(1, self._month):\n",
    "            total_days = total_days + self._year_month_days[item]\n",
    "\n",
    "        if month >= 3:\n",
    "            if self._is_leap(self._year):\n",
    "                total_days = total_days + 1\n",
    "\n",
    "        total_days += self._day\n",
    "        remainder = total_days % 7\n",
    "        \n",
    "        self._name = self._day_names[remainder]\n",
    "    \n",
    "    # 요일 이름을 반환하는 메서드\n",
    "    def get_name(self):\n",
    "        return self._name\n",
    "    "
   ]
  },
  {
   "cell_type": "code",
   "execution_count": null,
   "metadata": {},
   "outputs": [],
   "source": [
    "# main\n",
    "\n",
    "year, month, day = input_date()\n",
    "\n",
    "day_name = DayName(year, month, day)\n",
    "\n",
    "print( day_name.get_name())\n"
   ]
  },
  {
   "cell_type": "markdown",
   "metadata": {},
   "source": [
    "### 1.8 예제: 성적 처리 시스템(객체지향)"
   ]
  },
  {
   "cell_type": "code",
   "execution_count": null,
   "metadata": {},
   "outputs": [],
   "source": [
    "# student\n",
    "\n",
    "class Student(object):\n",
    "\n",
    "    def __init__(self, num, name, kor, eng, math):\n",
    "    \n",
    "        # 학생의 속성\n",
    "        self._num  = num\n",
    "        self._name = name\n",
    "        self._kor  = kor\n",
    "        self._eng  = eng\n",
    "        self._math = math\n",
    "        \n",
    "        self._total = 0\n",
    "        self._avg   = 0.0\n",
    "        self._order = 0\n",
    "        \n",
    "        # 총점과 평균을 구한다.\n",
    "        self._calculate_total()\n",
    "        self._calculate_avg()\n",
    "    \n",
    "    def _calculate_total(self):\n",
    "        self._total = self._kor + self._eng + self._math\n",
    "        \n",
    "    def _calculate_avg(self):\n",
    "        self._avg = self._total / 3\n",
    "    \n",
    "    @property\n",
    "    def num(self):\n",
    "        return self._num\n",
    "        \n",
    "    @property\n",
    "    def name(self):\n",
    "        return self._name\n",
    "        \n",
    "    @property\n",
    "    def kor(self):\n",
    "        return self._kor\n",
    "        \n",
    "    @property\n",
    "    def eng(self):\n",
    "        return self._eng\n",
    "        \n",
    "    @property\n",
    "    def math(self):\n",
    "        return self._math\n",
    "        \n",
    "    @property\n",
    "    def total(self):\n",
    "        return self._total\n",
    "        \n",
    "    @property\n",
    "    def avg(self):\n",
    "        return self._avg\n",
    "        \n",
    "    @property\n",
    "    def order(self):\n",
    "        return self._order\n",
    "        \n",
    "    @order.setter\n",
    "    def order(self, value):\n",
    "        self._order = value\n"
   ]
  },
  {
   "cell_type": "code",
   "execution_count": null,
   "metadata": {},
   "outputs": [],
   "source": [
    "# grade_system\n",
    "\n",
    "class StudentGradeSystem(object):\n",
    "\n",
    "    def __init__(self):\n",
    "    \n",
    "        # 학생 객체를 저장할 리스트\n",
    "        self._students = []\n",
    "        \n",
    "        # 반 성적을 저장할 속성\n",
    "        self._class_avg = 0.0\n",
    "        self._kor_avg   = 0.0\n",
    "        self._eng_avg   = 0.0\n",
    "        self._math_avg  = 0.0\n",
    "\n",
    "    # 학생 등수를 구한다.\n",
    "    def _calculate_student_order(self):\n",
    "        temp_students = sorted(self._students, key = lambda x: x.total, reverse = True)\n",
    "        \n",
    "        order = 1\n",
    "        for student in temp_students:\n",
    "            student.order = order\n",
    "            order = order + 1\n",
    "            \n",
    "        self._students = temp_students\n",
    "    \n",
    "    # 반 평균을 구한다.\n",
    "    def _calculate_class_avg(self):\n",
    "        total = 0\n",
    "        \n",
    "        for student in self._students:\n",
    "            total = total + student.total\n",
    "        \n",
    "        self._class_avg = total / len(self._students)\n",
    "\n",
    "    # 국어 평균을 구한다.\n",
    "    def _calculate_kor_avg(self):\n",
    "        total = 0\n",
    "        \n",
    "        for student in self._students:\n",
    "            total = total + student.kor\n",
    "        \n",
    "        self._kor_avg = total / len(self._students)\n",
    "\n",
    "    # 영어 평균을 구한다.\n",
    "    def _calculate_eng_avg(self):\n",
    "        total = 0\n",
    "        \n",
    "        for student in self._students:\n",
    "            total = total + student.eng\n",
    "        \n",
    "        self._eng_avg = total / len(self._students)\n",
    "\n",
    "    # 수학 평균을 구한다.\n",
    "    def _calculate_math_avg(self):\n",
    "        total = 0\n",
    "        \n",
    "        for student in self._students:\n",
    "            total = total + student.math\n",
    "        \n",
    "        self._math_avg = total / len(self._students)\n",
    "\n",
    "    # 반 성적 정보를 구한다.\n",
    "    def _calculate_class_information(self):\n",
    "        self._calculate_class_avg()\n",
    "        self._calculate_kor_avg()\n",
    "        self._calculate_eng_avg()\n",
    "        self._calculate_math_avg()\n",
    "\n",
    "    # 학생 객체를 등록한다.\n",
    "    def register_student(self, student):\n",
    "        self._students.append(student)\n",
    "\n",
    "    # 학생 성적 및 반 성적을 처리한다.\n",
    "    def process(self):\n",
    "        self._calculate_student_order()         # 학생 순위를 구한다.\n",
    "        self._calculate_class_information()     # 반 성적 정보를 구한다.\n",
    "\n",
    "    # 학생 성적을 출력한다.\n",
    "    def print_students(self):\n",
    "        for student in self._students:\n",
    "            print('번호: {:s}, 이름: {:s}, 국어: {:d}, 영어: {:d}, 수학: {:d}, 총점: {:d}, 평균: {:.2f}, 등수: {:d}'.format(\n",
    "                   student.num, student.name,\n",
    "                   student.kor, student.eng, student.math,\n",
    "                   student.total, student.avg, student.order)\n",
    "                 )\n",
    "\n",
    "    # 반 성적 정보를 출력한다.\n",
    "    def print_class_information(self):\n",
    "        print('반 평균  : {:.2f}'.format(self._class_avg))\n",
    "        print('국어 평균: {:.2f}'.format(self._kor_avg)  ) \n",
    "        print('영어 평균: {:.2f}'.format(self._eng_avg)  )\n",
    "        print('수학 평균: {:.2f}'.format(self._math_avg) )\n"
   ]
  },
  {
   "cell_type": "code",
   "execution_count": null,
   "metadata": {},
   "outputs": [],
   "source": [
    "# main\n",
    "\n",
    "student_grade_system = StudentGradeSystem()\n",
    "\n",
    "student = Student('1', '김철수', 90, 80, 85)\n",
    "student_grade_system.register_student(student)\n",
    "\n",
    "student = Student('2', '박제동', 90, 85, 90)\n",
    "student_grade_system.register_student(student)\n",
    "\n",
    "student = Student('3', '홍길동', 80, 80, 80)\n",
    "student_grade_system.register_student(student)\n",
    "\n",
    "student_grade_system.process()\n",
    "student_grade_system.print_students()\n",
    "print()\n",
    "student_grade_system.print_class_information()\n"
   ]
  },
  {
   "cell_type": "markdown",
   "metadata": {},
   "source": [
    "---"
   ]
  },
  {
   "cell_type": "code",
   "execution_count": null,
   "metadata": {},
   "outputs": [],
   "source": [
    "# end of file"
   ]
  },
  {
   "cell_type": "code",
   "execution_count": null,
   "metadata": {},
   "outputs": [],
   "source": []
  },
  {
   "cell_type": "markdown",
   "metadata": {},
   "source": [
    "# 106. 객체지향 프로그래밍(Class) II"
   ]
  },
  {
   "cell_type": "markdown",
   "metadata": {},
   "source": [
    "### 1.1 상속"
   ]
  },
  {
   "cell_type": "code",
   "execution_count": null,
   "metadata": {},
   "outputs": [],
   "source": [
    "# sportcar_example1\n",
    "\n",
    "class SportCar(object):\n",
    "    def __init__(self):\n",
    "        self._speed = 0\n",
    "\n",
    "    def get_speed(self):\n",
    "        return self._speed\n",
    "\n",
    "    def start(self):\n",
    "        self._speed = 20\n",
    "\n",
    "    def accelerate(self):\n",
    "        self._speed = self._speed + 40\n",
    "        \n",
    "    def turbocharge(self):\n",
    "        self._speed = self._speed + 70\n",
    "\n",
    "    def stop(self):\n",
    "        self._speed = 0\n",
    "\n",
    "# main\n",
    "\n",
    "my_sportcar = SportCar()\n",
    "my_sportcar.start()\n",
    "print('속도 1: ', my_sportcar.get_speed() )\n",
    "my_sportcar.accelerate()\n",
    "print('속도 2: ', my_sportcar.get_speed() )\n",
    "my_sportcar.turbocharge()\n",
    "print('속도 3: ', my_sportcar.get_speed() )\n",
    "my_sportcar.stop()\n"
   ]
  },
  {
   "cell_type": "markdown",
   "metadata": {},
   "source": [
    "#### <참고> 밑줄 2개로 시작하는 속성이나 메소드는 상속되지 않는다."
   ]
  },
  {
   "cell_type": "code",
   "execution_count": null,
   "metadata": {},
   "outputs": [],
   "source": [
    "# sportcar_example2\n",
    "\n",
    "class Car(object):\n",
    "    def __init__(self):\n",
    "        self._speed = 0\n",
    "\n",
    "    @property\n",
    "    def speed(self):\n",
    "        return self._speed\n",
    "\n",
    "    def start(self):\n",
    "        self._speed = 20\n",
    "\n",
    "    def accelerate(self):\n",
    "        self._speed = self._speed + 30\n",
    "        \n",
    "    def stop(self):\n",
    "        self._speed = 0\n",
    "        \n",
    "class SportCar(Car):\n",
    "    def __init__(self):\n",
    "        self._color = 'red'\n",
    "\n",
    "    def accelerate(self):                  # 오버라이딩(Overriding, 재정의)\n",
    "        self._speed = self._speed + 40\n",
    "        \n",
    "    def turbocharge(self):                 # 메소드 추가\n",
    "        self._speed = self._speed + 70\n",
    "\n",
    "    @property\n",
    "    def color(self):\n",
    "        return self._color\n",
    "\n",
    "# main\n",
    "\n",
    "my_sportcar = SportCar()\n",
    "print('색상: ', my_sportcar.color )\n",
    "my_sportcar.start()\n",
    "print('속도 1: ', my_sportcar.speed )\n",
    "my_sportcar.accelerate()\n",
    "print('속도 2: ', my_sportcar.speed )\n",
    "my_sportcar.turbocharge()\n",
    "print('속도 3: ', my_sportcar.speed )\n",
    "my_sportcar.stop()\n"
   ]
  },
  {
   "cell_type": "markdown",
   "metadata": {},
   "source": [
    "### 1.2 다형성(Polymorphism)"
   ]
  },
  {
   "cell_type": "code",
   "execution_count": null,
   "metadata": {},
   "outputs": [],
   "source": [
    "# airforce\n",
    "\n",
    "# 인터페이스(Interface)\n",
    "\n",
    "class AirForce(object):\n",
    "\n",
    "    def take_off(self):\n",
    "        pass\n",
    "    \n",
    "    def fly(self):\n",
    "        pass\n",
    "    \n",
    "    def attack(self):\n",
    "        pass\n",
    "    \n",
    "    def land(self):\n",
    "        pass\n",
    "    "
   ]
  },
  {
   "cell_type": "code",
   "execution_count": null,
   "metadata": {},
   "outputs": [],
   "source": [
    "# fighter\n",
    "\n",
    "# 전투기 클래스\n",
    "class Fighter(AirForce):\n",
    "\n",
    "    def __init__(self, weapon_num):\n",
    "        self._missile_num = weapon_num\n",
    "    \n",
    "    def take_off(self):\n",
    "        print('전투기 발진')\n",
    "    \n",
    "    def fly(self):\n",
    "        print('전투기 목표지로 출격')\n",
    "    \n",
    "    def attack(self):\n",
    "        for i in range(self._missile_num):\n",
    "            print('미사일 발사')\n",
    "            self._missile_num -= 1\n",
    "    \n",
    "    def land(self):\n",
    "        print('전투기 착륙')\n",
    "    "
   ]
  },
  {
   "cell_type": "code",
   "execution_count": null,
   "metadata": {},
   "outputs": [],
   "source": [
    "# bomber\n",
    "\n",
    "# 폭격기 클래스\n",
    "class Bomber(AirForce):\n",
    "\n",
    "    def __init__(self, bomb_num):\n",
    "        self._bomb_num = bomb_num\n",
    "    \n",
    "    def take_off(self):\n",
    "        print('폭격기 발진')\n",
    "    \n",
    "    def fly(self):\n",
    "        print('폭격기 목표지로 출격')\n",
    "    \n",
    "    def attack(self):\n",
    "        for i in range(self._bomb_num):\n",
    "            print('폭탄 투하')\n",
    "            self._bomb_num -= 1\n",
    "    \n",
    "    def land(self):\n",
    "        print('폭격기 착륙')\n",
    "    "
   ]
  },
  {
   "cell_type": "code",
   "execution_count": null,
   "metadata": {},
   "outputs": [],
   "source": [
    "# war_game\n",
    "\n",
    "def war_game(airforce):\n",
    "    airforce.take_off()\n",
    "    airforce.fly()\n",
    "    airforce.attack()\n",
    "    airforce.land()\n",
    "\n",
    "# main\n",
    "\n",
    "f15 = Fighter(3)\n",
    "war_game(f15)\n",
    "\n",
    "print()\n",
    "\n",
    "b29 = Bomber(3)\n",
    "war_game(b29)\n"
   ]
  },
  {
   "cell_type": "markdown",
   "metadata": {},
   "source": [
    "### 1.3 인스턴스 속성과 클래스 속성"
   ]
  },
  {
   "cell_type": "code",
   "execution_count": null,
   "metadata": {},
   "outputs": [],
   "source": [
    "# class_variable\n",
    "\n",
    "class Circle(object):\n",
    "\n",
    "    PI = 3.14    # 클래스 변수\n",
    "    \n",
    "    def __init__(self, radius):\n",
    "        self._radius = radius\n",
    "    \n",
    "    @property\n",
    "    def radius(self):\n",
    "        return self._radius\n",
    "\n",
    "    # 원의 면적을 구한다.\n",
    "    def get_area(self):\n",
    "        area = Circle.PI * (self._radius ** 2)    # 클래스명을 이용해서 클래스 변수에 접근\n",
    "        return round(area, 2)\n",
    "\n",
    "    # 원의 둘레를 구한다.\n",
    "    def get_circumference(self):\n",
    "        circumference = 2 * self.PI * self._radius\n",
    "        return round(circumference, 2)\n",
    "\n",
    "# main\n",
    "\n",
    "print('원주율(클래스 변수): ', Circle.PI)    # 클래스명을 이용해서 클래스 변수에 접근\n",
    "\n",
    "circle1 = Circle(3)\n",
    "print('반지름: {}, 면적: {}'.format(circle1.radius, circle1.get_area() ))\n",
    "print('반지름: {}, 둘레: {}'.format(circle1.radius, circle1.get_circumference() ))\n",
    "\n",
    "circle2 = Circle(4)\n",
    "print('반지름: {}, 면적: {}'.format(circle2.radius, circle2.get_area() ))\n",
    "print('반지름: {}, 둘레: {}'.format(circle2.radius, circle2.get_circumference() ))\n"
   ]
  },
  {
   "cell_type": "markdown",
   "metadata": {},
   "source": [
    "### 1.4 인스턴스 메서드, 클래스 메서드, 정적 메서드"
   ]
  },
  {
   "cell_type": "markdown",
   "metadata": {},
   "source": [
    "#### <참고> 유틸리티 클래스: 클래스 메서드, 정적 메서드들로만 이루어진 클래스"
   ]
  },
  {
   "cell_type": "code",
   "execution_count": null,
   "metadata": {},
   "outputs": [],
   "source": [
    "# classmethod_example\n",
    "\n",
    "class CircleCalculator(object):\n",
    "\n",
    "    __PI = 3.14    # 외부 접근 허용 불가\n",
    "    \n",
    "    # __init__(self) 메서드가 필요없음\n",
    "    \n",
    "    # 원의 면적을 구하는 클래스 메서드\n",
    "    @classmethod\n",
    "    def calculate_area(cls, radius):       # 인자로 cls를 필요로 한다.\n",
    "        area = cls.__PI * (radius ** 2)    # cls를 이용해서 클래스 변수에 접근\n",
    "        return round(area, 2)\n",
    "\n",
    "    # 원의 둘레를 구하는 클래스 메서드\n",
    "    @classmethod\n",
    "    def calculate_circumference(cls, radius):\n",
    "        circumference = 2 * cls.__PI * radius\n",
    "        return round(circumference, 2)\n",
    "\n",
    "# main\n",
    "\n",
    "print('반지름: 3, 면적: {}'.format(CircleCalculator.calculate_area(3)))\n",
    "print('반지름: 3, 둘레: {}'.format(CircleCalculator.calculate_circumference(3)))\n"
   ]
  },
  {
   "cell_type": "code",
   "execution_count": null,
   "metadata": {},
   "outputs": [],
   "source": [
    "# staticmethod_example\n",
    "\n",
    "class CircleCalculator(object):\n",
    "\n",
    "    # __init__(self) 메서드가 필요없음\n",
    "    \n",
    "    # 원의 면적을 구하는 정적 메서드\n",
    "    @staticmethod\n",
    "    def calculate_area(radius, pi):        # 호출시 필요한 인자만 사용 (self, cls 필요없음)\n",
    "        area = pi * (radius ** 2)\n",
    "        return round(area, 2)\n",
    "\n",
    "    # 원의 둘레를 구하는 정적 메서드\n",
    "    @staticmethod\n",
    "    def calculate_circumference(radius, pi):\n",
    "        circumference = 2 * pi * radius\n",
    "        return round(circumference, 2)\n",
    "\n",
    "# main\n",
    "\n",
    "print('반지름: 3, 면적: {}'.format(CircleCalculator.calculate_area(3, 3.14)))\n",
    "print('반지름: 3, 둘레: {}'.format(CircleCalculator.calculate_circumference(3, 3.14)))\n"
   ]
  },
  {
   "cell_type": "markdown",
   "metadata": {},
   "source": [
    "### 1.5 예제: 요일 구하기(객체지향 II) - classmethod"
   ]
  },
  {
   "cell_type": "code",
   "execution_count": null,
   "metadata": {},
   "outputs": [],
   "source": [
    "# calculate_day_name_classmethod\n",
    "\n",
    "class DayNameCalculator(object):\n",
    "\n",
    "    # 클래스 속성 정의\n",
    "    _year_month_days = [0,31,28,31,30,31,30,31,31,30,31,30,31]\n",
    "    _day_names = ['일요일','월요일','화요일','수요일','목요일','금요일','토요일']\n",
    "        \n",
    "    # 년월일을 입력받는 클래스 메서드\n",
    "    @classmethod\n",
    "    def input_date(cls):\n",
    "        year  = int(input('년도를 입력하시오: '))\n",
    "        month = int(input('월을 입력하시오: '))\n",
    "        day   = int(input('일을 입력하시오: '))\n",
    "    \n",
    "        return year, month, day\n",
    "\n",
    "    # 윤년인지를 체크하는 클래스 메서드\n",
    "    @classmethod\n",
    "    def _is_leap(cls, year):\n",
    "        if year % 400 == 0:                 # 400으로 나뉘는 해: 윤년\n",
    "            return True\n",
    "        elif year % 100 == 0:               # 100으로 나뉘는 해: 평년\n",
    "            return False\n",
    "        elif year % 4 == 0:                 # 4으로 나뉘는 해  : 윤년\n",
    "            return True\n",
    "        else:\n",
    "            return False\n",
    "    \n",
    "    # 요일을 계산하는 클래스 메서드\n",
    "    @classmethod\n",
    "    def calculate(cls, year, month, day):\n",
    "    \n",
    "        total_days = 0\n",
    "        \n",
    "        for item in range(1, year):\n",
    "            if cls._is_leap(item):\n",
    "                total_days += 366\n",
    "            else:\n",
    "                total_days += 365\n",
    "\n",
    "        for item in range(1, month):\n",
    "            total_days += cls._year_month_days[item]\n",
    "\n",
    "        if month >= 3:\n",
    "            if cls._is_leap(year):\n",
    "                total_days += 1\n",
    "\n",
    "        total_days += day\n",
    "        \n",
    "        remainder = total_days % 7\n",
    "        \n",
    "        return cls._day_names[remainder]\n",
    "    "
   ]
  },
  {
   "cell_type": "code",
   "execution_count": null,
   "metadata": {},
   "outputs": [],
   "source": [
    "# main\n",
    "\n",
    "year, month, day = DayNameCalculator.input_date()\n",
    "\n",
    "day_name = DayNameCalculator.calculate(year, month, day)    # 객체 생성 없이 클래스 메서드 호출\n",
    "\n",
    "print(day_name)\n"
   ]
  },
  {
   "cell_type": "markdown",
   "metadata": {},
   "source": [
    "### 1.6 예제: 요일 구하기(객체지향 II) - staticmethod"
   ]
  },
  {
   "cell_type": "code",
   "execution_count": null,
   "metadata": {},
   "outputs": [],
   "source": [
    "# calculate_day_name_staticmethod\n",
    "\n",
    "class DayNameCalculator(object):\n",
    "\n",
    "    # 클래스 속성 정의\n",
    "    _year_month_days = [0,31,28,31,30,31,30,31,31,30,31,30,31]\n",
    "    _day_names = ['일요일','월요일','화요일','수요일','목요일','금요일','토요일']\n",
    "        \n",
    "    # 년월일을 입력받는 정적 메서드\n",
    "    @staticmethod\n",
    "    def input_date():\n",
    "        year  = int(input('년도를 입력하시오: '))\n",
    "        month = int(input('월을 입력하시오: '))\n",
    "        day   = int(input('일을 입력하시오: '))\n",
    "    \n",
    "        return year, month, day\n",
    "\n",
    "    # 윤년인지를 체크하는 정적 메서드\n",
    "    @staticmethod\n",
    "    def _is_leap(year):\n",
    "        if year % 400 == 0:                 # 400으로 나뉘는 해: 윤년\n",
    "            return True\n",
    "        elif year % 100 == 0:               # 100으로 나뉘는 해: 평년\n",
    "            return False\n",
    "        elif year % 4 == 0:                 # 4으로 나뉘는 해  : 윤년\n",
    "            return True\n",
    "        else:\n",
    "            return False\n",
    "    \n",
    "    # 요일을 계산하는 정적 메서드\n",
    "    @staticmethod\n",
    "    def calculate(year, month, day):\n",
    "    \n",
    "        total_days = 0\n",
    "        \n",
    "        for item in range(1, year):\n",
    "            if DayNameCalculator._is_leap(item): # 클래스 속성(메소드)사용시: 클래스명으로 접근\n",
    "                total_days += 366\n",
    "            else:\n",
    "                total_days += 365\n",
    "\n",
    "        for item in range(1, month):\n",
    "            total_days += DayNameCalculator._year_month_days[item]\n",
    "\n",
    "        if month >= 3:\n",
    "            if DayNameCalculator._is_leap(year):\n",
    "                total_days += 1\n",
    "\n",
    "        total_days += day\n",
    "        \n",
    "        remainder = total_days % 7\n",
    "        \n",
    "        return DayNameCalculator._day_names[remainder]\n",
    "    "
   ]
  },
  {
   "cell_type": "code",
   "execution_count": null,
   "metadata": {},
   "outputs": [],
   "source": [
    "# main\n",
    "\n",
    "year, month, day = DayNameCalculator.input_date()\n",
    "\n",
    "day_name = DayNameCalculator.calculate(year, month, day)    # 객체 생성 없이 정적 메서드 호출\n",
    "\n",
    "print(day_name)\n"
   ]
  },
  {
   "cell_type": "markdown",
   "metadata": {},
   "source": [
    "#### <참고> 라이브러리 사용"
   ]
  },
  {
   "cell_type": "code",
   "execution_count": null,
   "metadata": {},
   "outputs": [],
   "source": [
    "import datetime\n",
    "\n",
    "date = datetime.date(2014,9,1)\n",
    "date.strftime('%A')\n"
   ]
  },
  {
   "cell_type": "markdown",
   "metadata": {},
   "source": [
    "### 1.7 특별 메서드(매직 메서드)"
   ]
  },
  {
   "cell_type": "code",
   "execution_count": null,
   "metadata": {},
   "outputs": [],
   "source": [
    "# car_special_method\n",
    "\n",
    "class Car(object):\n",
    "\n",
    "    def __init__(self, name):\n",
    "        self._name = name\n",
    "\n",
    "    def __str__(self):\n",
    "        return 'Type:  Car, Name: ' + self._name\n",
    "        \n",
    "my_car = Car('Sonata')\n",
    "my_car_string = str(my_car)\n",
    "\n",
    "print(my_car_string)\n",
    "\n",
    "print(my_car)\n"
   ]
  },
  {
   "cell_type": "code",
   "execution_count": null,
   "metadata": {},
   "outputs": [],
   "source": [
    "# car_special_method2\n",
    "\n",
    "# 숫자 '+' 연산\n",
    "\n",
    "class Car(object):\n",
    "\n",
    "    def __init__(self, price):\n",
    "        self._price = price\n",
    "\n",
    "    def __add__(self, val):\n",
    "        return self._price + val\n",
    "        \n",
    "    def __sub__(self, val):\n",
    "        return self._price - val\n",
    "        \n",
    "        \n",
    "my_car = Car(1000)\n",
    "\n",
    "print('더하기 연산: ', my_car + 200 )\n",
    "print('빼기   연산: ', my_car - 200 )\n"
   ]
  },
  {
   "cell_type": "code",
   "execution_count": null,
   "metadata": {},
   "outputs": [],
   "source": [
    "# car_special_method3\n",
    "\n",
    "# 문자열 '+' 연산\n",
    "\n",
    "class Car(object):\n",
    "\n",
    "    def __init__(self, name):\n",
    "        self._name = name\n",
    "\n",
    "    def __add__(self, sval):\n",
    "        return self._name + sval\n",
    "        \n",
    "my_car = Car('Sonata')\n",
    "\n",
    "print('더하기 연산: ', my_car + ' Add string' )\n"
   ]
  },
  {
   "cell_type": "code",
   "execution_count": null,
   "metadata": {},
   "outputs": [],
   "source": [
    "dir(my_car)"
   ]
  },
  {
   "cell_type": "markdown",
   "metadata": {},
   "source": [
    "#### 연산 관련 메서드\n",
    "<center>코드|<center>파이썬 호출|<center>설 명\n",
    ":---|:---|:---\n",
    "x + y  | x.\\_\\_add__(y)      |덧셈을 수행한다.\n",
    "x - y  | x.\\_\\_sub__(y)      |뺄셈을 수행한다.\n",
    "x * y  | x.\\_\\_mul__(y)      |곱셈을 수행한다.\n",
    "x / y  | x.\\_\\_truediv__(y)  |나눗셈을 수행한다.\n",
    "x // y | x.\\_\\_floordiv__(y) |나눗셈후 버림을 수행한다.\n",
    "x % y  | x.\\_\\_mod__(y)      |나머지 연산을 수행한다.\n",
    "x ** y | x.\\_\\_pow__(y)      |거듭제곱을 수행한다."
   ]
  },
  {
   "cell_type": "markdown",
   "metadata": {},
   "source": [
    "#### 비교 관련 메서드\n",
    "<center>코드|<center>파이썬 호출|<center>설명\n",
    ":---|:---|:---\n",
    "x == y | x.\\_\\_eq__(y)   |동등성을 평가한다.\n",
    "x != y | x.\\_\\_ne__(y)   |동등하지 않음을 평가한다.\n",
    "x < y  | x.\\_\\_lt__(y)   |보다 작음을 평가한다.\n",
    "x <= y | x.\\_\\_le__(y)   |같거나 작음을 평가한다.\n",
    "x > y  | x.\\_\\_gt__(y)   |보다 큼을 평가한다.\n",
    "x >= y | x.\\_\\_ge__(y)   |같거나 큼을 평가한다.\n",
    "if x:  | x.\\_\\_bool__(y) |x의 불린 값을 구한다."
   ]
  },
  {
   "cell_type": "markdown",
   "metadata": {},
   "source": [
    "---"
   ]
  },
  {
   "cell_type": "code",
   "execution_count": null,
   "metadata": {},
   "outputs": [],
   "source": [
    "# end of file"
   ]
  },
  {
   "cell_type": "code",
   "execution_count": null,
   "metadata": {},
   "outputs": [],
   "source": []
  },
  {
   "cell_type": "markdown",
   "metadata": {},
   "source": [
    "# 107. 파일 입출력"
   ]
  },
  {
   "cell_type": "markdown",
   "metadata": {},
   "source": [
    "### 1.1 파일 생성 및 열기"
   ]
  },
  {
   "cell_type": "markdown",
   "metadata": {},
   "source": [
    "<center>파일 열기 모드</center>| <center>설 명</center>\n",
    "----|----\n",
    "<center>'r'</center> | <div style=\"text-align: left\">읽기 모드로 연다. - Default</div>\n",
    "<center>'w'</center> | <div style=\"text-align: left\">쓰기 모드로 연다. - 기존 내용 삭제</div>\n",
    "<center>'a'</center> | <div style=\"text-align: left\">추가 모드로 연다.</div>    \n",
    "<center>'b'</center> | <div style=\"text-align: left\">이진 모드로 연다.</div>    \n",
    "<center>'t'</center> | <div style=\"text-align: left\">텍스트 모드로 연다. - Default</div>    "
   ]
  },
  {
   "cell_type": "markdown",
   "metadata": {},
   "source": [
    "#### write"
   ]
  },
  {
   "cell_type": "code",
   "execution_count": null,
   "metadata": {},
   "outputs": [],
   "source": [
    "fp = open('data/hello.txt', 'w')\n",
    "fp.write('Hello World!')\n",
    "fp.close()\n"
   ]
  },
  {
   "cell_type": "code",
   "execution_count": null,
   "metadata": {},
   "outputs": [],
   "source": [
    "fp = open('data/text.txt', 'w')\n",
    "fp.write('{}\\n'.format(1))\n",
    "fp.write('{:.2f}\\n'.format(3.1415))\n",
    "fp.write('Hello World\\n')\n",
    "fp.write('파이썬 문자열입니다\\n')\n",
    "fp.close()\n",
    " "
   ]
  },
  {
   "cell_type": "markdown",
   "metadata": {},
   "source": [
    "#### read line: 한줄씩 읽기"
   ]
  },
  {
   "cell_type": "code",
   "execution_count": null,
   "metadata": {},
   "outputs": [],
   "source": [
    "fp = open('data/text.txt', 'r')\n",
    "line = fp.readline()\n",
    "print(line.strip())\n",
    "\n",
    "line = fp.readline()\n",
    "print(line.strip())\n",
    "\n",
    "line = fp.readline()\n",
    "print(line.strip())\n",
    "\n",
    "line = fp.readline()\n",
    "print(line.strip())\n",
    "\n",
    "fp.close()\n"
   ]
  },
  {
   "cell_type": "code",
   "execution_count": null,
   "metadata": {},
   "outputs": [],
   "source": [
    "f = open(\"text.txt\", ’w’)\n",
    "f.write(\"Life is too short, you need python\")\n",
    "f.close()\n",
    "\n",
    "# 파일을 열면 위와 같이 항상 close해 주는 것이 좋다. 하지만 이렇게 파일을 열고 닫는 것을 자동으로 처리할 수 있다면 편리하지 않을까?\n",
    "# 파이썬의 with문이 바로 이런 역할을 해준다. 다음 예는with문을 사용해서 위 예제를 다시 작성한 모습이다.\n",
    "\n",
    "with open(\"foo.txt\", \"w\") as f:\n",
    "    f.write(\"Life is too short, you need python\")\n",
    "\n",
    "# with문을 사용하면 with 블록을 벗어나는 순간 열린 파일 객체 f가 자동으로 close되어 편리하다.\n"
   ]
  },
  {
   "cell_type": "markdown",
   "metadata": {},
   "source": [
    "#### read lines: 여러줄을 한번에 읽어 리스트에 저장하기"
   ]
  },
  {
   "cell_type": "code",
   "execution_count": null,
   "metadata": {},
   "outputs": [],
   "source": [
    "fp = open('data/text.txt', 'r')\n",
    "lines = fp.readlines()\n",
    "print(lines)\n",
    "\n",
    "fp.close()\n"
   ]
  },
  {
   "cell_type": "markdown",
   "metadata": {},
   "source": [
    "#### read: 파일 내용 모두 읽기"
   ]
  },
  {
   "cell_type": "code",
   "execution_count": null,
   "metadata": {},
   "outputs": [],
   "source": [
    "fp = open('data/text.txt', 'r')\n",
    "contents = fp.read()\n",
    "print(contents)\n",
    "\n",
    "fp.close()\n"
   ]
  },
  {
   "cell_type": "markdown",
   "metadata": {},
   "source": [
    "#### 중요 파일 메서드와 속성\n",
    "\n",
    "<center>메서드| <center>설 명\n",
    ":---|:---\n",
    "read([size])        | <div style=\"text-align: left\">파일에서 데이터를 읽어서 문자열로 반환한다. <br> size 인자를 사용해서 몇 바이트를 읽을 것인지 지정할 수 있다.\n",
    "readline([size])    | <div style=\"text-align: left\">파일에서 한 줄을 읽어 문자열로 반환한다. <br> size 인자를 사용해서 몇 바이트를 읽을 것인지 지정할 수 있다.\n",
    "readlines([size])   | <div style=\"text-align: left\">파일의 매 줄을 모두 읽어 리스트로 반환한다. <br> size 인자를 사용해서 몇 바이트를 읽을 것인지 지정할 수 있다.\n",
    "write(str)          | <div style=\"text-align: left\">전달받은 문자열을 파일에 기록한다.\n",
    "writelines(strings) | <div style=\"text-align: left\">전달받은 문자열 리스트를 파일에 기록한다.\n",
    "close()             | <div style=\"text-align: left\">파일 핸들을 닫는다.\n",
    "flush()             | <div style=\"text-align: left\">내부 I/O 버퍼를 디스크로 비운다.\n",
    "seek(pos)           | <div style=\"text-align: left\">파일 내에서 지정한 위치(정수)로 이동한다.\n",
    "tell()              | <div style=\"text-align: left\">현재 파일의 위치(정수)를 반환한다.\n"
   ]
  },
  {
   "cell_type": "markdown",
   "metadata": {},
   "source": [
    "### 1.2 직렬화 / 역직렬화 (serialize / deserialize)"
   ]
  },
  {
   "cell_type": "markdown",
   "metadata": {},
   "source": [
    "#### <참고> Protocol Buffers"
   ]
  },
  {
   "cell_type": "code",
   "execution_count": null,
   "metadata": {},
   "outputs": [],
   "source": [
    "# pickle_dump\n",
    "\n",
    "import pickle\n",
    "\n",
    "fp = open('data/binary.dat', 'wb')\n",
    "\n",
    "pickle.dump(1, fp)\n",
    "pickle.dump(3.14, fp)\n",
    "pickle.dump('Hello World', fp)\n",
    "pickle.dump('파이썬 문자열입니다', fp)\n",
    "pickle.dump([1,2,3], fp)\n",
    "pickle.dump((1,2,3), fp)\n",
    "pickle.dump({'line':0, 'rectangle':1, 'triangle':2}, fp)\n",
    "\n",
    "fp.close()\n"
   ]
  },
  {
   "cell_type": "code",
   "execution_count": null,
   "metadata": {},
   "outputs": [],
   "source": [
    "# pickle_load\n",
    "\n",
    "import pickle\n",
    "\n",
    "fp = open('data/binary.dat', 'rb')\n",
    "\n",
    "data = pickle.load(fp)\n",
    "print(data)\n",
    "\n",
    "data = pickle.load(fp)\n",
    "print(data)\n",
    "\n",
    "data = pickle.load(fp)\n",
    "print(data)\n",
    "\n",
    "data = pickle.load(fp)\n",
    "print(data)\n",
    "\n",
    "data = pickle.load(fp)\n",
    "print(data)\n",
    "\n",
    "data = pickle.load(fp)\n",
    "print(data)\n",
    "\n",
    "data = pickle.load(fp)\n",
    "print(data)\n",
    "\n",
    "\n",
    "fp.close()\n"
   ]
  },
  {
   "cell_type": "markdown",
   "metadata": {},
   "source": [
    "### 1.3 with 문"
   ]
  },
  {
   "cell_type": "code",
   "execution_count": null,
   "metadata": {},
   "outputs": [],
   "source": [
    "with open('data/text.txt', 'rt') as fp:\n",
    "    lines = fp.readlines()\n",
    "    \n",
    "    for line in lines:\n",
    "        print(line.strip())\n",
    "\n",
    "print('Done!')\n"
   ]
  },
  {
   "cell_type": "markdown",
   "metadata": {},
   "source": [
    "### 1.4 예제: 성적 처리 시스템(파일 입출력)"
   ]
  },
  {
   "cell_type": "code",
   "execution_count": null,
   "metadata": {},
   "outputs": [],
   "source": [
    "# student.py\n",
    "\n",
    "class Student(object):\n",
    "\n",
    "    def __init__(self, num, name, kor, eng, math):\n",
    "    \n",
    "        # 학생의 속성\n",
    "        self._num  = num\n",
    "        self._name = name\n",
    "        self._kor  = kor\n",
    "        self._eng  = eng\n",
    "        self._math = math\n",
    "        \n",
    "        self._total = 0\n",
    "        self._avg   = 0.0\n",
    "        self._order = 0\n",
    "        \n",
    "        # 총점과 평균을 구한다.\n",
    "        self._calculate_total()\n",
    "        self._calculate_avg()\n",
    "    \n",
    "    def _calculate_total(self):\n",
    "        self._total = self._kor + self._eng + self._math\n",
    "        \n",
    "    def _calculate_avg(self):\n",
    "        self._avg = self._total / 3\n",
    "    \n",
    "    @property\n",
    "    def num(self):\n",
    "        return self._num\n",
    "        \n",
    "    @property\n",
    "    def name(self):\n",
    "        return self._name\n",
    "        \n",
    "    @property\n",
    "    def kor(self):\n",
    "        return self._kor\n",
    "        \n",
    "    @property\n",
    "    def eng(self):\n",
    "        return self._eng\n",
    "        \n",
    "    @property\n",
    "    def math(self):\n",
    "        return self._math\n",
    "        \n",
    "    @property\n",
    "    def total(self):\n",
    "        return self._total\n",
    "        \n",
    "    @property\n",
    "    def avg(self):\n",
    "        return self._avg\n",
    "        \n",
    "    @property\n",
    "    def order(self):\n",
    "        return self._order\n",
    "        \n",
    "    @order.setter\n",
    "    def order(self, value):\n",
    "        self._order = value\n"
   ]
  },
  {
   "cell_type": "code",
   "execution_count": null,
   "metadata": {},
   "outputs": [],
   "source": [
    "# grade_system\n",
    "\n",
    "class StudentGradeSystem(object):\n",
    "\n",
    "    # StudentGradeSystem 객체의 생성자, 성적 파일을 입력 받는다.\n",
    "    def __init__(self, score_file):\n",
    "    \n",
    "        self._score_file = score_file\n",
    "    \n",
    "        # 학생 객체를 저장할 리스트\n",
    "        self._students = []\n",
    "        \n",
    "        # 반 성적을 저장할 속성\n",
    "        self._class_avg = 0.0\n",
    "        self._kor_avg   = 0.0\n",
    "        self._eng_avg   = 0.0\n",
    "        self._math_avg  = 0.0\n",
    "        \n",
    "        self._register_students()\n",
    "    \n",
    "    # 성적 파일로부터 학생 데이터를 입력 받는다\n",
    "    def _register_students(self):\n",
    "        with open(self._score_file, 'rt', encoding='cp949') as fp:\n",
    "            lines = fp.readlines()\n",
    "            \n",
    "            for line in lines:\n",
    "                items = (line.strip()).split(',')\n",
    "                \n",
    "                num  = items[0]\n",
    "                name = items[1]\n",
    "                kor  = int(items[2])\n",
    "                eng  = int(items[3])\n",
    "                math = int(items[4])\n",
    "                \n",
    "                student = Student(num, name, kor, eng, math)\n",
    "                self._students.append(student)\n",
    "                \n",
    "    # 학생 등수를 구한다.\n",
    "    def _calculate_student_order(self):\n",
    "        temp_students = sorted(self._students, key = lambda x: x.total, reverse = True)\n",
    "        \n",
    "        order = 1\n",
    "        for student in temp_students:\n",
    "            student.order = order\n",
    "            order = order + 1\n",
    "            \n",
    "        self._students = temp_students\n",
    "    \n",
    "    # 반 평균을 구한다.\n",
    "    def _calculate_class_avg(self):\n",
    "        total = 0\n",
    "        \n",
    "        for student in self._students:\n",
    "            total = total + student.total\n",
    "        \n",
    "        self._class_avg = total / len(self._students)\n",
    "\n",
    "    # 국어 평균을 구한다.\n",
    "    def _calculate_kor_avg(self):\n",
    "        total = 0\n",
    "        \n",
    "        for student in self._students:\n",
    "            total = total + student.kor\n",
    "        \n",
    "        self._kor_avg = total / len(self._students)\n",
    "\n",
    "    # 영어 평균을 구한다.\n",
    "    def _calculate_eng_avg(self):\n",
    "        total = 0\n",
    "        \n",
    "        for student in self._students:\n",
    "            total = total + student.eng\n",
    "        \n",
    "        self._eng_avg = total / len(self._students)\n",
    "\n",
    "    # 수학 평균을 구한다.\n",
    "    def _calculate_math_avg(self):\n",
    "        total = 0\n",
    "        \n",
    "        for student in self._students:\n",
    "            total = total + student.math\n",
    "        \n",
    "        self._math_avg = total / len(self._students)\n",
    "\n",
    "    # 반 성적 정보를 구한다.\n",
    "    def _calculate_class_information(self):\n",
    "        self._calculate_class_avg()\n",
    "        self._calculate_kor_avg()\n",
    "        self._calculate_eng_avg()\n",
    "        self._calculate_math_avg()\n",
    "\n",
    "    # 학생 객체를 등록한다.\n",
    "    def register_student(self, student):\n",
    "        self._students.append(student)\n",
    "\n",
    "    # 학생 성적 및 반 성적을 처리한다.\n",
    "    def process(self):\n",
    "        self._calculate_student_order()         # 학생 순위를 구한다.\n",
    "        self._calculate_class_information()     # 반 성적 정보를 구한다.\n",
    "\n",
    "    # 처리된 성적 내용을 output_file에 출력한다.\n",
    "    def output_result(self, output_file):\n",
    "    \n",
    "        student_output_format =  '번호: {:2}, 이름: {}, 국어: {}, 영어: {}, 수학: {}, 총점: {}, 평균: {:.2f}, 등수: {}\\n'\n",
    "        \n",
    "        with open(output_file, 'wt') as fp:\n",
    "            for student in self._students:\n",
    "                student_output = student_output_format.format(\n",
    "                                     student.num, student.name,\n",
    "                                     student.kor, student.eng, student.math,\n",
    "                                     student.total, student.avg, student.order)\n",
    "                fp.write(student_output)\n",
    "    \n",
    "            fp.write('\\n')\n",
    "            fp.write('반 평균  : {:.2f}\\n'.format(self._class_avg))\n",
    "            fp.write('국어 평균: {:.2f}\\n'.format(self._kor_avg)  ) \n",
    "            fp.write('영어 평균: {:.2f}\\n'.format(self._eng_avg)  )\n",
    "            fp.write('수학 평균: {:.2f}\\n'.format(self._math_avg) )\n",
    "            \n",
    "        print('성적 처리가 끝났습니다.')\n"
   ]
  },
  {
   "cell_type": "code",
   "execution_count": null,
   "metadata": {},
   "outputs": [],
   "source": [
    "# main\n",
    "\n",
    "# 성적이 기록된 파일을 읽는다.\n",
    "student_grade_system = StudentGradeSystem('data/score.csv')\n",
    "\n",
    "# 성적을 처리한다. - 총점, 평균, 등수 등을 계산\n",
    "student_grade_system.process()\n",
    "\n",
    "# 처리된 성적을 파일에 기록한다.\n",
    "student_grade_system.output_result('data/result.csv')\n"
   ]
  },
  {
   "cell_type": "markdown",
   "metadata": {},
   "source": [
    "---"
   ]
  },
  {
   "cell_type": "markdown",
   "metadata": {},
   "source": [
    "# 2. 예외 처리"
   ]
  },
  {
   "cell_type": "markdown",
   "metadata": {},
   "source": [
    "### 2.1 예외 처리"
   ]
  },
  {
   "cell_type": "markdown",
   "metadata": {},
   "source": [
    "- 정상종료\n",
    "- 문법 오류\n",
    "- 논리 오류\n",
    "- 예외"
   ]
  },
  {
   "cell_type": "code",
   "execution_count": null,
   "metadata": {},
   "outputs": [],
   "source": [
    "# exception_divide1\n",
    "\n",
    "def divide(m, n):\n",
    "    return m / n\n",
    "\n",
    "result = divide(3, 2)\n",
    "print(result)\n",
    "\n",
    "result = divide(3, 0)\n",
    "print(result)\n"
   ]
  },
  {
   "cell_type": "code",
   "execution_count": null,
   "metadata": {},
   "outputs": [],
   "source": [
    "# exception_divide\n",
    "\n",
    "def divide(m, n):\n",
    "    try:\n",
    "        result = m / n\n",
    "    \n",
    "    except ZeroDivisionError:\n",
    "        print('0으로 나눌 수 없습니다.')\n",
    "    \n",
    "    except:\n",
    "        print('ZeroDivisionError 이외의 예외가 발생했습니다.')\n",
    "    \n",
    "    else:\n",
    "        return result\n",
    "    \n",
    "    finally:\n",
    "        print('나눗셈 연산입니다.')\n",
    "\n",
    "res = divide(3, 2)\n",
    "print(res)\n",
    "print()\n",
    "\n",
    "res = divide(3, 0)\n",
    "print(res)\n",
    "print()\n",
    "\n",
    "res = divide(None, 0)\n",
    "print(res)\n"
   ]
  },
  {
   "cell_type": "markdown",
   "metadata": {},
   "source": [
    "### 2.2 예외 발생시키기"
   ]
  },
  {
   "cell_type": "code",
   "execution_count": null,
   "metadata": {},
   "outputs": [],
   "source": [
    "raise TypeError"
   ]
  },
  {
   "cell_type": "code",
   "execution_count": null,
   "metadata": {},
   "outputs": [],
   "source": [
    "raise TypeError('타입 오류입니다.')"
   ]
  },
  {
   "cell_type": "code",
   "execution_count": null,
   "metadata": {},
   "outputs": [],
   "source": [
    "try:\n",
    "    raise TypeError('타입 오류입니다.', '이것은 예제입니다.')\n",
    "\n",
    "except TypeError as e:\n",
    "    print(e.args)\n",
    "    "
   ]
  },
  {
   "cell_type": "markdown",
   "metadata": {},
   "source": [
    "### 2.3 사용자 정의 예외"
   ]
  },
  {
   "cell_type": "code",
   "execution_count": null,
   "metadata": {},
   "outputs": [],
   "source": [
    "# age_exception\n",
    "\n",
    "# 사용자 정의 예외를 정의 했습니다.\n",
    "class AgeException(Exception):\n",
    "\n",
    "    def __init__(self, msg):\n",
    "        self._message = msg\n",
    "    \n",
    "# 입력 함수\n",
    "def input_age():\n",
    "    age = int(input('나이를 입력해 주세요: '))\n",
    "        \n",
    "    if age < 0:\n",
    "        raise AgeException('나이는 음수가 될 수 없습니다.')\n",
    "    elif age > 150:\n",
    "        raise AgeException('150세 이상 살 수 있을까요?')\n",
    "    else:\n",
    "        return age\n",
    "    \n",
    "# main\n",
    "\n",
    "try:\n",
    "    age = input_age()\n",
    "    \n",
    "except AgeException as e:\n",
    "    print(e.args[0])\n",
    "    \n",
    "else:\n",
    "    print('나이는 {}세입니다.'.format(age))\n",
    "    \n",
    "    "
   ]
  },
  {
   "cell_type": "markdown",
   "metadata": {},
   "source": [
    "---"
   ]
  },
  {
   "cell_type": "code",
   "execution_count": null,
   "metadata": {},
   "outputs": [],
   "source": [
    "# end of file"
   ]
  },
  {
   "cell_type": "code",
   "execution_count": null,
   "metadata": {},
   "outputs": [],
   "source": []
  },
  {
   "cell_type": "markdown",
   "metadata": {},
   "source": [
    "# 연습 101 : 파이썬 기초문법"
   ]
  },
  {
   "cell_type": "markdown",
   "metadata": {},
   "source": [
    "---"
   ]
  },
  {
   "cell_type": "code",
   "execution_count": null,
   "metadata": {},
   "outputs": [],
   "source": [
    "money = 10000\n",
    "\n",
    "if money > 3000:\n",
    "    print('택시타기')\n",
    "    print('카카오택시 콜')\n",
    "else:\n",
    "    print('버스타기')\n",
    "    print('걸어가기')"
   ]
  },
  {
   "cell_type": "code",
   "execution_count": null,
   "metadata": {},
   "outputs": [],
   "source": [
    "is_there_money = True\n",
    "if is_there_money:\n",
    "    print('택시타기')\n",
    "else:\n",
    "    print('버스타기')"
   ]
  },
  {
   "cell_type": "code",
   "execution_count": null,
   "metadata": {},
   "outputs": [],
   "source": [
    "money = 3000\n",
    "\n",
    "if money == 3000:\n",
    "    print('버스타기')\n",
    "else:\n",
    "    print('택시타기')"
   ]
  },
  {
   "cell_type": "code",
   "execution_count": null,
   "metadata": {},
   "outputs": [],
   "source": [
    "age = 60\n",
    "\n",
    "if age >= 50:\n",
    "    print('%d살: 50대 이상!' % age)\n",
    "elif 40 <= age < 50:\n",
    "    print('{}살: 40대!'.format(age))\n",
    "elif 30 <= age < 40:\n",
    "    print('{}살: 30대!'.format(age))\n",
    "else:\n",
    "    print('{}살: 20대나 10대군요?'.format(age))"
   ]
  },
  {
   "cell_type": "markdown",
   "metadata": {},
   "source": [
    "---"
   ]
  },
  {
   "cell_type": "code",
   "execution_count": null,
   "metadata": {},
   "outputs": [],
   "source": [
    "increment = 0\n",
    "\n",
    "while increment < 10:\n",
    "    print(increment)\n",
    "    increment += 1"
   ]
  },
  {
   "cell_type": "code",
   "execution_count": null,
   "metadata": {},
   "outputs": [],
   "source": [
    "increment = 10\n",
    "\n",
    "while increment > 0:\n",
    "    print(increment)\n",
    "    increment -= 1"
   ]
  },
  {
   "cell_type": "code",
   "execution_count": null,
   "metadata": {},
   "outputs": [],
   "source": [
    "increment = 10\n",
    "\n",
    "while True:\n",
    "    print(increment)\n",
    "    increment -= 1\n",
    "    if increment == 0:\n",
    "        break"
   ]
  },
  {
   "cell_type": "code",
   "execution_count": null,
   "metadata": {},
   "outputs": [],
   "source": [
    "range(4)"
   ]
  },
  {
   "cell_type": "code",
   "execution_count": null,
   "metadata": {},
   "outputs": [],
   "source": [
    "for item in range(4):\n",
    "    print(item)"
   ]
  },
  {
   "cell_type": "code",
   "execution_count": null,
   "metadata": {},
   "outputs": [],
   "source": [
    "for item in range(1, 4):\n",
    "    print(item)"
   ]
  },
  {
   "cell_type": "code",
   "execution_count": null,
   "metadata": {},
   "outputs": [],
   "source": [
    "for item in range(1, 10, 2):\n",
    "    print(item)"
   ]
  },
  {
   "cell_type": "code",
   "execution_count": null,
   "metadata": {},
   "outputs": [],
   "source": [
    "for item in ['냉장고', '세탁기', '선풍기']:\n",
    "    print(item)"
   ]
  },
  {
   "cell_type": "code",
   "execution_count": null,
   "metadata": {},
   "outputs": [],
   "source": [
    "for item in '세탁기':\n",
    "    print(item)"
   ]
  },
  {
   "cell_type": "markdown",
   "metadata": {},
   "source": [
    "> **Q. 반복문, 조건문을 이용해서 아래 문제를 풀어보세요.**\n",
    "> - 놀이공원 입장비를 계산해보세요!\n",
    "- 입장비는 나이에 따라 다릅니다.\n",
    "- 사용자로부터 입장할 사람의 수를 무한대로 받을 수 있습니다.\n",
    "- 사용자가 엔터를 입력하면 끝나고 지금까지 구한 입장비의 총합을 구해서 출력합니다. "
   ]
  },
  {
   "cell_type": "markdown",
   "metadata": {},
   "source": [
    "알고리즘 (개발 순서)\n",
    "1. 먼저 고객의 나이를 받아 변수에 할당해둔다.\n",
    "2. 해당 변수의 값이 빈값이 아닌동안 아래 내용을 계속 실행한다.\n",
    "3. 조건문을 이용해서 해당 변수의 값이 연령대에 따라 total_price에 합산될 수 있도록 분기처리한다.\n",
    "4. 다 합산되었으면 다시 사용자로부터 값을 입력받아 해당 변수에 할당한다."
   ]
  },
  {
   "cell_type": "code",
   "execution_count": null,
   "metadata": {},
   "outputs": [],
   "source": [
    "# 가격\n",
    "BABY_PRICE  = 1000  # 유아\n",
    "CHILD_PRICE = 2000  # 청소년\n",
    "ADULT_PRICE = 3000  # 성인"
   ]
  },
  {
   "cell_type": "code",
   "execution_count": null,
   "metadata": {},
   "outputs": [],
   "source": [
    "# 연령대\n",
    "BABY_LIMIT  = 2   # 2세 이하는 1000원\n",
    "CHILD_LIMIT = 18  # 18세 이하는 2000원\n",
    "ADULT_LIMIT = 60  # 60세 이하는 3000원, 60세 이후부터 무료"
   ]
  },
  {
   "cell_type": "code",
   "execution_count": null,
   "metadata": {},
   "outputs": [],
   "source": [
    "total_price = 0\n",
    "age = input('고객의 나이를 입력하세요. (엔터는 종료)')\n",
    "\n",
    "while age != '':\n",
    "    age = int(age)\n",
    "    if age <= BABY_LIMIT:\n",
    "        total_price += BABY_PRICE\n",
    "    elif age <= CHILD_LIMIT:\n",
    "        total_price += CHILD_PRICE\n",
    "    elif age <= ADULT_LIMIT:\n",
    "        total_price += ADULT_PRICE\n",
    "    \n",
    "    age = input('고객의 나이를 입력하세요. (엔터는 종료)')\n",
    "\n",
    "print('총 합산 금액은 %d 입니다.' % total_price)"
   ]
  },
  {
   "cell_type": "code",
   "execution_count": null,
   "metadata": {},
   "outputs": [],
   "source": [
    "\n",
    "a = 100\n",
    "b = 10\n",
    "c = 20\n",
    "a = a + c\n",
    "a += 1\n",
    "a ++\n",
    "c ++\n",
    "c#\n",
    "print(a)"
   ]
  },
  {
   "cell_type": "markdown",
   "metadata": {},
   "source": [
    "---"
   ]
  },
  {
   "cell_type": "code",
   "execution_count": null,
   "metadata": {},
   "outputs": [],
   "source": [
    "name = '파이썬 문자열입니다'"
   ]
  },
  {
   "cell_type": "code",
   "execution_count": null,
   "metadata": {},
   "outputs": [],
   "source": [
    "for n in name:\n",
    "    print(n)"
   ]
  },
  {
   "cell_type": "code",
   "execution_count": null,
   "metadata": {},
   "outputs": [],
   "source": [
    "for n in name:\n",
    "    print(n, end='')"
   ]
  },
  {
   "cell_type": "code",
   "execution_count": null,
   "metadata": {},
   "outputs": [],
   "source": [
    "print('aaa', end = ' ')\n",
    "print('bbb')"
   ]
  },
  {
   "cell_type": "code",
   "execution_count": null,
   "metadata": {},
   "outputs": [],
   "source": [
    "for idx, n in enumerate(name):\n",
    "    print(idx, n)"
   ]
  },
  {
   "cell_type": "code",
   "execution_count": null,
   "metadata": {},
   "outputs": [],
   "source": [
    "for k, v in [(1,2),(3,4)]:\n",
    "    print(k, v)"
   ]
  },
  {
   "cell_type": "markdown",
   "metadata": {},
   "source": [
    "> **Q. 포수로 시작하는(startswith) 선수를 출력하라**"
   ]
  },
  {
   "cell_type": "code",
   "execution_count": null,
   "metadata": {},
   "outputs": [],
   "source": [
    "players = ['투수 임찬국', '투수 류제국 ', '내야수 오진환 ', ' 내야수 가르시아', ' 포수 정상호 ']"
   ]
  },
  {
   "cell_type": "code",
   "execution_count": null,
   "metadata": {},
   "outputs": [],
   "source": [
    "for item in players:\n",
    "    item = item.strip()\n",
    "    if item.startswith('포수'):\n",
    "        print(item)"
   ]
  },
  {
   "cell_type": "markdown",
   "metadata": {},
   "source": [
    "> **Q. 오진환 -> 오지환으로 바꾸어 출력해 보세요.**"
   ]
  },
  {
   "cell_type": "code",
   "execution_count": null,
   "metadata": {},
   "outputs": [],
   "source": [
    "players = ['투수 임찬국', '투수 류제국 ', '내야수 오진환 ', ' 내야수 가르시아', ' 포수 정상호 ']"
   ]
  },
  {
   "cell_type": "code",
   "execution_count": null,
   "metadata": {},
   "outputs": [],
   "source": [
    "for item in players:\n",
    "    item = item.strip()\n",
    "    if item.endswith('오진환'):\n",
    "        print(item.replace('진', '지'))"
   ]
  },
  {
   "cell_type": "code",
   "execution_count": null,
   "metadata": {},
   "outputs": [],
   "source": [
    "for item in players:\n",
    "    item = item.strip()\n",
    "    if item in ('내야수 오진환'):\n",
    "        print(item.replace('진', '지'))"
   ]
  },
  {
   "cell_type": "markdown",
   "metadata": {},
   "source": [
    "> **Q. 리스트에 있는 원소 중 문자값/Null을 제거한 리스트를 출력하라.**"
   ]
  },
  {
   "cell_type": "code",
   "execution_count": null,
   "metadata": {},
   "outputs": [],
   "source": [
    "lst = [1, 2, -8, None, 12, 0, 'NaN']"
   ]
  },
  {
   "cell_type": "code",
   "execution_count": null,
   "metadata": {},
   "outputs": [],
   "source": [
    "for item in lst:\n",
    "    if item is None:\n",
    "        lst.remove(item)\n",
    "\n",
    "print(lst)"
   ]
  },
  {
   "cell_type": "markdown",
   "metadata": {},
   "source": [
    "> **Q. 동물을 잡아서 출력하라!**\n",
    "\n",
    "> hint) 먼저는 문장 속 단어와 단어를 분리시켜야 합니다. 문자열을 공백을 기준으로 분리시키는 명령어가 무엇인지 생각해보세요."
   ]
  },
  {
   "cell_type": "code",
   "execution_count": null,
   "metadata": {},
   "outputs": [],
   "source": [
    "sentence = \"The quick brown fox jumps over the lazy dog\""
   ]
  },
  {
   "cell_type": "code",
   "execution_count": null,
   "metadata": {},
   "outputs": [],
   "source": [
    "for item in sentence.split(\" \"):\n",
    "    if item in ('fox', 'dog'):\n",
    "        print('animal:', item)"
   ]
  },
  {
   "cell_type": "markdown",
   "metadata": {},
   "source": [
    "> **Q. 포지션과 이름을 구분 지어서 튜플로 저장하고 이를 다시 리스트에 저장해보자.**\n",
    "\n",
    "> **[('투수', '임찬국'), ('투수', '류제국'), ('내야수', '오진환'), ('내야수', '가르시아'), ('포수', '정상호')]**"
   ]
  },
  {
   "cell_type": "code",
   "execution_count": null,
   "metadata": {},
   "outputs": [],
   "source": [
    "players = ['투수 임찬국', '투수 류제국', '내야수 오지환', '내야수 가르시아', '포수 정상호']"
   ]
  },
  {
   "cell_type": "code",
   "execution_count": null,
   "metadata": {},
   "outputs": [],
   "source": [
    "new_players = []\n",
    "for player in players:\n",
    "    p = player.split(\" \")\n",
    "    new_players.append((p[0], p[1]))\n",
    "\n",
    "print(new_players)"
   ]
  },
  {
   "cell_type": "markdown",
   "metadata": {},
   "source": [
    "> **Q. 아래 중첩 리스트로 구현된 4층짜리 아파트 호수가 있습니다. **\n",
    "\n",
    "> \n",
    "```python\n",
    "apart = [[101, 102, 103, 104], [201, 202, 203, 204], [301, 302, 302, 303], [401, 402, 403, 404]]\n",
    "unsubscribed = [101, 203, 301, 404]\n",
    "```"
   ]
  },
  {
   "cell_type": "code",
   "execution_count": null,
   "metadata": {},
   "outputs": [],
   "source": [
    "apart = [[101, 102, 103, 104], [201, 202, 203, 204], [301, 302, 302, 303], [401, 402, 403, 404]]\n",
    "unsubscribed = [101, 203, 301, 404]\n",
    "\n",
    "for floor in apart:\n",
    "    for house in floor:\n",
    "        if house in unsubscribed:\n",
    "            continue\n",
    "        else:\n",
    "            print(\"Newspaper delivery: \", house)"
   ]
  },
  {
   "cell_type": "markdown",
   "metadata": {},
   "source": [
    "#### 리스트 슬라이싱"
   ]
  },
  {
   "cell_type": "code",
   "execution_count": null,
   "metadata": {},
   "outputs": [],
   "source": [
    "a_list = [1, 2, 3, 4, 5]    # list\n",
    "\n",
    "a_list[2]    == 3           # 특정 위치의 원소 참조. 참조번호는 0번부터 시작.\n",
    "a_list[-1]   == 5           # 음수인 경우, 뒤에서부터 접근.\n",
    "a_list[2:4]  == [3,4,5]     # 참조번호 2부터 4까지를 잘라서(slice) 반환함.\n",
    "a_list[2:]   == [3,4,5]     # 참조번호 2부터 끝까지를 잘라서(slice) 반환함.\n",
    "a_list[:2]   == [1,2]       # 처음부터 참조번호 2까지를 잘라서(slice) 반환함.\n",
    "a_list[2::2] == [3,5]       # 참조번호 2부터 끝까지를 자르되, 2칸씩 건너뛰면서 잘라서(slice) 반환함."
   ]
  },
  {
   "cell_type": "markdown",
   "metadata": {},
   "source": [
    "> **Q. 아래 리스트에서 포지션을 제외하고 이름만 출력해보세요.**\n",
    "\n",
    "> **['투수 임찬국', '투수 류제국', '내야수 오지환', '포수 정상호']**"
   ]
  },
  {
   "cell_type": "code",
   "execution_count": null,
   "metadata": {},
   "outputs": [],
   "source": [
    "players = ['투수 임찬국', '투수 류제국', '내야수 오지환', '포수 정상호']"
   ]
  },
  {
   "cell_type": "code",
   "execution_count": null,
   "metadata": {},
   "outputs": [],
   "source": [
    "for p in players:\n",
    "    print(p[-3:])"
   ]
  },
  {
   "cell_type": "markdown",
   "metadata": {},
   "source": [
    "> **Q. 영어 과목의 점수를 출력해보고 미술 과목을 추가해보자.**"
   ]
  },
  {
   "cell_type": "code",
   "execution_count": null,
   "metadata": {},
   "outputs": [],
   "source": [
    "marks = {\n",
    "    '수학': 100,\n",
    "    '영어': 90,\n",
    "    '국어': 80\n",
    "}"
   ]
  },
  {
   "cell_type": "code",
   "execution_count": null,
   "metadata": {},
   "outputs": [],
   "source": [
    "marks['영어']"
   ]
  },
  {
   "cell_type": "code",
   "execution_count": null,
   "metadata": {},
   "outputs": [],
   "source": [
    "marks.get('영어')"
   ]
  },
  {
   "cell_type": "code",
   "execution_count": null,
   "metadata": {},
   "outputs": [],
   "source": [
    "marks['미술'] = 30"
   ]
  },
  {
   "cell_type": "code",
   "execution_count": null,
   "metadata": {},
   "outputs": [],
   "source": [
    "marks"
   ]
  },
  {
   "cell_type": "code",
   "execution_count": null,
   "metadata": {},
   "outputs": [],
   "source": [
    "print(marks.get('English', 100))"
   ]
  },
  {
   "cell_type": "code",
   "execution_count": null,
   "metadata": {},
   "outputs": [],
   "source": [
    "marks['Eng']"
   ]
  },
  {
   "cell_type": "code",
   "execution_count": null,
   "metadata": {},
   "outputs": [],
   "source": [
    "marks['미술'] = 70\n",
    "print(marks)"
   ]
  },
  {
   "cell_type": "code",
   "execution_count": null,
   "metadata": {},
   "outputs": [],
   "source": [
    "marks.keys()"
   ]
  },
  {
   "cell_type": "code",
   "execution_count": null,
   "metadata": {},
   "outputs": [],
   "source": [
    "marks.values()"
   ]
  },
  {
   "cell_type": "code",
   "execution_count": null,
   "metadata": {},
   "outputs": [],
   "source": [
    "marks.items()"
   ]
  },
  {
   "cell_type": "markdown",
   "metadata": {},
   "source": [
    "> **Q. 포지션별로 선수를 모아보세요.**"
   ]
  },
  {
   "cell_type": "code",
   "execution_count": null,
   "metadata": {},
   "outputs": [],
   "source": [
    "players = ['투수 임찬국', '투수 류제국', '내야수 오지환', '내야수 가르시아', '포수 정상호']"
   ]
  },
  {
   "cell_type": "markdown",
   "metadata": {},
   "source": [
    "{\n",
    "'투수': ['임찬국', '류제국'],\n",
    "'내야수': [],\n",
    "'포수': []\n",
    "}"
   ]
  },
  {
   "cell_type": "code",
   "execution_count": null,
   "metadata": {},
   "outputs": [],
   "source": [
    "by_position = {}\n",
    "\n",
    "for p in players:\n",
    "    item = p.split(\" \")\n",
    "    if item[0] not in by_position.keys():\n",
    "        by_position[item[0]] = []\n",
    "    by_position[item[0]].append(item[1])\n",
    "\n",
    "print(by_position)"
   ]
  },
  {
   "cell_type": "markdown",
   "metadata": {},
   "source": [
    "> **Q. 사용자에게 입력받은 단어의 점수를 Score Card에 따라 표시해보세요.**"
   ]
  },
  {
   "cell_type": "code",
   "execution_count": null,
   "metadata": {},
   "outputs": [],
   "source": [
    "alphabets = {\n",
    "    \"D\": 5, \"E\": 4, \"F\": 1, \"G\": 8, \"H\": 1,\n",
    "    \"J\": 7, \"K\": 9, \"L\": 2, \"M\": 1, \"N\": 10, \"O\": 2, \"P\": 7, \"Q\": 6,\n",
    "    \"R\": 8, \"S\": 10, \"T\": 9, \"U\": 3, \"V\": 4, \"W\": 3 , \"X\": 6, \"Y\": 6, \"Z\": 9\n",
    "}"
   ]
  },
  {
   "cell_type": "code",
   "execution_count": null,
   "metadata": {},
   "outputs": [],
   "source": [
    "word = input('단어를 입력하세요.').upper()\n",
    "\n",
    "score = 0\n",
    "for char in word:\n",
    "    score += alphabets.get(char, 0)\n",
    "\n",
    "print(score)"
   ]
  },
  {
   "cell_type": "markdown",
   "metadata": {},
   "source": [
    "> **Q. 3개의 인자값을 받아 평균을 반환하는 함수를 만들어보세요.**"
   ]
  },
  {
   "cell_type": "code",
   "execution_count": null,
   "metadata": {},
   "outputs": [],
   "source": [
    "def avg(n1, n2, n3):\n",
    "    return sum([n1, n2, n3]) / 3\n",
    "\n",
    "print(avg(1, 2, 3))"
   ]
  },
  {
   "cell_type": "markdown",
   "metadata": {},
   "source": [
    "> **Q. 미국에 있는 주(State)의 수도는 무엇인지 출력하는 함수 `find_capital`를 만들어보세요.**"
   ]
  },
  {
   "cell_type": "code",
   "execution_count": null,
   "metadata": {},
   "outputs": [],
   "source": [
    "# 미국의 주의 수도를 찾는 함수를 만드세요.\n",
    "STATES_CAPITALS = {\n",
    "    'Alabama': 'Montgomery',\n",
    "    'Alaska': 'Juneau',\n",
    "    'Arizona': 'Phoenix',\n",
    "    'Wyoming': 'Cheyenne',\n",
    "}\n",
    "\n",
    "# Write your code below.\n",
    "def find_capital(name):\n",
    "    return STATES_CAPITALS.get(name)\n",
    "\n",
    "print(find_capital('Alabama'))"
   ]
  },
  {
   "cell_type": "markdown",
   "metadata": {},
   "source": [
    "---"
   ]
  },
  {
   "cell_type": "code",
   "execution_count": null,
   "metadata": {},
   "outputs": [],
   "source": [
    "# end of file"
   ]
  },
  {
   "cell_type": "code",
   "execution_count": null,
   "metadata": {},
   "outputs": [],
   "source": []
  },
  {
   "cell_type": "code",
   "execution_count": null,
   "metadata": {},
   "outputs": [],
   "source": []
  }
 ],
 "metadata": {
  "kernelspec": {
   "display_name": "Python 3",
   "language": "python",
   "name": "python3"
  },
  "language_info": {
   "codemirror_mode": {
    "name": "ipython",
    "version": 3
   },
   "file_extension": ".py",
   "mimetype": "text/x-python",
   "name": "python",
   "nbconvert_exporter": "python",
   "pygments_lexer": "ipython3",
   "version": "3.7.3"
  },
  "toc": {
   "base_numbering": 1,
   "nav_menu": {},
   "number_sections": true,
   "sideBar": true,
   "skip_h1_title": false,
   "title_cell": "Table of Contents",
   "title_sidebar": "Contents",
   "toc_cell": false,
   "toc_position": {
    "height": "calc(100% - 180px)",
    "left": "10px",
    "top": "150px",
    "width": "371.594px"
   },
   "toc_section_display": true,
   "toc_window_display": true
  }
 },
 "nbformat": 4,
 "nbformat_minor": 2
}
